{
 "cells": [
  {
   "cell_type": "markdown",
   "metadata": {},
   "source": [
    "# Исследование поведения пользователей мобильного приложения\n",
    "<a id='beginning'></a>"
   ]
  },
  {
   "cell_type": "markdown",
   "metadata": {},
   "source": [
    "[`Ссылка на проект (ipynb)`](https://disk.yandex.ru/d/LW5X0z9YCMrPOA)"
   ]
  },
  {
   "cell_type": "markdown",
   "metadata": {
    "toc": true
   },
   "source": [
    "<h1>Содержание<span class=\"tocSkip\"></span></h1>\n",
    "<div class=\"toc\"><ul class=\"toc-item\"><li><span><a href=\"#Описание-проекта\" data-toc-modified-id=\"Описание-проекта-1\"><span class=\"toc-item-num\">1&nbsp;&nbsp;</span>Описание проекта</a></span></li><li><span><a href=\"#Загрузка-данных-и-изучение-общей-информации-о-датафрейме\" data-toc-modified-id=\"Загрузка-данных-и-изучение-общей-информации-о-датафрейме-2\"><span class=\"toc-item-num\">2&nbsp;&nbsp;</span>Загрузка данных и изучение общей информации о датафрейме</a></span></li><li><span><a href=\"#Предобработка-данных\" data-toc-modified-id=\"Предобработка-данных-3\"><span class=\"toc-item-num\">3&nbsp;&nbsp;</span>Предобработка данных</a></span></li><li><span><a href=\"#Исследовательский-анализ-данных\" data-toc-modified-id=\"Исследовательский-анализ-данных-4\"><span class=\"toc-item-num\">4&nbsp;&nbsp;</span>Исследовательский анализ данных</a></span><ul class=\"toc-item\"><li><span><a href=\"#Анализ-количества-событий-на-пользователя-в-логе\" data-toc-modified-id=\"Анализ-количества-событий-на-пользователя-в-логе-4.1\"><span class=\"toc-item-num\">4.1&nbsp;&nbsp;</span>Анализ количества событий на пользователя в логе</a></span></li><li><span><a href=\"#Анализ-периода-располагаемых-данных\" data-toc-modified-id=\"Анализ-периода-располагаемых-данных-4.2\"><span class=\"toc-item-num\">4.2&nbsp;&nbsp;</span>Анализ периода располагаемых данных</a></span></li><li><span><a href=\"#Проверка-наличия-и-качества-пользователей-в-экспериментальных-группах\" data-toc-modified-id=\"Проверка-наличия-и-качества-пользователей-в-экспериментальных-группах-4.3\"><span class=\"toc-item-num\">4.3&nbsp;&nbsp;</span>Проверка наличия и качества пользователей в экспериментальных группах</a></span></li></ul></li><li><span><a href=\"#Изучение-воронки-событий\" data-toc-modified-id=\"Изучение-воронки-событий-5\"><span class=\"toc-item-num\">5&nbsp;&nbsp;</span>Изучение воронки событий</a></span></li><li><span><a href=\"#Изучение-результатов-эксперимента\" data-toc-modified-id=\"Изучение-результатов-эксперимента-6\"><span class=\"toc-item-num\">6&nbsp;&nbsp;</span>Изучение результатов эксперимента</a></span><ul class=\"toc-item\"><li><span><a href=\"#Расчет-количества-пользователей-в-экспериментальных-группах\" data-toc-modified-id=\"Расчет-количества-пользователей-в-экспериментальных-группах-6.1\"><span class=\"toc-item-num\">6.1&nbsp;&nbsp;</span>Расчет количества пользователей в экспериментальных группах</a></span></li><li><span><a href=\"#Проверка-корректности-разбиения-на-экспериментальные-группы\" data-toc-modified-id=\"Проверка-корректности-разбиения-на-экспериментальные-группы-6.2\"><span class=\"toc-item-num\">6.2&nbsp;&nbsp;</span>Проверка корректности разбиения на экспериментальные группы</a></span></li><li><span><a href=\"#Анализ-результатов-проверки-гипотезы-об-изменении-шрифтов-в-мобильном-приложении\" data-toc-modified-id=\"Анализ-результатов-проверки-гипотезы-об-изменении-шрифтов-в-мобильном-приложении-6.3\"><span class=\"toc-item-num\">6.3&nbsp;&nbsp;</span>Анализ результатов проверки гипотезы об изменении шрифтов в мобильном приложении</a></span></li><li><span><a href=\"#Анализ-результатов-проверки-гипотезы-об-изменении-шрифтов-в-мобильном-приложении-с-измененным-уровнем-значимости\" data-toc-modified-id=\"Анализ-результатов-проверки-гипотезы-об-изменении-шрифтов-в-мобильном-приложении-с-измененным-уровнем-значимости-6.4\"><span class=\"toc-item-num\">6.4&nbsp;&nbsp;</span>Анализ результатов проверки гипотезы об изменении шрифтов в мобильном приложении с измененным уровнем значимости</a></span></li></ul></li><li><span><a href=\"#Общий-вывод\" data-toc-modified-id=\"Общий-вывод-7\"><span class=\"toc-item-num\">7&nbsp;&nbsp;</span>Общий вывод</a></span></li></ul></div>"
   ]
  },
  {
   "cell_type": "markdown",
   "metadata": {},
   "source": [
    "## Описание проекта\n",
    "[`Перейти к содержанию проекта`](#beginning)"
   ]
  },
  {
   "cell_type": "markdown",
   "metadata": {},
   "source": [
    "Необходимо разобраться, как ведут себя пользователи мобильного приложения стартапа, который продаёт продукты питания. \n",
    "\n",
    "**Цель исследования**    \n",
    "\n",
    "Выявить возможные точки роста для стартапа с точки зрения поведения пользователей.\n",
    "\n",
    "В процессе достижения цели необходимо: \n",
    "1. выявить, на каких этапах \"застревают\" пользователи, изучив <u>воронку продаж</u>;\n",
    "2. определить, какой шрифт для мобильного приложения лучше, проанализировав результаты проведенного <u>A/A/B теста</u>.\n",
    "\n",
    "\n",
    "**Описание данных**    \n",
    "\n",
    "В нашем распоряжении лог-файл, где каждая запись — это действие пользователя или событие `logs_exp.csv`:\n",
    "- `EventName` — название события;\n",
    "- `DeviceIDHash` — уникальный идентификатор пользователя;\n",
    "- `EventTimestamp` — время события;\n",
    "- `ExpId` — номер эксперимента: `246` и `247` — контрольные группы, а `248` — экспериментальная."
   ]
  },
  {
   "cell_type": "code",
   "execution_count": 174,
   "metadata": {},
   "outputs": [],
   "source": [
    "import pandas as pd\n",
    "import datetime as dt\n",
    "import math as mth\n",
    "import matplotlib.pyplot as plt\n",
    "from scipy import stats as st\n",
    "import plotly.graph_objects as go\n",
    "\n",
    "pd.set_option('display.max_columns', None)"
   ]
  },
  {
   "cell_type": "markdown",
   "metadata": {},
   "source": [
    "## Загрузка данных и изучение общей информации о датафрейме\n",
    "[`Перейти к содержанию проекта`](#beginning)"
   ]
  },
  {
   "cell_type": "code",
   "execution_count": 175,
   "metadata": {},
   "outputs": [],
   "source": [
    "# загрузим данные о действиях пользователей в переменную `data`\n",
    "data = pd.read_csv(\n",
    "    \"/Users/dariasergienko/Desktop/cv/data/logs_exp.csv\", sep='\\t'\n",
    ")"
   ]
  },
  {
   "cell_type": "code",
   "execution_count": 176,
   "metadata": {},
   "outputs": [],
   "source": [
    "def desc(df):\n",
    "    '''Функция выводит основные характеристики переданного датафрейма.'''\n",
    "    head_rows = display(df.head())\n",
    "    information = df.info()\n",
    "    description = display(df.describe())\n",
    "    duplicates = f'Количество полных дубликатов в датафрейме: {df.duplicated().sum()}'\n",
    "    return head_rows, information, description, duplicates"
   ]
  },
  {
   "cell_type": "code",
   "execution_count": 177,
   "metadata": {
    "scrolled": false
   },
   "outputs": [
    {
     "data": {
      "text/html": [
       "<div>\n",
       "<style scoped>\n",
       "    .dataframe tbody tr th:only-of-type {\n",
       "        vertical-align: middle;\n",
       "    }\n",
       "\n",
       "    .dataframe tbody tr th {\n",
       "        vertical-align: top;\n",
       "    }\n",
       "\n",
       "    .dataframe thead th {\n",
       "        text-align: right;\n",
       "    }\n",
       "</style>\n",
       "<table border=\"1\" class=\"dataframe\">\n",
       "  <thead>\n",
       "    <tr style=\"text-align: right;\">\n",
       "      <th></th>\n",
       "      <th>EventName</th>\n",
       "      <th>DeviceIDHash</th>\n",
       "      <th>EventTimestamp</th>\n",
       "      <th>ExpId</th>\n",
       "    </tr>\n",
       "  </thead>\n",
       "  <tbody>\n",
       "    <tr>\n",
       "      <th>0</th>\n",
       "      <td>MainScreenAppear</td>\n",
       "      <td>4575588528974610257</td>\n",
       "      <td>1564029816</td>\n",
       "      <td>246</td>\n",
       "    </tr>\n",
       "    <tr>\n",
       "      <th>1</th>\n",
       "      <td>MainScreenAppear</td>\n",
       "      <td>7416695313311560658</td>\n",
       "      <td>1564053102</td>\n",
       "      <td>246</td>\n",
       "    </tr>\n",
       "    <tr>\n",
       "      <th>2</th>\n",
       "      <td>PaymentScreenSuccessful</td>\n",
       "      <td>3518123091307005509</td>\n",
       "      <td>1564054127</td>\n",
       "      <td>248</td>\n",
       "    </tr>\n",
       "    <tr>\n",
       "      <th>3</th>\n",
       "      <td>CartScreenAppear</td>\n",
       "      <td>3518123091307005509</td>\n",
       "      <td>1564054127</td>\n",
       "      <td>248</td>\n",
       "    </tr>\n",
       "    <tr>\n",
       "      <th>4</th>\n",
       "      <td>PaymentScreenSuccessful</td>\n",
       "      <td>6217807653094995999</td>\n",
       "      <td>1564055322</td>\n",
       "      <td>248</td>\n",
       "    </tr>\n",
       "  </tbody>\n",
       "</table>\n",
       "</div>"
      ],
      "text/plain": [
       "                 EventName         DeviceIDHash  EventTimestamp  ExpId\n",
       "0         MainScreenAppear  4575588528974610257      1564029816    246\n",
       "1         MainScreenAppear  7416695313311560658      1564053102    246\n",
       "2  PaymentScreenSuccessful  3518123091307005509      1564054127    248\n",
       "3         CartScreenAppear  3518123091307005509      1564054127    248\n",
       "4  PaymentScreenSuccessful  6217807653094995999      1564055322    248"
      ]
     },
     "metadata": {},
     "output_type": "display_data"
    },
    {
     "name": "stdout",
     "output_type": "stream",
     "text": [
      "<class 'pandas.core.frame.DataFrame'>\n",
      "RangeIndex: 244126 entries, 0 to 244125\n",
      "Data columns (total 4 columns):\n",
      " #   Column          Non-Null Count   Dtype \n",
      "---  ------          --------------   ----- \n",
      " 0   EventName       244126 non-null  object\n",
      " 1   DeviceIDHash    244126 non-null  int64 \n",
      " 2   EventTimestamp  244126 non-null  int64 \n",
      " 3   ExpId           244126 non-null  int64 \n",
      "dtypes: int64(3), object(1)\n",
      "memory usage: 7.5+ MB\n"
     ]
    },
    {
     "data": {
      "text/html": [
       "<div>\n",
       "<style scoped>\n",
       "    .dataframe tbody tr th:only-of-type {\n",
       "        vertical-align: middle;\n",
       "    }\n",
       "\n",
       "    .dataframe tbody tr th {\n",
       "        vertical-align: top;\n",
       "    }\n",
       "\n",
       "    .dataframe thead th {\n",
       "        text-align: right;\n",
       "    }\n",
       "</style>\n",
       "<table border=\"1\" class=\"dataframe\">\n",
       "  <thead>\n",
       "    <tr style=\"text-align: right;\">\n",
       "      <th></th>\n",
       "      <th>DeviceIDHash</th>\n",
       "      <th>EventTimestamp</th>\n",
       "      <th>ExpId</th>\n",
       "    </tr>\n",
       "  </thead>\n",
       "  <tbody>\n",
       "    <tr>\n",
       "      <th>count</th>\n",
       "      <td>2.441260e+05</td>\n",
       "      <td>2.441260e+05</td>\n",
       "      <td>244126.000000</td>\n",
       "    </tr>\n",
       "    <tr>\n",
       "      <th>mean</th>\n",
       "      <td>4.627568e+18</td>\n",
       "      <td>1.564914e+09</td>\n",
       "      <td>247.022296</td>\n",
       "    </tr>\n",
       "    <tr>\n",
       "      <th>std</th>\n",
       "      <td>2.642425e+18</td>\n",
       "      <td>1.771343e+05</td>\n",
       "      <td>0.824434</td>\n",
       "    </tr>\n",
       "    <tr>\n",
       "      <th>min</th>\n",
       "      <td>6.888747e+15</td>\n",
       "      <td>1.564030e+09</td>\n",
       "      <td>246.000000</td>\n",
       "    </tr>\n",
       "    <tr>\n",
       "      <th>25%</th>\n",
       "      <td>2.372212e+18</td>\n",
       "      <td>1.564757e+09</td>\n",
       "      <td>246.000000</td>\n",
       "    </tr>\n",
       "    <tr>\n",
       "      <th>50%</th>\n",
       "      <td>4.623192e+18</td>\n",
       "      <td>1.564919e+09</td>\n",
       "      <td>247.000000</td>\n",
       "    </tr>\n",
       "    <tr>\n",
       "      <th>75%</th>\n",
       "      <td>6.932517e+18</td>\n",
       "      <td>1.565075e+09</td>\n",
       "      <td>248.000000</td>\n",
       "    </tr>\n",
       "    <tr>\n",
       "      <th>max</th>\n",
       "      <td>9.222603e+18</td>\n",
       "      <td>1.565213e+09</td>\n",
       "      <td>248.000000</td>\n",
       "    </tr>\n",
       "  </tbody>\n",
       "</table>\n",
       "</div>"
      ],
      "text/plain": [
       "       DeviceIDHash  EventTimestamp          ExpId\n",
       "count  2.441260e+05    2.441260e+05  244126.000000\n",
       "mean   4.627568e+18    1.564914e+09     247.022296\n",
       "std    2.642425e+18    1.771343e+05       0.824434\n",
       "min    6.888747e+15    1.564030e+09     246.000000\n",
       "25%    2.372212e+18    1.564757e+09     246.000000\n",
       "50%    4.623192e+18    1.564919e+09     247.000000\n",
       "75%    6.932517e+18    1.565075e+09     248.000000\n",
       "max    9.222603e+18    1.565213e+09     248.000000"
      ]
     },
     "metadata": {},
     "output_type": "display_data"
    },
    {
     "data": {
      "text/plain": [
       "(None, None, None, 'Количество полных дубликатов в датафрейме: 413')"
      ]
     },
     "execution_count": 177,
     "metadata": {},
     "output_type": "execute_result"
    }
   ],
   "source": [
    "desc(data)"
   ]
  },
  {
   "cell_type": "markdown",
   "metadata": {},
   "source": [
    "**Вывод:** В результате изучения общей информации о датафрейме можно отметить следующее:\n",
    "- датафрейм содержит 244 126 строк - данных достаточно для исследования;\n",
    "- названия столбцов не соответсвуют \"змеиному регистру\";\n",
    "- тип данных столбца `EventTimestamp` необходимо привести к `datetime`;\n",
    "- столбцы не содержат пропусков (так как количество `non-null`-значений равно количеству строк в датафрейме), но следует проверить столбцы `EventName` и `ExpId` на наличие загрушек вместо пропусков;\n",
    "- значения `DeviceIDHash` реалистичны;\n",
    "- на этапе исследовательского анализа данных необходимо проверить, данными за какой период мы располагаем;\n",
    "- в датафрейме обнаружено 413 полных дубликатов (одно и то же событие несколько раз зафиксировалось в логе) - необходимо удалить дубликаты из датафрейма после проверки, нет ли зависимости появления дубликатов от каждого фактора (столбца датафрейма);\n",
    "- необходимо проверить столбцы `EventName` и `ExpId` на наличие неявных дубликатов."
   ]
  },
  {
   "cell_type": "markdown",
   "metadata": {},
   "source": [
    "## Предобработка данных\n",
    "[`Перейти к содержанию проекта`](#beginning)"
   ]
  },
  {
   "cell_type": "markdown",
   "metadata": {},
   "source": [
    "Поменяем названия столбцов, чтобы они соответствовали \"змеиному регистру\":"
   ]
  },
  {
   "cell_type": "code",
   "execution_count": 178,
   "metadata": {},
   "outputs": [],
   "source": [
    "data.columns = ['event_name', 'user_id', 'event_time', 'group']"
   ]
  },
  {
   "cell_type": "markdown",
   "metadata": {},
   "source": [
    "Приведем тип данных столбца `event_time` необходимо к `datetime`:"
   ]
  },
  {
   "cell_type": "code",
   "execution_count": 179,
   "metadata": {
    "scrolled": true
   },
   "outputs": [],
   "source": [
    "data['event_time'] = pd.to_datetime(data['event_time'], unit='s')"
   ]
  },
  {
   "cell_type": "markdown",
   "metadata": {},
   "source": [
    "Выведем отдельный столбец `event_date` только с датой события:"
   ]
  },
  {
   "cell_type": "code",
   "execution_count": 180,
   "metadata": {},
   "outputs": [],
   "source": [
    "data['event_date'] = data['event_time'].dt.date\n",
    "data['event_date'] = pd.to_datetime(data['event_date'])"
   ]
  },
  {
   "cell_type": "markdown",
   "metadata": {},
   "source": [
    "Проверим столбцы на наличие заглушек вместо пропусков и неявных дубликатов:"
   ]
  },
  {
   "cell_type": "code",
   "execution_count": 181,
   "metadata": {},
   "outputs": [
    {
     "data": {
      "text/plain": [
       "event_name\n",
       "MainScreenAppear           119205\n",
       "OffersScreenAppear          46825\n",
       "CartScreenAppear            42731\n",
       "PaymentScreenSuccessful     34313\n",
       "Tutorial                     1052\n",
       "Name: count, dtype: int64"
      ]
     },
     "execution_count": 181,
     "metadata": {},
     "output_type": "execute_result"
    }
   ],
   "source": [
    "# проверим столбец `event_name`\n",
    "data['event_name'].value_counts()"
   ]
  },
  {
   "cell_type": "markdown",
   "metadata": {},
   "source": [
    "В столбце `event_name` нет заглушек вместо пропусков и неявных дубликатов."
   ]
  },
  {
   "cell_type": "code",
   "execution_count": 182,
   "metadata": {},
   "outputs": [
    {
     "data": {
      "text/plain": [
       "group\n",
       "248    85747\n",
       "246    80304\n",
       "247    78075\n",
       "Name: count, dtype: int64"
      ]
     },
     "execution_count": 182,
     "metadata": {},
     "output_type": "execute_result"
    }
   ],
   "source": [
    "# проверим столбец `group`\n",
    "data['group'].value_counts()"
   ]
  },
  {
   "cell_type": "markdown",
   "metadata": {},
   "source": [
    "В столбце `group` нет заглушек вместо пропусков и неявных дубликатов."
   ]
  },
  {
   "cell_type": "markdown",
   "metadata": {},
   "source": [
    "Причин появления дубликатов в логе может быть много, например:\n",
    "- техическая ошибка записи времени события (время, отраженное в логе, не соотвествует фактическому времени события);\n",
    "- действия совершены не реальными пользователями, а ботами, что приводит к совершению одного и того же действия несколько раз в одно и то же время;\n",
    "- баг в отображении страницы (независимо от пользователя перезагружается несколько раз в одну секунду) и др.\n",
    "\n",
    "Проверим, связано ли появление в датафрейме полных дубликатов с определенных типом события, датой и временем или конкретными пользователями."
   ]
  },
  {
   "cell_type": "code",
   "execution_count": 183,
   "metadata": {},
   "outputs": [
    {
     "data": {
      "text/html": [
       "<div>\n",
       "<style scoped>\n",
       "    .dataframe tbody tr th:only-of-type {\n",
       "        vertical-align: middle;\n",
       "    }\n",
       "\n",
       "    .dataframe tbody tr th {\n",
       "        vertical-align: top;\n",
       "    }\n",
       "\n",
       "    .dataframe thead th {\n",
       "        text-align: right;\n",
       "    }\n",
       "</style>\n",
       "<table border=\"1\" class=\"dataframe\">\n",
       "  <thead>\n",
       "    <tr style=\"text-align: right;\">\n",
       "      <th></th>\n",
       "      <th>event_name</th>\n",
       "      <th>duplicates_count</th>\n",
       "      <th>total_count</th>\n",
       "      <th>duplicates_share</th>\n",
       "    </tr>\n",
       "  </thead>\n",
       "  <tbody>\n",
       "    <tr>\n",
       "      <th>0</th>\n",
       "      <td>CartScreenAppear</td>\n",
       "      <td>63</td>\n",
       "      <td>42731</td>\n",
       "      <td>0.15%</td>\n",
       "    </tr>\n",
       "    <tr>\n",
       "      <th>1</th>\n",
       "      <td>MainScreenAppear</td>\n",
       "      <td>104</td>\n",
       "      <td>119205</td>\n",
       "      <td>0.09%</td>\n",
       "    </tr>\n",
       "    <tr>\n",
       "      <th>2</th>\n",
       "      <td>OffersScreenAppear</td>\n",
       "      <td>17</td>\n",
       "      <td>46825</td>\n",
       "      <td>0.04%</td>\n",
       "    </tr>\n",
       "    <tr>\n",
       "      <th>3</th>\n",
       "      <td>PaymentScreenSuccessful</td>\n",
       "      <td>195</td>\n",
       "      <td>34313</td>\n",
       "      <td>0.57%</td>\n",
       "    </tr>\n",
       "    <tr>\n",
       "      <th>4</th>\n",
       "      <td>Tutorial</td>\n",
       "      <td>34</td>\n",
       "      <td>1052</td>\n",
       "      <td>3.23%</td>\n",
       "    </tr>\n",
       "  </tbody>\n",
       "</table>\n",
       "</div>"
      ],
      "text/plain": [
       "                event_name  duplicates_count  total_count duplicates_share\n",
       "0         CartScreenAppear                63        42731            0.15%\n",
       "1         MainScreenAppear               104       119205            0.09%\n",
       "2       OffersScreenAppear                17        46825            0.04%\n",
       "3  PaymentScreenSuccessful               195        34313            0.57%\n",
       "4                 Tutorial                34         1052            3.23%"
      ]
     },
     "execution_count": 183,
     "metadata": {},
     "output_type": "execute_result"
    }
   ],
   "source": [
    "# проверим, для каких событий появились дубликаты в датафрейме\n",
    "event_names_duplicates = (\n",
    "    data[data.duplicated()]\n",
    "    .groupby('event_name')\n",
    "    .agg({'user_id': 'count'})\n",
    "    .reset_index()\n",
    ")\n",
    "\n",
    "event_names_all = (\n",
    "    data.groupby('event_name')\n",
    "    .agg({'user_id': 'count'})\n",
    "    .reset_index()\n",
    ")\n",
    "\n",
    "event_names_info = event_names_duplicates.merge(event_names_all, on='event_name')\n",
    "event_names_info.columns = ['event_name', 'duplicates_count', 'total_count']\n",
    "event_names_info['duplicates_share'] = (\n",
    "    (event_names_info['duplicates_count'] / event_names_info['total_count'])\n",
    "    .map(lambda x: \"{0:.2%}\".format(x))\n",
    ")\n",
    "event_names_info"
   ]
  },
  {
   "cell_type": "markdown",
   "metadata": {},
   "source": [
    "В целом, процент дубликатов от общего числа событий в разбивке по названию события небольшой (менее 1%), кроме открытия страницы 'Tutorial' (3.23%). Нельзя связать наличие дубликатов с ошибкой записи логов при открытии определенной страницы."
   ]
  },
  {
   "cell_type": "code",
   "execution_count": 184,
   "metadata": {
    "scrolled": false
   },
   "outputs": [
    {
     "data": {
      "text/plain": [
       "0    3610536745613892312\n",
       "1    3473691793382022823\n",
       "2    4980045449118619005\n",
       "Name: user_id, dtype: int64"
      ]
     },
     "execution_count": 184,
     "metadata": {},
     "output_type": "execute_result"
    }
   ],
   "source": [
    "# проверим, для каких пользователей появились дубликаты в датафрейме\n",
    "users_with_duplicates = (\n",
    "    data[data.duplicated()].groupby('user_id')\n",
    "    .agg({'event_name': 'count'})\n",
    "    .sort_values(by='event_name', ascending=False)\n",
    "    .reset_index()\n",
    ")\n",
    "users_with_many_duplicates = users_with_duplicates['user_id'].head(3)\n",
    "users_with_many_duplicates"
   ]
  },
  {
   "cell_type": "markdown",
   "metadata": {},
   "source": [
    "Дубликаты появляются в логе действий разных пользователей, однако есть несколько пользователей с бОльшим числом дубликатов (список этих пользователей выведен выше). Можно направить этот списко пользователей в техническую службу для дальнейшего выявления причин появления дубликатов в логе пользователей.    \n",
    "На этапе исследовательского анализа данных также следует более подробно изучить количество событий (записей) на пользователя. "
   ]
  },
  {
   "cell_type": "code",
   "execution_count": 185,
   "metadata": {},
   "outputs": [
    {
     "data": {
      "text/plain": [
       "event_time\n",
       "06:10:06    4\n",
       "13:20:40    4\n",
       "22:11:49    4\n",
       "22:11:53    4\n",
       "17:00:03    3\n",
       "           ..\n",
       "07:19:51    1\n",
       "05:18:45    1\n",
       "04:40:02    1\n",
       "04:40:00    1\n",
       "19:36:58    1\n",
       "Name: count, Length: 352, dtype: int64"
      ]
     },
     "execution_count": 185,
     "metadata": {},
     "output_type": "execute_result"
    }
   ],
   "source": [
    "# проверим, в какое время появились дубликаты в датафрейме\n",
    "data[data.duplicated()]['event_time'].dt.time.value_counts()"
   ]
  },
  {
   "cell_type": "code",
   "execution_count": 186,
   "metadata": {
    "scrolled": false
   },
   "outputs": [
    {
     "data": {
      "text/plain": [
       "event_date\n",
       "2019-08-01    88\n",
       "2019-08-03    69\n",
       "2019-08-04    65\n",
       "2019-08-05    55\n",
       "2019-08-02    52\n",
       "2019-08-07    48\n",
       "2019-08-06    34\n",
       "2019-07-30     1\n",
       "2019-07-31     1\n",
       "Name: count, dtype: int64"
      ]
     },
     "execution_count": 186,
     "metadata": {},
     "output_type": "execute_result"
    }
   ],
   "source": [
    "# проверим, в какие дни появились дубликаты в датафрейме\n",
    "data[data.duplicated()]['event_date'].value_counts()"
   ]
  },
  {
   "cell_type": "markdown",
   "metadata": {},
   "source": [
    "Появление дубликатов не связано с определенной датой и временем."
   ]
  },
  {
   "cell_type": "code",
   "execution_count": 187,
   "metadata": {},
   "outputs": [
    {
     "data": {
      "text/plain": [
       "group\n",
       "248    165\n",
       "247    125\n",
       "246    123\n",
       "Name: count, dtype: int64"
      ]
     },
     "execution_count": 187,
     "metadata": {},
     "output_type": "execute_result"
    }
   ],
   "source": [
    "# проверим, в каких группах появились дубликаты в датафрейме\n",
    "data[data.duplicated()]['group'].value_counts()"
   ]
  },
  {
   "cell_type": "markdown",
   "metadata": {},
   "source": [
    "Появление дубликатов не связано с определенной категорией пользователей в рамках A/A/B тестирования."
   ]
  },
  {
   "cell_type": "markdown",
   "metadata": {},
   "source": [
    "Удалим полные дубликаты из датафрейма."
   ]
  },
  {
   "cell_type": "code",
   "execution_count": 188,
   "metadata": {},
   "outputs": [
    {
     "data": {
      "text/plain": [
       "'Количество полных дубликатов в датфрейме: 0'"
      ]
     },
     "execution_count": 188,
     "metadata": {},
     "output_type": "execute_result"
    }
   ],
   "source": [
    "data = data.drop_duplicates()\n",
    "f'Количество полных дубликатов в датфрейме: {data.duplicated().sum()}' # проверка успешного удаления дубликатов"
   ]
  },
  {
   "cell_type": "markdown",
   "metadata": {},
   "source": [
    "**Вывод:** В результате проведенной предобработки данных было сделано следующее:\n",
    "- названия столбцов были изменены для соответствия \"змеиному регистру\";\n",
    "- тип данных столбца `event_time` был приведен к `datetime`;\n",
    "- был создан отдельный столбец `event_date` только с датой события;\n",
    "- были удалены полные дубликаты в датафрейме (одно и то же событие, записанное в логе несколько раз);\n",
    "- был составлен список пользователей с наибольшим количеством дубликатов в логе для дальнейшей передачи информации технической службе (при необходимости выявления причин появления дубликатов в логе действий пользователей);\n",
    "- столбцы `event_name` и `group` были проверены на отсутсвие неявных дубликатов и заглушек вместо пропусков."
   ]
  },
  {
   "cell_type": "markdown",
   "metadata": {},
   "source": [
    "## Исследовательский анализ данных\n",
    "[`Перейти к содержанию проекта`](#beginning)\n",
    "\n",
    "На данном этапе необходимо сделать следующее:\n",
    "- изучить количество событий, пользователей и событий на пользователя в логе;\n",
    "- проанализировать, данными за какой период мы располагаем;\n",
    "- проверить наличие пользователей из всех экспериментальных групп и попадание пользователей в одну и ту же категорию."
   ]
  },
  {
   "cell_type": "markdown",
   "metadata": {},
   "source": [
    "### Анализ количества событий на пользователя в логе\n",
    "[`Перейти к содержанию проекта`](#beginning)\n",
    "\n",
    "Посчитаем, сколько всего осталось событий и пользователей в логе, а также сколько в среднем событий приходится на пользователя:"
   ]
  },
  {
   "cell_type": "code",
   "execution_count": 189,
   "metadata": {},
   "outputs": [
    {
     "data": {
      "text/plain": [
       "'Количество событий в логе после удаления дубликатов: 243713'"
      ]
     },
     "execution_count": 189,
     "metadata": {},
     "output_type": "execute_result"
    }
   ],
   "source": [
    "f'Количество событий в логе после удаления дубликатов: {len(data)}'"
   ]
  },
  {
   "cell_type": "code",
   "execution_count": 190,
   "metadata": {},
   "outputs": [
    {
     "data": {
      "text/plain": [
       "'Количество пользователей в логе: 7551'"
      ]
     },
     "execution_count": 190,
     "metadata": {},
     "output_type": "execute_result"
    }
   ],
   "source": [
    "users_count = len(data['user_id'].unique())\n",
    "f'Количество пользователей в логе: {users_count}'"
   ]
  },
  {
   "cell_type": "code",
   "execution_count": 191,
   "metadata": {
    "scrolled": false
   },
   "outputs": [
    {
     "data": {
      "text/html": [
       "<div>\n",
       "<style scoped>\n",
       "    .dataframe tbody tr th:only-of-type {\n",
       "        vertical-align: middle;\n",
       "    }\n",
       "\n",
       "    .dataframe tbody tr th {\n",
       "        vertical-align: top;\n",
       "    }\n",
       "\n",
       "    .dataframe thead th {\n",
       "        text-align: right;\n",
       "    }\n",
       "</style>\n",
       "<table border=\"1\" class=\"dataframe\">\n",
       "  <thead>\n",
       "    <tr style=\"text-align: right;\">\n",
       "      <th></th>\n",
       "      <th>event_name</th>\n",
       "      <th>user_id</th>\n",
       "      <th>event_time</th>\n",
       "      <th>group</th>\n",
       "      <th>event_date</th>\n",
       "    </tr>\n",
       "  </thead>\n",
       "  <tbody>\n",
       "    <tr>\n",
       "      <th>0</th>\n",
       "      <td>MainScreenAppear</td>\n",
       "      <td>4575588528974610257</td>\n",
       "      <td>2019-07-25 04:43:36</td>\n",
       "      <td>246</td>\n",
       "      <td>2019-07-25</td>\n",
       "    </tr>\n",
       "    <tr>\n",
       "      <th>1</th>\n",
       "      <td>MainScreenAppear</td>\n",
       "      <td>7416695313311560658</td>\n",
       "      <td>2019-07-25 11:11:42</td>\n",
       "      <td>246</td>\n",
       "      <td>2019-07-25</td>\n",
       "    </tr>\n",
       "    <tr>\n",
       "      <th>2</th>\n",
       "      <td>PaymentScreenSuccessful</td>\n",
       "      <td>3518123091307005509</td>\n",
       "      <td>2019-07-25 11:28:47</td>\n",
       "      <td>248</td>\n",
       "      <td>2019-07-25</td>\n",
       "    </tr>\n",
       "    <tr>\n",
       "      <th>3</th>\n",
       "      <td>CartScreenAppear</td>\n",
       "      <td>3518123091307005509</td>\n",
       "      <td>2019-07-25 11:28:47</td>\n",
       "      <td>248</td>\n",
       "      <td>2019-07-25</td>\n",
       "    </tr>\n",
       "    <tr>\n",
       "      <th>4</th>\n",
       "      <td>PaymentScreenSuccessful</td>\n",
       "      <td>6217807653094995999</td>\n",
       "      <td>2019-07-25 11:48:42</td>\n",
       "      <td>248</td>\n",
       "      <td>2019-07-25</td>\n",
       "    </tr>\n",
       "  </tbody>\n",
       "</table>\n",
       "</div>"
      ],
      "text/plain": [
       "                event_name              user_id          event_time  group  \\\n",
       "0         MainScreenAppear  4575588528974610257 2019-07-25 04:43:36    246   \n",
       "1         MainScreenAppear  7416695313311560658 2019-07-25 11:11:42    246   \n",
       "2  PaymentScreenSuccessful  3518123091307005509 2019-07-25 11:28:47    248   \n",
       "3         CartScreenAppear  3518123091307005509 2019-07-25 11:28:47    248   \n",
       "4  PaymentScreenSuccessful  6217807653094995999 2019-07-25 11:48:42    248   \n",
       "\n",
       "  event_date  \n",
       "0 2019-07-25  \n",
       "1 2019-07-25  \n",
       "2 2019-07-25  \n",
       "3 2019-07-25  \n",
       "4 2019-07-25  "
      ]
     },
     "execution_count": 191,
     "metadata": {},
     "output_type": "execute_result"
    }
   ],
   "source": [
    "data.head()"
   ]
  },
  {
   "cell_type": "code",
   "execution_count": 192,
   "metadata": {},
   "outputs": [
    {
     "data": {
      "text/html": [
       "<div>\n",
       "<style scoped>\n",
       "    .dataframe tbody tr th:only-of-type {\n",
       "        vertical-align: middle;\n",
       "    }\n",
       "\n",
       "    .dataframe tbody tr th {\n",
       "        vertical-align: top;\n",
       "    }\n",
       "\n",
       "    .dataframe thead th {\n",
       "        text-align: right;\n",
       "    }\n",
       "</style>\n",
       "<table border=\"1\" class=\"dataframe\">\n",
       "  <thead>\n",
       "    <tr style=\"text-align: right;\">\n",
       "      <th></th>\n",
       "      <th>user_id</th>\n",
       "      <th>events_count</th>\n",
       "    </tr>\n",
       "  </thead>\n",
       "  <tbody>\n",
       "    <tr>\n",
       "      <th>5116</th>\n",
       "      <td>6304868067479728361</td>\n",
       "      <td>2307</td>\n",
       "    </tr>\n",
       "    <tr>\n",
       "      <th>147</th>\n",
       "      <td>197027893265565660</td>\n",
       "      <td>1998</td>\n",
       "    </tr>\n",
       "    <tr>\n",
       "      <th>3714</th>\n",
       "      <td>4623191541214045580</td>\n",
       "      <td>1768</td>\n",
       "    </tr>\n",
       "    <tr>\n",
       "      <th>5590</th>\n",
       "      <td>6932517045703054087</td>\n",
       "      <td>1439</td>\n",
       "    </tr>\n",
       "    <tr>\n",
       "      <th>1391</th>\n",
       "      <td>1754140665440434215</td>\n",
       "      <td>1221</td>\n",
       "    </tr>\n",
       "    <tr>\n",
       "      <th>...</th>\n",
       "      <td>...</td>\n",
       "      <td>...</td>\n",
       "    </tr>\n",
       "    <tr>\n",
       "      <th>6013</th>\n",
       "      <td>7399061063341528729</td>\n",
       "      <td>1</td>\n",
       "    </tr>\n",
       "    <tr>\n",
       "      <th>2356</th>\n",
       "      <td>2968164493349205501</td>\n",
       "      <td>1</td>\n",
       "    </tr>\n",
       "    <tr>\n",
       "      <th>6575</th>\n",
       "      <td>8071397669512236988</td>\n",
       "      <td>1</td>\n",
       "    </tr>\n",
       "    <tr>\n",
       "      <th>311</th>\n",
       "      <td>425817683219936619</td>\n",
       "      <td>1</td>\n",
       "    </tr>\n",
       "    <tr>\n",
       "      <th>0</th>\n",
       "      <td>6888746892508752</td>\n",
       "      <td>1</td>\n",
       "    </tr>\n",
       "  </tbody>\n",
       "</table>\n",
       "<p>7551 rows × 2 columns</p>\n",
       "</div>"
      ],
      "text/plain": [
       "                  user_id  events_count\n",
       "5116  6304868067479728361          2307\n",
       "147    197027893265565660          1998\n",
       "3714  4623191541214045580          1768\n",
       "5590  6932517045703054087          1439\n",
       "1391  1754140665440434215          1221\n",
       "...                   ...           ...\n",
       "6013  7399061063341528729             1\n",
       "2356  2968164493349205501             1\n",
       "6575  8071397669512236988             1\n",
       "311    425817683219936619             1\n",
       "0        6888746892508752             1\n",
       "\n",
       "[7551 rows x 2 columns]"
      ]
     },
     "execution_count": 192,
     "metadata": {},
     "output_type": "execute_result"
    }
   ],
   "source": [
    "# для каждого пользователя выведем количество событий\n",
    "events_by_users = (\n",
    "    data.groupby('user_id')\n",
    "    .agg({'event_name': 'count'})\n",
    "    .reset_index()\n",
    ")\n",
    "events_by_users.columns = ['user_id', 'events_count']\n",
    "events_by_users.sort_values(by='events_count', ascending=False)"
   ]
  },
  {
   "cell_type": "code",
   "execution_count": 193,
   "metadata": {},
   "outputs": [
    {
     "name": "stdout",
     "output_type": "stream",
     "text": [
      "Среднее количество событий на пользователя: 32\n",
      "Медианное количество событий на пользователя: 20\n"
     ]
    }
   ],
   "source": [
    "avg_events_by_user = events_by_users['events_count'].mean()\n",
    "median_events_by_user = events_by_users['events_count'].median()\n",
    "\n",
    "print(f'Среднее количество событий на пользователя: {avg_events_by_user:.0f}')\n",
    "print(f'Медианное количество событий на пользователя: {median_events_by_user:.0f}')"
   ]
  },
  {
   "cell_type": "code",
   "execution_count": 194,
   "metadata": {},
   "outputs": [
    {
     "data": {
      "image/png": "[encoded data removed]",
      "text/plain": [
       "<Figure size 640x480 with 1 Axes>"
      ]
     },
     "metadata": {},
     "output_type": "display_data"
    }
   ],
   "source": [
    "# выведем гистограмму распределения количества событий на пользователя\n",
    "events_by_users['events_count'].hist()\n",
    "plt.title('Гистограмма распределения количества событий на пользователя')\n",
    "plt.xlabel('Количество событий на пользователя')\n",
    "plt.ylabel('Количество случаев')\n",
    "plt.show()"
   ]
  },
  {
   "cell_type": "code",
   "execution_count": 195,
   "metadata": {},
   "outputs": [
    {
     "data": {
      "text/plain": [
       "count    7551.000000\n",
       "mean       32.275593\n",
       "std        65.154219\n",
       "min         1.000000\n",
       "25%         9.000000\n",
       "50%        20.000000\n",
       "75%        37.000000\n",
       "max      2307.000000\n",
       "Name: events_count, dtype: float64"
      ]
     },
     "execution_count": 195,
     "metadata": {},
     "output_type": "execute_result"
    }
   ],
   "source": [
    "events_by_users['events_count'].describe()"
   ]
  },
  {
   "cell_type": "markdown",
   "metadata": {},
   "source": [
    "Как видно по гистограмме распределения и значений квартилей, есть пользователи с аномально редким большим числом событий (максимальное число событий на пользователя - 2307, при 75-процентиле в 37 событий). Также среднее количество событий на пользователя больше медианного, что говорит о влиянии аномально больших выбросов на значение средней.    \n",
    "\n",
    "Акцент дальнейшего исследования - анализ долей пользователей, которые совершили какое-либо событие, поэтому нас в большей степени будет интересовать факт совершения пользователем события хотя бы 1 раз и в меньшей - количество раз, которое пользователь совершал каждое событие. Поэтому в рамках данного исследования мы не будем удалять из датафрейма аномально активных пользователей. Однако, стоит обратить внимание на пользователей, которые совершают необычно много действий: это могут быть боты или же ошибки в загрузке страницы (\"залипание\") - например, ниже выведена таблица с дейтсвиями пользователя с `user_id = 6304868067479728361`, откуда мы видим, что, например, `2019-08-02` пользователь совершает практически каждую секунду цепочку действий `зайти в корзину - оплатить покупку`, не нереключаясь на выбор товаров, что странно."
   ]
  },
  {
   "cell_type": "code",
   "execution_count": 196,
   "metadata": {
    "scrolled": true
   },
   "outputs": [
    {
     "data": {
      "text/html": [
       "<div>\n",
       "<style scoped>\n",
       "    .dataframe tbody tr th:only-of-type {\n",
       "        vertical-align: middle;\n",
       "    }\n",
       "\n",
       "    .dataframe tbody tr th {\n",
       "        vertical-align: top;\n",
       "    }\n",
       "\n",
       "    .dataframe thead th {\n",
       "        text-align: right;\n",
       "    }\n",
       "</style>\n",
       "<table border=\"1\" class=\"dataframe\">\n",
       "  <thead>\n",
       "    <tr style=\"text-align: right;\">\n",
       "      <th></th>\n",
       "      <th>event_name</th>\n",
       "      <th>user_id</th>\n",
       "      <th>event_time</th>\n",
       "      <th>group</th>\n",
       "      <th>event_date</th>\n",
       "    </tr>\n",
       "  </thead>\n",
       "  <tbody>\n",
       "    <tr>\n",
       "      <th>32936</th>\n",
       "      <td>MainScreenAppear</td>\n",
       "      <td>6304868067479728361</td>\n",
       "      <td>2019-08-01 18:01:25</td>\n",
       "      <td>248</td>\n",
       "      <td>2019-08-01</td>\n",
       "    </tr>\n",
       "    <tr>\n",
       "      <th>32947</th>\n",
       "      <td>CartScreenAppear</td>\n",
       "      <td>6304868067479728361</td>\n",
       "      <td>2019-08-01 18:01:43</td>\n",
       "      <td>248</td>\n",
       "      <td>2019-08-01</td>\n",
       "    </tr>\n",
       "    <tr>\n",
       "      <th>32948</th>\n",
       "      <td>PaymentScreenSuccessful</td>\n",
       "      <td>6304868067479728361</td>\n",
       "      <td>2019-08-01 18:01:43</td>\n",
       "      <td>248</td>\n",
       "      <td>2019-08-01</td>\n",
       "    </tr>\n",
       "    <tr>\n",
       "      <th>32950</th>\n",
       "      <td>MainScreenAppear</td>\n",
       "      <td>6304868067479728361</td>\n",
       "      <td>2019-08-01 18:01:44</td>\n",
       "      <td>248</td>\n",
       "      <td>2019-08-01</td>\n",
       "    </tr>\n",
       "    <tr>\n",
       "      <th>32951</th>\n",
       "      <td>OffersScreenAppear</td>\n",
       "      <td>6304868067479728361</td>\n",
       "      <td>2019-08-01 18:01:52</td>\n",
       "      <td>248</td>\n",
       "      <td>2019-08-01</td>\n",
       "    </tr>\n",
       "    <tr>\n",
       "      <th>...</th>\n",
       "      <td>...</td>\n",
       "      <td>...</td>\n",
       "      <td>...</td>\n",
       "      <td>...</td>\n",
       "      <td>...</td>\n",
       "    </tr>\n",
       "    <tr>\n",
       "      <th>232580</th>\n",
       "      <td>OffersScreenAppear</td>\n",
       "      <td>6304868067479728361</td>\n",
       "      <td>2019-08-07 14:54:24</td>\n",
       "      <td>248</td>\n",
       "      <td>2019-08-07</td>\n",
       "    </tr>\n",
       "    <tr>\n",
       "      <th>232587</th>\n",
       "      <td>CartScreenAppear</td>\n",
       "      <td>6304868067479728361</td>\n",
       "      <td>2019-08-07 14:54:28</td>\n",
       "      <td>248</td>\n",
       "      <td>2019-08-07</td>\n",
       "    </tr>\n",
       "    <tr>\n",
       "      <th>232599</th>\n",
       "      <td>OffersScreenAppear</td>\n",
       "      <td>6304868067479728361</td>\n",
       "      <td>2019-08-07 14:54:41</td>\n",
       "      <td>248</td>\n",
       "      <td>2019-08-07</td>\n",
       "    </tr>\n",
       "    <tr>\n",
       "      <th>242310</th>\n",
       "      <td>MainScreenAppear</td>\n",
       "      <td>6304868067479728361</td>\n",
       "      <td>2019-08-07 19:26:20</td>\n",
       "      <td>248</td>\n",
       "      <td>2019-08-07</td>\n",
       "    </tr>\n",
       "    <tr>\n",
       "      <th>242335</th>\n",
       "      <td>OffersScreenAppear</td>\n",
       "      <td>6304868067479728361</td>\n",
       "      <td>2019-08-07 19:26:48</td>\n",
       "      <td>248</td>\n",
       "      <td>2019-08-07</td>\n",
       "    </tr>\n",
       "  </tbody>\n",
       "</table>\n",
       "<p>2307 rows × 5 columns</p>\n",
       "</div>"
      ],
      "text/plain": [
       "                     event_name              user_id          event_time  \\\n",
       "32936          MainScreenAppear  6304868067479728361 2019-08-01 18:01:25   \n",
       "32947          CartScreenAppear  6304868067479728361 2019-08-01 18:01:43   \n",
       "32948   PaymentScreenSuccessful  6304868067479728361 2019-08-01 18:01:43   \n",
       "32950          MainScreenAppear  6304868067479728361 2019-08-01 18:01:44   \n",
       "32951        OffersScreenAppear  6304868067479728361 2019-08-01 18:01:52   \n",
       "...                         ...                  ...                 ...   \n",
       "232580       OffersScreenAppear  6304868067479728361 2019-08-07 14:54:24   \n",
       "232587         CartScreenAppear  6304868067479728361 2019-08-07 14:54:28   \n",
       "232599       OffersScreenAppear  6304868067479728361 2019-08-07 14:54:41   \n",
       "242310         MainScreenAppear  6304868067479728361 2019-08-07 19:26:20   \n",
       "242335       OffersScreenAppear  6304868067479728361 2019-08-07 19:26:48   \n",
       "\n",
       "        group event_date  \n",
       "32936     248 2019-08-01  \n",
       "32947     248 2019-08-01  \n",
       "32948     248 2019-08-01  \n",
       "32950     248 2019-08-01  \n",
       "32951     248 2019-08-01  \n",
       "...       ...        ...  \n",
       "232580    248 2019-08-07  \n",
       "232587    248 2019-08-07  \n",
       "232599    248 2019-08-07  \n",
       "242310    248 2019-08-07  \n",
       "242335    248 2019-08-07  \n",
       "\n",
       "[2307 rows x 5 columns]"
      ]
     },
     "execution_count": 196,
     "metadata": {},
     "output_type": "execute_result"
    }
   ],
   "source": [
    "data.query('user_id == 6304868067479728361').sort_values(by='event_time')"
   ]
  },
  {
   "cell_type": "markdown",
   "metadata": {},
   "source": [
    "### Анализ периода располагаемых данных\n",
    "[`Перейти к содержанию проекта`](#beginning)\n",
    "\n",
    "Проверим, данными за какой период мы располагаем:"
   ]
  },
  {
   "cell_type": "code",
   "execution_count": 197,
   "metadata": {},
   "outputs": [
    {
     "name": "stdout",
     "output_type": "stream",
     "text": [
      "Минимальная дата события в логе: 2019-07-25 00:00:00\n",
      "Максимальная дата события в логе: 2019-08-07 00:00:00\n"
     ]
    }
   ],
   "source": [
    "min_date = min(data['event_date'])\n",
    "max_date = max(data['event_date'])\n",
    "\n",
    "print(f'Минимальная дата события в логе: {min_date}')\n",
    "print(f'Максимальная дата события в логе: {max_date}')"
   ]
  },
  {
   "cell_type": "code",
   "execution_count": 198,
   "metadata": {},
   "outputs": [
    {
     "data": {
      "text/html": [
       "<div>\n",
       "<style scoped>\n",
       "    .dataframe tbody tr th:only-of-type {\n",
       "        vertical-align: middle;\n",
       "    }\n",
       "\n",
       "    .dataframe tbody tr th {\n",
       "        vertical-align: top;\n",
       "    }\n",
       "\n",
       "    .dataframe thead th {\n",
       "        text-align: right;\n",
       "    }\n",
       "</style>\n",
       "<table border=\"1\" class=\"dataframe\">\n",
       "  <thead>\n",
       "    <tr style=\"text-align: right;\">\n",
       "      <th></th>\n",
       "      <th>event_date</th>\n",
       "      <th>events_count</th>\n",
       "    </tr>\n",
       "  </thead>\n",
       "  <tbody>\n",
       "    <tr>\n",
       "      <th>0</th>\n",
       "      <td>2019-07-25</td>\n",
       "      <td>9</td>\n",
       "    </tr>\n",
       "    <tr>\n",
       "      <th>1</th>\n",
       "      <td>2019-07-26</td>\n",
       "      <td>31</td>\n",
       "    </tr>\n",
       "    <tr>\n",
       "      <th>2</th>\n",
       "      <td>2019-07-27</td>\n",
       "      <td>55</td>\n",
       "    </tr>\n",
       "    <tr>\n",
       "      <th>3</th>\n",
       "      <td>2019-07-28</td>\n",
       "      <td>105</td>\n",
       "    </tr>\n",
       "    <tr>\n",
       "      <th>4</th>\n",
       "      <td>2019-07-29</td>\n",
       "      <td>184</td>\n",
       "    </tr>\n",
       "    <tr>\n",
       "      <th>5</th>\n",
       "      <td>2019-07-30</td>\n",
       "      <td>412</td>\n",
       "    </tr>\n",
       "    <tr>\n",
       "      <th>6</th>\n",
       "      <td>2019-07-31</td>\n",
       "      <td>2030</td>\n",
       "    </tr>\n",
       "    <tr>\n",
       "      <th>7</th>\n",
       "      <td>2019-08-01</td>\n",
       "      <td>36141</td>\n",
       "    </tr>\n",
       "    <tr>\n",
       "      <th>8</th>\n",
       "      <td>2019-08-02</td>\n",
       "      <td>35554</td>\n",
       "    </tr>\n",
       "    <tr>\n",
       "      <th>9</th>\n",
       "      <td>2019-08-03</td>\n",
       "      <td>33282</td>\n",
       "    </tr>\n",
       "    <tr>\n",
       "      <th>10</th>\n",
       "      <td>2019-08-04</td>\n",
       "      <td>32968</td>\n",
       "    </tr>\n",
       "    <tr>\n",
       "      <th>11</th>\n",
       "      <td>2019-08-05</td>\n",
       "      <td>36058</td>\n",
       "    </tr>\n",
       "    <tr>\n",
       "      <th>12</th>\n",
       "      <td>2019-08-06</td>\n",
       "      <td>35788</td>\n",
       "    </tr>\n",
       "    <tr>\n",
       "      <th>13</th>\n",
       "      <td>2019-08-07</td>\n",
       "      <td>31096</td>\n",
       "    </tr>\n",
       "  </tbody>\n",
       "</table>\n",
       "</div>"
      ],
      "text/plain": [
       "   event_date  events_count\n",
       "0  2019-07-25             9\n",
       "1  2019-07-26            31\n",
       "2  2019-07-27            55\n",
       "3  2019-07-28           105\n",
       "4  2019-07-29           184\n",
       "5  2019-07-30           412\n",
       "6  2019-07-31          2030\n",
       "7  2019-08-01         36141\n",
       "8  2019-08-02         35554\n",
       "9  2019-08-03         33282\n",
       "10 2019-08-04         32968\n",
       "11 2019-08-05         36058\n",
       "12 2019-08-06         35788\n",
       "13 2019-08-07         31096"
      ]
     },
     "execution_count": 198,
     "metadata": {},
     "output_type": "execute_result"
    }
   ],
   "source": [
    "dates = (\n",
    "    data.groupby('event_date')\n",
    "    .agg({'event_name': 'count'})\n",
    "    .reset_index()\n",
    ")\n",
    "dates.columns = ['event_date', 'events_count']\n",
    "dates"
   ]
  },
  {
   "cell_type": "code",
   "execution_count": 199,
   "metadata": {
    "scrolled": false
   },
   "outputs": [
    {
     "data": {
      "image/png": "[encoded data removed]",
      "text/plain": [
       "<Figure size 1000x500 with 1 Axes>"
      ]
     },
     "metadata": {},
     "output_type": "display_data"
    }
   ],
   "source": [
    "plt.figure(figsize=(10, 5))\n",
    "plt.plot(dates['event_date'], dates['events_count'])\n",
    "plt.title('Динамика количества событий в логе')\n",
    "plt.xlabel('Дата')\n",
    "plt.ylabel('Количество событий')\n",
    "plt.xticks(ticks=dates['event_date'], rotation=45)\n",
    "plt.grid(True)\n",
    "plt.show()"
   ]
  },
  {
   "cell_type": "markdown",
   "metadata": {},
   "source": [
    "Мы располагаем данными за период с `2019-07-25` по `2019-08-07`. Однако, как видно на графике динамики количества событий в логе, начиная с `2019-08-01`, записей в логе за день становится резко больше: есть основания полагать, что данные до `2019-08-01` неполные.    \n",
    "Действительно, в дополнительной информации к задаче исследования указано, что технически в логи новых дней по некоторым пользователям могут «доезжать» события из прошлого — это может «перекашивать данные».\n",
    "\n",
    "Посмотрим более детально данные за `2019-07-31` (в разбивке по часам), чтобы отпределить более точно, когда начинается всплеск количества событий."
   ]
  },
  {
   "cell_type": "code",
   "execution_count": 200,
   "metadata": {},
   "outputs": [
    {
     "data": {
      "image/png": "[encoded data removed]",
      "text/plain": [
       "<Figure size 640x480 with 1 Axes>"
      ]
     },
     "metadata": {},
     "output_type": "display_data"
    }
   ],
   "source": [
    "events_31_hours = data.query('event_date == \"2019-07-31\"')['event_time'].dt.hour\n",
    "\n",
    "events_31_hours.hist(bins=24)\n",
    "plt.title('Гистограмма распределения количества событий в логе 2019-07-31')\n",
    "plt.xlabel('Час')\n",
    "plt.ylabel('Количество событий')\n",
    "plt.grid(True)\n",
    "plt.show()"
   ]
  },
  {
   "cell_type": "markdown",
   "metadata": {},
   "source": [
    "Если посмотреть также на данные по часам мы увидим, что первый всплеск приходится на `2019-07-31` 21-00. Но доля этих значений незначительна, поэтому мы можем проигнорировать их без существенных потерь.\n",
    "\n",
    "Таким образом, на самом деле, мы располагаем данными за период с `2019-08-01` по `2019-08-07` включительно.\n",
    "\n",
    "Посчитаем, сколько событий и пользователей мы потеряем, если удалим более старые данные (до `2019-07-31` включительно)."
   ]
  },
  {
   "cell_type": "code",
   "execution_count": 201,
   "metadata": {},
   "outputs": [
    {
     "data": {
      "text/plain": [
       "'Процент событий, который останется после удаления данных до \"2019-07-31\" включительно: 98.84%'"
      ]
     },
     "execution_count": 201,
     "metadata": {},
     "output_type": "execute_result"
    }
   ],
   "source": [
    "events_cleared = len(data.query('event_time >= \"2019-08-01\"')) / len(data)\n",
    "f'Процент событий, который останется после удаления данных до \"2019-07-31\" включительно: {events_cleared:.2%}'"
   ]
  },
  {
   "cell_type": "code",
   "execution_count": 202,
   "metadata": {},
   "outputs": [
    {
     "data": {
      "text/plain": [
       "'Процент пользователей, который останется после удаления данных до \"2019-07-31\" включительно: 99.77%'"
      ]
     },
     "execution_count": 202,
     "metadata": {},
     "output_type": "execute_result"
    }
   ],
   "source": [
    "users_cleared = len(data.query('event_time >= \"2019-08-01\"')['user_id'].unique()) / len(data['user_id'].unique())\n",
    "f'Процент пользователей, который останется после удаления данных до \"2019-07-31\" включительно: {users_cleared:.2%}'"
   ]
  },
  {
   "cell_type": "markdown",
   "metadata": {},
   "source": [
    "Так как после удаления старых данных (до `2019-07-31` включительно) мы потеряем менее 2% событий и менее 1% пользователей, удалим эти данные из датафрейма."
   ]
  },
  {
   "cell_type": "code",
   "execution_count": 203,
   "metadata": {
    "scrolled": false
   },
   "outputs": [
    {
     "name": "stdout",
     "output_type": "stream",
     "text": [
      "<class 'pandas.core.frame.DataFrame'>\n",
      "Index: 240887 entries, 2828 to 244125\n",
      "Data columns (total 5 columns):\n",
      " #   Column      Non-Null Count   Dtype         \n",
      "---  ------      --------------   -----         \n",
      " 0   event_name  240887 non-null  object        \n",
      " 1   user_id     240887 non-null  int64         \n",
      " 2   event_time  240887 non-null  datetime64[ns]\n",
      " 3   group       240887 non-null  int64         \n",
      " 4   event_date  240887 non-null  datetime64[ns]\n",
      "dtypes: datetime64[ns](2), int64(2), object(1)\n",
      "memory usage: 11.0+ MB\n"
     ]
    }
   ],
   "source": [
    "data = data.query('event_time >= \"2019-08-01\"')\n",
    "data.info()"
   ]
  },
  {
   "cell_type": "markdown",
   "metadata": {},
   "source": [
    "### Проверка наличия и качества пользователей в экспериментальных группах\n",
    "[`Перейти к содержанию проекта`](#beginning)\n",
    "\n",
    "Проверим, что в датафрейме есть пользователи всех экспериментальных групп:"
   ]
  },
  {
   "cell_type": "code",
   "execution_count": 204,
   "metadata": {},
   "outputs": [
    {
     "data": {
      "text/html": [
       "<div>\n",
       "<style scoped>\n",
       "    .dataframe tbody tr th:only-of-type {\n",
       "        vertical-align: middle;\n",
       "    }\n",
       "\n",
       "    .dataframe tbody tr th {\n",
       "        vertical-align: top;\n",
       "    }\n",
       "\n",
       "    .dataframe thead th {\n",
       "        text-align: right;\n",
       "    }\n",
       "</style>\n",
       "<table border=\"1\" class=\"dataframe\">\n",
       "  <thead>\n",
       "    <tr style=\"text-align: right;\">\n",
       "      <th></th>\n",
       "      <th>user_id</th>\n",
       "    </tr>\n",
       "    <tr>\n",
       "      <th>group</th>\n",
       "      <th></th>\n",
       "    </tr>\n",
       "  </thead>\n",
       "  <tbody>\n",
       "    <tr>\n",
       "      <th>246</th>\n",
       "      <td>79302</td>\n",
       "    </tr>\n",
       "    <tr>\n",
       "      <th>247</th>\n",
       "      <td>77022</td>\n",
       "    </tr>\n",
       "    <tr>\n",
       "      <th>248</th>\n",
       "      <td>84563</td>\n",
       "    </tr>\n",
       "  </tbody>\n",
       "</table>\n",
       "</div>"
      ],
      "text/plain": [
       "       user_id\n",
       "group         \n",
       "246      79302\n",
       "247      77022\n",
       "248      84563"
      ]
     },
     "execution_count": 204,
     "metadata": {},
     "output_type": "execute_result"
    }
   ],
   "source": [
    "# количество событий в датафрейме для каждой экспериментальной группы \n",
    "data.groupby('group').agg({'user_id': 'count'})"
   ]
  },
  {
   "cell_type": "code",
   "execution_count": 205,
   "metadata": {},
   "outputs": [
    {
     "data": {
      "text/html": [
       "<div>\n",
       "<style scoped>\n",
       "    .dataframe tbody tr th:only-of-type {\n",
       "        vertical-align: middle;\n",
       "    }\n",
       "\n",
       "    .dataframe tbody tr th {\n",
       "        vertical-align: top;\n",
       "    }\n",
       "\n",
       "    .dataframe thead th {\n",
       "        text-align: right;\n",
       "    }\n",
       "</style>\n",
       "<table border=\"1\" class=\"dataframe\">\n",
       "  <thead>\n",
       "    <tr style=\"text-align: right;\">\n",
       "      <th></th>\n",
       "      <th>user_id</th>\n",
       "    </tr>\n",
       "    <tr>\n",
       "      <th>group</th>\n",
       "      <th></th>\n",
       "    </tr>\n",
       "  </thead>\n",
       "  <tbody>\n",
       "    <tr>\n",
       "      <th>246</th>\n",
       "      <td>2484</td>\n",
       "    </tr>\n",
       "    <tr>\n",
       "      <th>247</th>\n",
       "      <td>2513</td>\n",
       "    </tr>\n",
       "    <tr>\n",
       "      <th>248</th>\n",
       "      <td>2537</td>\n",
       "    </tr>\n",
       "  </tbody>\n",
       "</table>\n",
       "</div>"
      ],
      "text/plain": [
       "       user_id\n",
       "group         \n",
       "246       2484\n",
       "247       2513\n",
       "248       2537"
      ]
     },
     "execution_count": 205,
     "metadata": {},
     "output_type": "execute_result"
    }
   ],
   "source": [
    "# количество пользователей в датафрейме для каждой экспериментальной группы \n",
    "data.groupby('group').agg({'user_id': 'nunique'})"
   ]
  },
  {
   "cell_type": "markdown",
   "metadata": {},
   "source": [
    "В датафрейме есть пользователи всех экспериментальных групп и число событий и пользователей каждой группы сопоставимы между собой."
   ]
  },
  {
   "cell_type": "markdown",
   "metadata": {},
   "source": [
    "Проверим, что одни и те же пользователи не попадают в несколько экспериментальных групп одновременно:"
   ]
  },
  {
   "cell_type": "code",
   "execution_count": 206,
   "metadata": {},
   "outputs": [
    {
     "name": "stdout",
     "output_type": "stream",
     "text": [
      "Количество пользователей, которые попали в группы 246 и 247 одновременно: 0\n",
      "Количество пользователей, которые попали в группы 246 и 248 одновременно: 0\n"
     ]
    }
   ],
   "source": [
    "# в отдельный список отберем все уникальные `user_id` из группы `246`\n",
    "user_id_246 = data.query('group == 246')['user_id'].unique()\n",
    "\n",
    "# в отдельный список отберем всех уникальных пользователей, которые попали группы `246` и `247` одновременно\n",
    "id_in_246_247 = data.query('group == 247 and  user_id in @user_id_246')['user_id'].unique()\n",
    "\n",
    "# в отдельный список отберем всех уникальных пользователей, которые попали группы `246` и `248` одновременно\n",
    "id_in_246_248 = data.query('group == 248 and  user_id in @user_id_246')['user_id'].unique()\n",
    "\n",
    "print(f'Количество пользователей, которые попали в группы 246 и 247 одновременно: {len(id_in_246_247)}')\n",
    "print(f'Количество пользователей, которые попали в группы 246 и 248 одновременно: {len(id_in_246_248)}')"
   ]
  },
  {
   "cell_type": "code",
   "execution_count": 207,
   "metadata": {},
   "outputs": [
    {
     "name": "stdout",
     "output_type": "stream",
     "text": [
      "Количество пользователей, которые попали в группы 247 и 248 одновременно: 0\n"
     ]
    }
   ],
   "source": [
    "# в отдельный список отберем все уникальные `user_id` из группы `247`\n",
    "user_id_247 = data.query('group == 247')['user_id'].unique()\n",
    "\n",
    "# в отдельный список отберем всех уникальных пользователей, которые попали группы `247` и `248` одновременно\n",
    "id_in_247_248 = data.query('group == 248 and  user_id in @user_id_247')['user_id'].unique()\n",
    "\n",
    "print(f'Количество пользователей, которые попали в группы 247 и 248 одновременно: {len(id_in_247_248)}')"
   ]
  },
  {
   "cell_type": "markdown",
   "metadata": {},
   "source": [
    "В датафрейме не выявлено пользователей, которые попали в несколько экспериментальных групп одновременно."
   ]
  },
  {
   "cell_type": "markdown",
   "metadata": {},
   "source": [
    "**Вывод:** В результате проведенного исследовательского анализа данных было выявлено следующее:\n",
    "- Количество событий в логе - 243713. Количество пользователей в логе - 7551. Среднее количество событий на пользователя - 32, а медианное количество событий на пользователя: 20. Однако, в логе есть пользователи с аномально большим числом событий (максимальное число событий на пользователя - 2307):\n",
    "    - Акцент дальнейшего исследования - анализ долей пользователей, которые совершили какое-либо событие, поэтому нас в большей степени будет интересовать факт совершения пользователем события хотя бы 1 раз и в меньшей - количество раз, которое пользователь совершал каждое событие. Поэтому в рамках данного исследования мы не будем удалять из датафрейма аномально активных пользователей. \n",
    "    - Тем не менее, стоит обратить внимание на пользователей, которые совершают необычно много действий: это могут быть боты или же ошибки в загрузке страницы (\"залипание\"). Например, один из пользователей в определенный день совершает практически каждую секунду цепочку действий `зайти в корзину - оплатить покупку`, не нереключаясь на выбор товаров.\n",
    "- Данные до `2019-07-31`, предположительно, неполные, поэтому были удалены из датафрейма;\n",
    "- В датафрейме есть пользователи всех экспериментальных групп, и число событий и пользователей каждой группы сопоставимы между собой.\n",
    "- В датафрейме не выявлено пользователей, которые попали в несколько экспериментальных групп одновременно."
   ]
  },
  {
   "cell_type": "markdown",
   "metadata": {},
   "source": [
    "## Изучение воронки событий\n",
    "[`Перейти к содержанию проекта`](#beginning)"
   ]
  },
  {
   "cell_type": "markdown",
   "metadata": {},
   "source": [
    "Посмотрим, какие события есть в логе, и как часто они встречаются. Отсортируем события по частоте."
   ]
  },
  {
   "cell_type": "code",
   "execution_count": 208,
   "metadata": {},
   "outputs": [
    {
     "data": {
      "text/html": [
       "<div>\n",
       "<style scoped>\n",
       "    .dataframe tbody tr th:only-of-type {\n",
       "        vertical-align: middle;\n",
       "    }\n",
       "\n",
       "    .dataframe tbody tr th {\n",
       "        vertical-align: top;\n",
       "    }\n",
       "\n",
       "    .dataframe thead th {\n",
       "        text-align: right;\n",
       "    }\n",
       "</style>\n",
       "<table border=\"1\" class=\"dataframe\">\n",
       "  <thead>\n",
       "    <tr style=\"text-align: right;\">\n",
       "      <th></th>\n",
       "      <th>event_name</th>\n",
       "      <th>event_count</th>\n",
       "    </tr>\n",
       "  </thead>\n",
       "  <tbody>\n",
       "    <tr>\n",
       "      <th>1</th>\n",
       "      <td>MainScreenAppear</td>\n",
       "      <td>117328</td>\n",
       "    </tr>\n",
       "    <tr>\n",
       "      <th>2</th>\n",
       "      <td>OffersScreenAppear</td>\n",
       "      <td>46333</td>\n",
       "    </tr>\n",
       "    <tr>\n",
       "      <th>0</th>\n",
       "      <td>CartScreenAppear</td>\n",
       "      <td>42303</td>\n",
       "    </tr>\n",
       "    <tr>\n",
       "      <th>3</th>\n",
       "      <td>PaymentScreenSuccessful</td>\n",
       "      <td>33918</td>\n",
       "    </tr>\n",
       "    <tr>\n",
       "      <th>4</th>\n",
       "      <td>Tutorial</td>\n",
       "      <td>1005</td>\n",
       "    </tr>\n",
       "  </tbody>\n",
       "</table>\n",
       "</div>"
      ],
      "text/plain": [
       "                event_name  event_count\n",
       "1         MainScreenAppear       117328\n",
       "2       OffersScreenAppear        46333\n",
       "0         CartScreenAppear        42303\n",
       "3  PaymentScreenSuccessful        33918\n",
       "4                 Tutorial         1005"
      ]
     },
     "execution_count": 208,
     "metadata": {},
     "output_type": "execute_result"
    }
   ],
   "source": [
    "events_freq = (\n",
    "    data.groupby('event_name')\n",
    "    .agg({'user_id': 'count'})\n",
    "    .reset_index()\n",
    "    .sort_values(by='user_id', ascending=False)\n",
    ")\n",
    "events_freq.columns = ['event_name', 'event_count']\n",
    "events_freq"
   ]
  },
  {
   "cell_type": "markdown",
   "metadata": {},
   "source": [
    "В логе есть 5 типов событый:\n",
    "- открытие страницы \"главный экран\";\n",
    "- открытие страницы \"предложения\";\n",
    "- открытие страницы \"корзина\";\n",
    "- открытие страницы \"успешная оплата покупки\";\n",
    "- открытие страницы \"справка\"."
   ]
  },
  {
   "cell_type": "markdown",
   "metadata": {},
   "source": [
    "Посчитаем, сколько пользователей совершали каждое из этих событий. Отсортируем события по числу пользователей. Посчитаем долю пользователей, которые хоть раз совершали событие."
   ]
  },
  {
   "cell_type": "code",
   "execution_count": 209,
   "metadata": {},
   "outputs": [
    {
     "data": {
      "text/plain": [
       "7534"
      ]
     },
     "execution_count": 209,
     "metadata": {},
     "output_type": "execute_result"
    }
   ],
   "source": [
    "# число уникальных пользователей в датафрейме\n",
    "total_users = len(data['user_id'].unique())\n",
    "total_users"
   ]
  },
  {
   "cell_type": "code",
   "execution_count": 210,
   "metadata": {
    "scrolled": true
   },
   "outputs": [
    {
     "data": {
      "text/html": [
       "<div>\n",
       "<style scoped>\n",
       "    .dataframe tbody tr th:only-of-type {\n",
       "        vertical-align: middle;\n",
       "    }\n",
       "\n",
       "    .dataframe tbody tr th {\n",
       "        vertical-align: top;\n",
       "    }\n",
       "\n",
       "    .dataframe thead th {\n",
       "        text-align: right;\n",
       "    }\n",
       "</style>\n",
       "<table border=\"1\" class=\"dataframe\">\n",
       "  <thead>\n",
       "    <tr style=\"text-align: right;\">\n",
       "      <th></th>\n",
       "      <th>event_name</th>\n",
       "      <th>users_count</th>\n",
       "      <th>share</th>\n",
       "    </tr>\n",
       "  </thead>\n",
       "  <tbody>\n",
       "    <tr>\n",
       "      <th>1</th>\n",
       "      <td>MainScreenAppear</td>\n",
       "      <td>7419</td>\n",
       "      <td>98.47%</td>\n",
       "    </tr>\n",
       "    <tr>\n",
       "      <th>2</th>\n",
       "      <td>OffersScreenAppear</td>\n",
       "      <td>4593</td>\n",
       "      <td>60.96%</td>\n",
       "    </tr>\n",
       "    <tr>\n",
       "      <th>0</th>\n",
       "      <td>CartScreenAppear</td>\n",
       "      <td>3734</td>\n",
       "      <td>49.56%</td>\n",
       "    </tr>\n",
       "    <tr>\n",
       "      <th>3</th>\n",
       "      <td>PaymentScreenSuccessful</td>\n",
       "      <td>3539</td>\n",
       "      <td>46.97%</td>\n",
       "    </tr>\n",
       "    <tr>\n",
       "      <th>4</th>\n",
       "      <td>Tutorial</td>\n",
       "      <td>840</td>\n",
       "      <td>11.15%</td>\n",
       "    </tr>\n",
       "  </tbody>\n",
       "</table>\n",
       "</div>"
      ],
      "text/plain": [
       "                event_name  users_count   share\n",
       "1         MainScreenAppear         7419  98.47%\n",
       "2       OffersScreenAppear         4593  60.96%\n",
       "0         CartScreenAppear         3734  49.56%\n",
       "3  PaymentScreenSuccessful         3539  46.97%\n",
       "4                 Tutorial          840  11.15%"
      ]
     },
     "execution_count": 210,
     "metadata": {},
     "output_type": "execute_result"
    }
   ],
   "source": [
    "events_users = (\n",
    "    data.groupby('event_name')\n",
    "    .agg({'user_id': 'nunique'})\n",
    "    .reset_index()\n",
    "    .sort_values(by='user_id', ascending=False)\n",
    ")\n",
    "events_users.columns = ['event_name', 'users_count']\n",
    "events_users['share'] = (events_users['users_count'] / total_users).map(lambda x: \"{0:.2%}\".format(x))\n",
    "events_users"
   ]
  },
  {
   "cell_type": "code",
   "execution_count": 211,
   "metadata": {
    "scrolled": true
   },
   "outputs": [
    {
     "data": {
      "text/html": [
       "<div>\n",
       "<style scoped>\n",
       "    .dataframe tbody tr th:only-of-type {\n",
       "        vertical-align: middle;\n",
       "    }\n",
       "\n",
       "    .dataframe tbody tr th {\n",
       "        vertical-align: top;\n",
       "    }\n",
       "\n",
       "    .dataframe thead th {\n",
       "        text-align: right;\n",
       "    }\n",
       "</style>\n",
       "<table border=\"1\" class=\"dataframe\">\n",
       "  <thead>\n",
       "    <tr style=\"text-align: right;\">\n",
       "      <th></th>\n",
       "      <th>event_name</th>\n",
       "      <th>event_date</th>\n",
       "    </tr>\n",
       "    <tr>\n",
       "      <th>user_id</th>\n",
       "      <th></th>\n",
       "      <th></th>\n",
       "    </tr>\n",
       "  </thead>\n",
       "  <tbody>\n",
       "    <tr>\n",
       "      <th>74158328448226259</th>\n",
       "      <td>PaymentScreenSuccessful</td>\n",
       "      <td>2019-08-01</td>\n",
       "    </tr>\n",
       "    <tr>\n",
       "      <th>111394506613435756</th>\n",
       "      <td>PaymentScreenSuccessful</td>\n",
       "      <td>2019-08-02</td>\n",
       "    </tr>\n",
       "    <tr>\n",
       "      <th>214966247576341063</th>\n",
       "      <td>OffersScreenAppear</td>\n",
       "      <td>2019-08-01</td>\n",
       "    </tr>\n",
       "    <tr>\n",
       "      <th>261817378841141406</th>\n",
       "      <td>PaymentScreenSuccessful</td>\n",
       "      <td>2019-08-02</td>\n",
       "    </tr>\n",
       "    <tr>\n",
       "      <th>332529825412858125</th>\n",
       "      <td>OffersScreenAppear</td>\n",
       "      <td>2019-08-01</td>\n",
       "    </tr>\n",
       "    <tr>\n",
       "      <th>...</th>\n",
       "      <td>...</td>\n",
       "      <td>...</td>\n",
       "    </tr>\n",
       "    <tr>\n",
       "      <th>8586953157808767383</th>\n",
       "      <td>OffersScreenAppear</td>\n",
       "      <td>2019-08-03</td>\n",
       "    </tr>\n",
       "    <tr>\n",
       "      <th>8804319115517716344</th>\n",
       "      <td>PaymentScreenSuccessful</td>\n",
       "      <td>2019-08-02</td>\n",
       "    </tr>\n",
       "    <tr>\n",
       "      <th>8821171531680573201</th>\n",
       "      <td>OffersScreenAppear</td>\n",
       "      <td>2019-08-02</td>\n",
       "    </tr>\n",
       "    <tr>\n",
       "      <th>9124766629178994679</th>\n",
       "      <td>OffersScreenAppear</td>\n",
       "      <td>2019-08-01</td>\n",
       "    </tr>\n",
       "    <tr>\n",
       "      <th>9217594193087726423</th>\n",
       "      <td>PaymentScreenSuccessful</td>\n",
       "      <td>2019-08-02</td>\n",
       "    </tr>\n",
       "  </tbody>\n",
       "</table>\n",
       "<p>115 rows × 2 columns</p>\n",
       "</div>"
      ],
      "text/plain": [
       "                                  event_name event_date\n",
       "user_id                                                \n",
       "74158328448226259    PaymentScreenSuccessful 2019-08-01\n",
       "111394506613435756   PaymentScreenSuccessful 2019-08-02\n",
       "214966247576341063        OffersScreenAppear 2019-08-01\n",
       "261817378841141406   PaymentScreenSuccessful 2019-08-02\n",
       "332529825412858125        OffersScreenAppear 2019-08-01\n",
       "...                                      ...        ...\n",
       "8586953157808767383       OffersScreenAppear 2019-08-03\n",
       "8804319115517716344  PaymentScreenSuccessful 2019-08-02\n",
       "8821171531680573201       OffersScreenAppear 2019-08-02\n",
       "9124766629178994679       OffersScreenAppear 2019-08-01\n",
       "9217594193087726423  PaymentScreenSuccessful 2019-08-02\n",
       "\n",
       "[115 rows x 2 columns]"
      ]
     },
     "execution_count": 211,
     "metadata": {},
     "output_type": "execute_result"
    }
   ],
   "source": [
    "# выделим пользователей, которые в датафрейме не совершали открытие главной страницы и для них выведем первый этап\n",
    "users_main_page = data.query('event_name == \"MainScreenAppear\"')['user_id'].unique()\n",
    "(\n",
    "    data.query('user_id not in @users_main_page')\n",
    "    .sort_values(by=['user_id', 'event_time'])\n",
    "    .groupby('user_id')\n",
    "    .agg({'event_name': 'first', 'event_date': 'first'})\n",
    ")"
   ]
  },
  {
   "cell_type": "markdown",
   "metadata": {},
   "source": [
    "Предположительно, события происходят в следующем порядке:\n",
    "1. открытие страницы \"главный экран\" (MainScreenAppear);\n",
    "2. открытие страницы \"предложения\" (OffersScreenAppear);\n",
    "3. открытие страницы \"корзина\" (CartScreenAppear);\n",
    "4. открытие страницы \"успешная оплата покупки\" (PaymentScreenSuccessful).\n",
    "\n",
    "При этом, событие `открытие страницы \"справка\" (Tutorial)` не встраивается в последовательную цепочку, так как может открываться пользователем на любом этапе, и от этого события не зависит напрямую осуществление покупки пользователем.     \n",
    "Также, теоретически, пользователь может пропустить шаг `открытие страницы \"предложения\" (OffersScreenAppear)` и сразу перейти к корзине с главного экрана, если на нем представлены какие-либо товары, или открыть корзину с ранее сохраненными в ней товарами для последующей оплаты. Однако, учитывая то, что альтернативного открытию страницы \"предложения\" события в логах не представлено (например, поиск товара по названию), будем считать, что этот шаг является обязательным (как выбор из меню).\n",
    "\n",
    "Как видно из таблицы выше, не все пользователи совершали открытие главной страницы (событие MainScreenAppear) - есть 115 пользователей, которые сразу совершали другие действия (причем, не только `открытие страницы \"справка\" (Tutorial)`) - возможно, данные о первых действиях этих пользователей не входят в изучаемый временной интервал. Так как доля таких пользователей крайне маленькая, то при расчете воронки будем считать за максимальное количество пользователей число совершивших первое событие - `открытие страницы \"главный экран\" (MainScreenAppear)`."
   ]
  },
  {
   "cell_type": "markdown",
   "metadata": {},
   "source": [
    "По воронке событий посчитаем, какая доля пользователей проходит на следующий шаг воронки (от числа пользователей на предыдущем). Также посчитаем, какая доля пользователей проходит на каждый шаг воронки от числа пользователей на первом шаге. При расчете воронки не будем учитывать события типа `открытие страницы \"справка\" (Tutorial)`:"
   ]
  },
  {
   "cell_type": "code",
   "execution_count": 212,
   "metadata": {},
   "outputs": [],
   "source": [
    "# для воронки удалим из датафрейма события типа `Tutorial`\n",
    "data_for_funnel = data.query('event_name != \"Tutorial\"')"
   ]
  },
  {
   "cell_type": "code",
   "execution_count": 213,
   "metadata": {},
   "outputs": [
    {
     "data": {
      "text/html": [
       "<div>\n",
       "<style scoped>\n",
       "    .dataframe tbody tr th:only-of-type {\n",
       "        vertical-align: middle;\n",
       "    }\n",
       "\n",
       "    .dataframe tbody tr th {\n",
       "        vertical-align: top;\n",
       "    }\n",
       "\n",
       "    .dataframe thead th {\n",
       "        text-align: right;\n",
       "    }\n",
       "</style>\n",
       "<table border=\"1\" class=\"dataframe\">\n",
       "  <thead>\n",
       "    <tr style=\"text-align: right;\">\n",
       "      <th></th>\n",
       "      <th>event_name</th>\n",
       "      <th>user_id</th>\n",
       "      <th>event_time</th>\n",
       "      <th>group</th>\n",
       "      <th>event_date</th>\n",
       "    </tr>\n",
       "  </thead>\n",
       "  <tbody>\n",
       "    <tr>\n",
       "      <th>2829</th>\n",
       "      <td>MainScreenAppear</td>\n",
       "      <td>3737462046622621720</td>\n",
       "      <td>2019-08-01 00:08:00</td>\n",
       "      <td>246</td>\n",
       "      <td>2019-08-01</td>\n",
       "    </tr>\n",
       "    <tr>\n",
       "      <th>2830</th>\n",
       "      <td>MainScreenAppear</td>\n",
       "      <td>3737462046622621720</td>\n",
       "      <td>2019-08-01 00:08:55</td>\n",
       "      <td>246</td>\n",
       "      <td>2019-08-01</td>\n",
       "    </tr>\n",
       "    <tr>\n",
       "      <th>2831</th>\n",
       "      <td>OffersScreenAppear</td>\n",
       "      <td>3737462046622621720</td>\n",
       "      <td>2019-08-01 00:08:58</td>\n",
       "      <td>246</td>\n",
       "      <td>2019-08-01</td>\n",
       "    </tr>\n",
       "    <tr>\n",
       "      <th>2832</th>\n",
       "      <td>MainScreenAppear</td>\n",
       "      <td>1433840883824088890</td>\n",
       "      <td>2019-08-01 00:08:59</td>\n",
       "      <td>247</td>\n",
       "      <td>2019-08-01</td>\n",
       "    </tr>\n",
       "    <tr>\n",
       "      <th>2833</th>\n",
       "      <td>MainScreenAppear</td>\n",
       "      <td>4899590676214355127</td>\n",
       "      <td>2019-08-01 00:10:15</td>\n",
       "      <td>247</td>\n",
       "      <td>2019-08-01</td>\n",
       "    </tr>\n",
       "  </tbody>\n",
       "</table>\n",
       "</div>"
      ],
      "text/plain": [
       "              event_name              user_id          event_time  group  \\\n",
       "2829    MainScreenAppear  3737462046622621720 2019-08-01 00:08:00    246   \n",
       "2830    MainScreenAppear  3737462046622621720 2019-08-01 00:08:55    246   \n",
       "2831  OffersScreenAppear  3737462046622621720 2019-08-01 00:08:58    246   \n",
       "2832    MainScreenAppear  1433840883824088890 2019-08-01 00:08:59    247   \n",
       "2833    MainScreenAppear  4899590676214355127 2019-08-01 00:10:15    247   \n",
       "\n",
       "     event_date  \n",
       "2829 2019-08-01  \n",
       "2830 2019-08-01  \n",
       "2831 2019-08-01  \n",
       "2832 2019-08-01  \n",
       "2833 2019-08-01  "
      ]
     },
     "execution_count": 213,
     "metadata": {},
     "output_type": "execute_result"
    }
   ],
   "source": [
    "data_for_funnel.head()"
   ]
  },
  {
   "cell_type": "code",
   "execution_count": 214,
   "metadata": {},
   "outputs": [
    {
     "data": {
      "text/html": [
       "<div>\n",
       "<style scoped>\n",
       "    .dataframe tbody tr th:only-of-type {\n",
       "        vertical-align: middle;\n",
       "    }\n",
       "\n",
       "    .dataframe tbody tr th {\n",
       "        vertical-align: top;\n",
       "    }\n",
       "\n",
       "    .dataframe thead th {\n",
       "        text-align: right;\n",
       "    }\n",
       "</style>\n",
       "<table border=\"1\" class=\"dataframe\">\n",
       "  <thead>\n",
       "    <tr style=\"text-align: right;\">\n",
       "      <th></th>\n",
       "      <th>event_name</th>\n",
       "      <th>users_count</th>\n",
       "      <th>next_step_share</th>\n",
       "      <th>first_step_share</th>\n",
       "    </tr>\n",
       "  </thead>\n",
       "  <tbody>\n",
       "    <tr>\n",
       "      <th>0</th>\n",
       "      <td>MainScreenAppear</td>\n",
       "      <td>7419</td>\n",
       "      <td>1.00</td>\n",
       "      <td>1.00</td>\n",
       "    </tr>\n",
       "    <tr>\n",
       "      <th>1</th>\n",
       "      <td>OffersScreenAppear</td>\n",
       "      <td>4593</td>\n",
       "      <td>0.62</td>\n",
       "      <td>0.62</td>\n",
       "    </tr>\n",
       "    <tr>\n",
       "      <th>2</th>\n",
       "      <td>CartScreenAppear</td>\n",
       "      <td>3734</td>\n",
       "      <td>0.81</td>\n",
       "      <td>0.50</td>\n",
       "    </tr>\n",
       "    <tr>\n",
       "      <th>3</th>\n",
       "      <td>PaymentScreenSuccessful</td>\n",
       "      <td>3539</td>\n",
       "      <td>0.95</td>\n",
       "      <td>0.48</td>\n",
       "    </tr>\n",
       "  </tbody>\n",
       "</table>\n",
       "</div>"
      ],
      "text/plain": [
       "                event_name  users_count  next_step_share  first_step_share\n",
       "0         MainScreenAppear         7419             1.00              1.00\n",
       "1       OffersScreenAppear         4593             0.62              0.62\n",
       "2         CartScreenAppear         3734             0.81              0.50\n",
       "3  PaymentScreenSuccessful         3539             0.95              0.48"
      ]
     },
     "execution_count": 214,
     "metadata": {},
     "output_type": "execute_result"
    }
   ],
   "source": [
    "funnel = (\n",
    "    data_for_funnel.groupby('event_name')\n",
    "    .agg({'user_id': 'nunique'})\n",
    "    .sort_values(by='user_id', ascending=False)\n",
    "    .reset_index()\n",
    ")\n",
    "\n",
    "funnel.columns = ['event_name', 'users_count']\n",
    "\n",
    "funnel['next_step_share'] = round(\n",
    "    (funnel['users_count'] / funnel['users_count'].shift(1)), 2\n",
    ")\n",
    "\n",
    "funnel.loc[0, 'next_step_share'] = 1\n",
    "\n",
    "funnel[\"first_step_share\"] = round(\n",
    "    (funnel[\"users_count\"] / funnel.loc[0, \"users_count\"]), 2\n",
    ")\n",
    "\n",
    "funnel"
   ]
  },
  {
   "cell_type": "code",
   "execution_count": 215,
   "metadata": {},
   "outputs": [
    {
     "data": {
      "application/vnd.plotly.v1+json": {
       "config": {
        "plotlyServerURL": "https://plot.ly"
       },
       "data": [
        {
         "textinfo": "value+percent previous",
         "textposition": "inside",
         "type": "funnel",
         "x": [
          7419,
          4593,
          3734,
          3539
         ],
         "y": [
          "MainScreenAppear",
          "OffersScreenAppear",
          "CartScreenAppear",
          "PaymentScreenSuccessful"
         ]
        }
       ],
       "layout": {
        "template": {
         "data": {
          "bar": [
           {
            "error_x": {
             "color": "#2a3f5f"
            },
            "error_y": {
             "color": "#2a3f5f"
            },
            "marker": {
             "line": {
              "color": "#E5ECF6",
              "width": 0.5
             },
             "pattern": {
              "fillmode": "overlay",
              "size": 10,
              "solidity": 0.2
             }
            },
            "type": "bar"
           }
          ],
          "barpolar": [
           {
            "marker": {
             "line": {
              "color": "#E5ECF6",
              "width": 0.5
             },
             "pattern": {
              "fillmode": "overlay",
              "size": 10,
              "solidity": 0.2
             }
            },
            "type": "barpolar"
           }
          ],
          "carpet": [
           {
            "aaxis": {
             "endlinecolor": "#2a3f5f",
             "gridcolor": "white",
             "linecolor": "white",
             "minorgridcolor": "white",
             "startlinecolor": "#2a3f5f"
            },
            "baxis": {
             "endlinecolor": "#2a3f5f",
             "gridcolor": "white",
             "linecolor": "white",
             "minorgridcolor": "white",
             "startlinecolor": "#2a3f5f"
            },
            "type": "carpet"
           }
          ],
          "choropleth": [
           {
            "colorbar": {
             "outlinewidth": 0,
             "ticks": ""
            },
            "type": "choropleth"
           }
          ],
          "contour": [
           {
            "colorbar": {
             "outlinewidth": 0,
             "ticks": ""
            },
            "colorscale": [
             [
              0,
              "#0d0887"
             ],
             [
              0.1111111111111111,
              "#46039f"
             ],
             [
              0.2222222222222222,
              "#7201a8"
             ],
             [
              0.3333333333333333,
              "#9c179e"
             ],
             [
              0.4444444444444444,
              "#bd3786"
             ],
             [
              0.5555555555555556,
              "#d8576b"
             ],
             [
              0.6666666666666666,
              "#ed7953"
             ],
             [
              0.7777777777777778,
              "#fb9f3a"
             ],
             [
              0.8888888888888888,
              "#fdca26"
             ],
             [
              1,
              "#f0f921"
             ]
            ],
            "type": "contour"
           }
          ],
          "contourcarpet": [
           {
            "colorbar": {
             "outlinewidth": 0,
             "ticks": ""
            },
            "type": "contourcarpet"
           }
          ],
          "heatmap": [
           {
            "colorbar": {
             "outlinewidth": 0,
             "ticks": ""
            },
            "colorscale": [
             [
              0,
              "#0d0887"
             ],
             [
              0.1111111111111111,
              "#46039f"
             ],
             [
              0.2222222222222222,
              "#7201a8"
             ],
             [
              0.3333333333333333,
              "#9c179e"
             ],
             [
              0.4444444444444444,
              "#bd3786"
             ],
             [
              0.5555555555555556,
              "#d8576b"
             ],
             [
              0.6666666666666666,
              "#ed7953"
             ],
             [
              0.7777777777777778,
              "#fb9f3a"
             ],
             [
              0.8888888888888888,
              "#fdca26"
             ],
             [
              1,
              "#f0f921"
             ]
            ],
            "type": "heatmap"
           }
          ],
          "heatmapgl": [
           {
            "colorbar": {
             "outlinewidth": 0,
             "ticks": ""
            },
            "colorscale": [
             [
              0,
              "#0d0887"
             ],
             [
              0.1111111111111111,
              "#46039f"
             ],
             [
              0.2222222222222222,
              "#7201a8"
             ],
             [
              0.3333333333333333,
              "#9c179e"
             ],
             [
              0.4444444444444444,
              "#bd3786"
             ],
             [
              0.5555555555555556,
              "#d8576b"
             ],
             [
              0.6666666666666666,
              "#ed7953"
             ],
             [
              0.7777777777777778,
              "#fb9f3a"
             ],
             [
              0.8888888888888888,
              "#fdca26"
             ],
             [
              1,
              "#f0f921"
             ]
            ],
            "type": "heatmapgl"
           }
          ],
          "histogram": [
           {
            "marker": {
             "pattern": {
              "fillmode": "overlay",
              "size": 10,
              "solidity": 0.2
             }
            },
            "type": "histogram"
           }
          ],
          "histogram2d": [
           {
            "colorbar": {
             "outlinewidth": 0,
             "ticks": ""
            },
            "colorscale": [
             [
              0,
              "#0d0887"
             ],
             [
              0.1111111111111111,
              "#46039f"
             ],
             [
              0.2222222222222222,
              "#7201a8"
             ],
             [
              0.3333333333333333,
              "#9c179e"
             ],
             [
              0.4444444444444444,
              "#bd3786"
             ],
             [
              0.5555555555555556,
              "#d8576b"
             ],
             [
              0.6666666666666666,
              "#ed7953"
             ],
             [
              0.7777777777777778,
              "#fb9f3a"
             ],
             [
              0.8888888888888888,
              "#fdca26"
             ],
             [
              1,
              "#f0f921"
             ]
            ],
            "type": "histogram2d"
           }
          ],
          "histogram2dcontour": [
           {
            "colorbar": {
             "outlinewidth": 0,
             "ticks": ""
            },
            "colorscale": [
             [
              0,
              "#0d0887"
             ],
             [
              0.1111111111111111,
              "#46039f"
             ],
             [
              0.2222222222222222,
              "#7201a8"
             ],
             [
              0.3333333333333333,
              "#9c179e"
             ],
             [
              0.4444444444444444,
              "#bd3786"
             ],
             [
              0.5555555555555556,
              "#d8576b"
             ],
             [
              0.6666666666666666,
              "#ed7953"
             ],
             [
              0.7777777777777778,
              "#fb9f3a"
             ],
             [
              0.8888888888888888,
              "#fdca26"
             ],
             [
              1,
              "#f0f921"
             ]
            ],
            "type": "histogram2dcontour"
           }
          ],
          "mesh3d": [
           {
            "colorbar": {
             "outlinewidth": 0,
             "ticks": ""
            },
            "type": "mesh3d"
           }
          ],
          "parcoords": [
           {
            "line": {
             "colorbar": {
              "outlinewidth": 0,
              "ticks": ""
             }
            },
            "type": "parcoords"
           }
          ],
          "pie": [
           {
            "automargin": true,
            "type": "pie"
           }
          ],
          "scatter": [
           {
            "fillpattern": {
             "fillmode": "overlay",
             "size": 10,
             "solidity": 0.2
            },
            "type": "scatter"
           }
          ],
          "scatter3d": [
           {
            "line": {
             "colorbar": {
              "outlinewidth": 0,
              "ticks": ""
             }
            },
            "marker": {
             "colorbar": {
              "outlinewidth": 0,
              "ticks": ""
             }
            },
            "type": "scatter3d"
           }
          ],
          "scattercarpet": [
           {
            "marker": {
             "colorbar": {
              "outlinewidth": 0,
              "ticks": ""
             }
            },
            "type": "scattercarpet"
           }
          ],
          "scattergeo": [
           {
            "marker": {
             "colorbar": {
              "outlinewidth": 0,
              "ticks": ""
             }
            },
            "type": "scattergeo"
           }
          ],
          "scattergl": [
           {
            "marker": {
             "colorbar": {
              "outlinewidth": 0,
              "ticks": ""
             }
            },
            "type": "scattergl"
           }
          ],
          "scattermapbox": [
           {
            "marker": {
             "colorbar": {
              "outlinewidth": 0,
              "ticks": ""
             }
            },
            "type": "scattermapbox"
           }
          ],
          "scatterpolar": [
           {
            "marker": {
             "colorbar": {
              "outlinewidth": 0,
              "ticks": ""
             }
            },
            "type": "scatterpolar"
           }
          ],
          "scatterpolargl": [
           {
            "marker": {
             "colorbar": {
              "outlinewidth": 0,
              "ticks": ""
             }
            },
            "type": "scatterpolargl"
           }
          ],
          "scatterternary": [
           {
            "marker": {
             "colorbar": {
              "outlinewidth": 0,
              "ticks": ""
             }
            },
            "type": "scatterternary"
           }
          ],
          "surface": [
           {
            "colorbar": {
             "outlinewidth": 0,
             "ticks": ""
            },
            "colorscale": [
             [
              0,
              "#0d0887"
             ],
             [
              0.1111111111111111,
              "#46039f"
             ],
             [
              0.2222222222222222,
              "#7201a8"
             ],
             [
              0.3333333333333333,
              "#9c179e"
             ],
             [
              0.4444444444444444,
              "#bd3786"
             ],
             [
              0.5555555555555556,
              "#d8576b"
             ],
             [
              0.6666666666666666,
              "#ed7953"
             ],
             [
              0.7777777777777778,
              "#fb9f3a"
             ],
             [
              0.8888888888888888,
              "#fdca26"
             ],
             [
              1,
              "#f0f921"
             ]
            ],
            "type": "surface"
           }
          ],
          "table": [
           {
            "cells": {
             "fill": {
              "color": "#EBF0F8"
             },
             "line": {
              "color": "white"
             }
            },
            "header": {
             "fill": {
              "color": "#C8D4E3"
             },
             "line": {
              "color": "white"
             }
            },
            "type": "table"
           }
          ]
         },
         "layout": {
          "annotationdefaults": {
           "arrowcolor": "#2a3f5f",
           "arrowhead": 0,
           "arrowwidth": 1
          },
          "autotypenumbers": "strict",
          "coloraxis": {
           "colorbar": {
            "outlinewidth": 0,
            "ticks": ""
           }
          },
          "colorscale": {
           "diverging": [
            [
             0,
             "#8e0152"
            ],
            [
             0.1,
             "#c51b7d"
            ],
            [
             0.2,
             "#de77ae"
            ],
            [
             0.3,
             "#f1b6da"
            ],
            [
             0.4,
             "#fde0ef"
            ],
            [
             0.5,
             "#f7f7f7"
            ],
            [
             0.6,
             "#e6f5d0"
            ],
            [
             0.7,
             "#b8e186"
            ],
            [
             0.8,
             "#7fbc41"
            ],
            [
             0.9,
             "#4d9221"
            ],
            [
             1,
             "#276419"
            ]
           ],
           "sequential": [
            [
             0,
             "#0d0887"
            ],
            [
             0.1111111111111111,
             "#46039f"
            ],
            [
             0.2222222222222222,
             "#7201a8"
            ],
            [
             0.3333333333333333,
             "#9c179e"
            ],
            [
             0.4444444444444444,
             "#bd3786"
            ],
            [
             0.5555555555555556,
             "#d8576b"
            ],
            [
             0.6666666666666666,
             "#ed7953"
            ],
            [
             0.7777777777777778,
             "#fb9f3a"
            ],
            [
             0.8888888888888888,
             "#fdca26"
            ],
            [
             1,
             "#f0f921"
            ]
           ],
           "sequentialminus": [
            [
             0,
             "#0d0887"
            ],
            [
             0.1111111111111111,
             "#46039f"
            ],
            [
             0.2222222222222222,
             "#7201a8"
            ],
            [
             0.3333333333333333,
             "#9c179e"
            ],
            [
             0.4444444444444444,
             "#bd3786"
            ],
            [
             0.5555555555555556,
             "#d8576b"
            ],
            [
             0.6666666666666666,
             "#ed7953"
            ],
            [
             0.7777777777777778,
             "#fb9f3a"
            ],
            [
             0.8888888888888888,
             "#fdca26"
            ],
            [
             1,
             "#f0f921"
            ]
           ]
          },
          "colorway": [
           "#636efa",
           "#EF553B",
           "#00cc96",
           "#ab63fa",
           "#FFA15A",
           "#19d3f3",
           "#FF6692",
           "#B6E880",
           "#FF97FF",
           "#FECB52"
          ],
          "font": {
           "color": "#2a3f5f"
          },
          "geo": {
           "bgcolor": "white",
           "lakecolor": "white",
           "landcolor": "#E5ECF6",
           "showlakes": true,
           "showland": true,
           "subunitcolor": "white"
          },
          "hoverlabel": {
           "align": "left"
          },
          "hovermode": "closest",
          "mapbox": {
           "style": "light"
          },
          "paper_bgcolor": "white",
          "plot_bgcolor": "#E5ECF6",
          "polar": {
           "angularaxis": {
            "gridcolor": "white",
            "linecolor": "white",
            "ticks": ""
           },
           "bgcolor": "#E5ECF6",
           "radialaxis": {
            "gridcolor": "white",
            "linecolor": "white",
            "ticks": ""
           }
          },
          "scene": {
           "xaxis": {
            "backgroundcolor": "#E5ECF6",
            "gridcolor": "white",
            "gridwidth": 2,
            "linecolor": "white",
            "showbackground": true,
            "ticks": "",
            "zerolinecolor": "white"
           },
           "yaxis": {
            "backgroundcolor": "#E5ECF6",
            "gridcolor": "white",
            "gridwidth": 2,
            "linecolor": "white",
            "showbackground": true,
            "ticks": "",
            "zerolinecolor": "white"
           },
           "zaxis": {
            "backgroundcolor": "#E5ECF6",
            "gridcolor": "white",
            "gridwidth": 2,
            "linecolor": "white",
            "showbackground": true,
            "ticks": "",
            "zerolinecolor": "white"
           }
          },
          "shapedefaults": {
           "line": {
            "color": "#2a3f5f"
           }
          },
          "ternary": {
           "aaxis": {
            "gridcolor": "white",
            "linecolor": "white",
            "ticks": ""
           },
           "baxis": {
            "gridcolor": "white",
            "linecolor": "white",
            "ticks": ""
           },
           "bgcolor": "#E5ECF6",
           "caxis": {
            "gridcolor": "white",
            "linecolor": "white",
            "ticks": ""
           }
          },
          "title": {
           "x": 0.05
          },
          "xaxis": {
           "automargin": true,
           "gridcolor": "white",
           "linecolor": "white",
           "ticks": "",
           "title": {
            "standoff": 15
           },
           "zerolinecolor": "white",
           "zerolinewidth": 2
          },
          "yaxis": {
           "automargin": true,
           "gridcolor": "white",
           "linecolor": "white",
           "ticks": "",
           "title": {
            "standoff": 15
           },
           "zerolinecolor": "white",
           "zerolinewidth": 2
          }
         }
        },
        "title": {
         "text": "Воронка событий, % пользователей",
         "x": 0.5
        }
       }
      }
     },
     "metadata": {},
     "output_type": "display_data"
    }
   ],
   "source": [
    "fig = go.Figure(go.Funnel(y = funnel['event_name'],\n",
    "                          x = funnel['users_count'],\n",
    "                          textposition = 'inside',\n",
    "                          textinfo = 'value + percent previous'))\n",
    "fig.update_layout(title='Воронка событий, % пользователей', title_x = 0.5)\n",
    "fig.show()"
   ]
  },
  {
   "cell_type": "markdown",
   "metadata": {},
   "source": [
    "**Вывод:** В целом, до оплаты доходит менее половины пользователей (48%). \n",
    "\n",
    "Больше всего пользователей теряется на втором шаге `открытие страницы \"предложения\" (OffersScreenAppear)`, то есть, сразу после открытия главной страницы (открытия приложения) - 38% не продолжают взаимодействовать с приложением. Для удержания пользователей на этом этапе можно вывести на главную страницу дополнительные привлекающие внимание специальные предложения/акции.   \n",
    "\n",
    "Не переходят к добавлению товаров в корзину 19% пользователей, которые просмотрели предложенные товары. Для дополнительного удержания пользователей на данном этапе можно направить усилия на развитие систем рекомендаций и специальных предложений для первых покупок. Однако, удержание пользователей, которые уходят после просмотра главной страницы, является наиболее приоритетной точкой для развития.\n",
    "\n",
    "Пользователи, которые добавили товар в корзину уже, как правило, становятся покупателями: только 5% пользователей не осуществляют ни одной покупки после добавления товаров в корзину. Для того, чтобы подтолкнуть пользователей к оплате собранной корзины можно настроить систему рассылки напоминаний о выбранных ранее товарах."
   ]
  },
  {
   "cell_type": "markdown",
   "metadata": {},
   "source": [
    "## Изучение результатов эксперимента\n",
    "[`Перейти к содержанию проекта`](#beginning)"
   ]
  },
  {
   "cell_type": "markdown",
   "metadata": {},
   "source": [
    "### Расчет количества пользователей в экспериментальных группах\n",
    "[`Перейти к содержанию проекта`](#beginning)\n",
    "\n",
    "Выведем, сколько пользователей в каждой группе."
   ]
  },
  {
   "cell_type": "code",
   "execution_count": 216,
   "metadata": {
    "scrolled": true
   },
   "outputs": [
    {
     "data": {
      "text/html": [
       "<div>\n",
       "<style scoped>\n",
       "    .dataframe tbody tr th:only-of-type {\n",
       "        vertical-align: middle;\n",
       "    }\n",
       "\n",
       "    .dataframe tbody tr th {\n",
       "        vertical-align: top;\n",
       "    }\n",
       "\n",
       "    .dataframe thead th {\n",
       "        text-align: right;\n",
       "    }\n",
       "</style>\n",
       "<table border=\"1\" class=\"dataframe\">\n",
       "  <thead>\n",
       "    <tr style=\"text-align: right;\">\n",
       "      <th></th>\n",
       "      <th>Total_users</th>\n",
       "    </tr>\n",
       "    <tr>\n",
       "      <th>group</th>\n",
       "      <th></th>\n",
       "    </tr>\n",
       "  </thead>\n",
       "  <tbody>\n",
       "    <tr>\n",
       "      <th>246</th>\n",
       "      <td>2484</td>\n",
       "    </tr>\n",
       "    <tr>\n",
       "      <th>247</th>\n",
       "      <td>2513</td>\n",
       "    </tr>\n",
       "    <tr>\n",
       "      <th>248</th>\n",
       "      <td>2537</td>\n",
       "    </tr>\n",
       "  </tbody>\n",
       "</table>\n",
       "</div>"
      ],
      "text/plain": [
       "       Total_users\n",
       "group             \n",
       "246           2484\n",
       "247           2513\n",
       "248           2537"
      ]
     },
     "execution_count": 216,
     "metadata": {},
     "output_type": "execute_result"
    }
   ],
   "source": [
    "users_by_groups = (\n",
    "    data.groupby('group')\n",
    "    .agg({'user_id': 'nunique'})\n",
    ")\n",
    "users_by_groups.columns = ['Total_users']\n",
    "users_by_groups"
   ]
  },
  {
   "cell_type": "code",
   "execution_count": 217,
   "metadata": {
    "scrolled": true
   },
   "outputs": [
    {
     "name": "stdout",
     "output_type": "stream",
     "text": [
      "Превышение числа пользователей группы 247 над группой 246: 1.17%\n",
      "Превышение числа пользователей группы 248 над группой 246: 2.13%\n",
      "Превышение числа пользователей группы 248 над группой 247: 0.96%\n"
     ]
    }
   ],
   "source": [
    "users_246 = int(users_by_groups.loc[246, 'Total_users'])\n",
    "users_247 = int(users_by_groups.loc[247, 'Total_users'])\n",
    "users_248 = int(users_by_groups.loc[248, 'Total_users'])\n",
    "\n",
    "print(f'Превышение числа пользователей группы 247 над группой 246: {(users_247 -  users_246) / users_246:.2%}')\n",
    "print(f'Превышение числа пользователей группы 248 над группой 246: {(users_248 -  users_246) / users_246:.2%}')\n",
    "print(f'Превышение числа пользователей группы 248 над группой 247: {(users_248 -  users_247) / users_247:.2%}')"
   ]
  },
  {
   "cell_type": "markdown",
   "metadata": {},
   "source": [
    "Количество пользователей в каждой группы отличается незначительно (на 1-2%). Ранее на этапе исследовательского анализа данным мы уже проверили, что каждый пользователь принадлежит только одной экспериментальной группе."
   ]
  },
  {
   "cell_type": "markdown",
   "metadata": {},
   "source": [
    "### Проверка корректности разбиения на экспериментальные группы\n",
    "[`Перейти к содержанию проекта`](#beginning)"
   ]
  },
  {
   "cell_type": "markdown",
   "metadata": {},
   "source": [
    "Проверим, находят ли статистические критерии разницу между выборками `246` и `247`. Сформулируем гипотезы.\n",
    "\n",
    "**Нулевая гипотеза:** различий в долях пользователей, совершивших событие, между группами нет.    \n",
    "**Альтернативная гипотеза:** различия в долях между группами есть.\n",
    "\n",
    "Установим уровень значимости `alpha = 0.1`"
   ]
  },
  {
   "cell_type": "markdown",
   "metadata": {},
   "source": [
    "Выведем таблицу с количеством пользователей, совершивших каждое событие, по каждой экспериментальной группе:"
   ]
  },
  {
   "cell_type": "code",
   "execution_count": 218,
   "metadata": {
    "scrolled": true
   },
   "outputs": [
    {
     "data": {
      "text/html": [
       "<div>\n",
       "<style scoped>\n",
       "    .dataframe tbody tr th:only-of-type {\n",
       "        vertical-align: middle;\n",
       "    }\n",
       "\n",
       "    .dataframe tbody tr th {\n",
       "        vertical-align: top;\n",
       "    }\n",
       "\n",
       "    .dataframe thead th {\n",
       "        text-align: right;\n",
       "    }\n",
       "</style>\n",
       "<table border=\"1\" class=\"dataframe\">\n",
       "  <thead>\n",
       "    <tr style=\"text-align: right;\">\n",
       "      <th></th>\n",
       "      <th>CartScreenAppear</th>\n",
       "      <th>MainScreenAppear</th>\n",
       "      <th>OffersScreenAppear</th>\n",
       "      <th>PaymentScreenSuccessful</th>\n",
       "      <th>Total_users</th>\n",
       "    </tr>\n",
       "    <tr>\n",
       "      <th>group</th>\n",
       "      <th></th>\n",
       "      <th></th>\n",
       "      <th></th>\n",
       "      <th></th>\n",
       "      <th></th>\n",
       "    </tr>\n",
       "  </thead>\n",
       "  <tbody>\n",
       "    <tr>\n",
       "      <th>246</th>\n",
       "      <td>1266</td>\n",
       "      <td>2450</td>\n",
       "      <td>1542</td>\n",
       "      <td>1200</td>\n",
       "      <td>2484</td>\n",
       "    </tr>\n",
       "    <tr>\n",
       "      <th>247</th>\n",
       "      <td>1238</td>\n",
       "      <td>2476</td>\n",
       "      <td>1520</td>\n",
       "      <td>1158</td>\n",
       "      <td>2513</td>\n",
       "    </tr>\n",
       "    <tr>\n",
       "      <th>248</th>\n",
       "      <td>1230</td>\n",
       "      <td>2493</td>\n",
       "      <td>1531</td>\n",
       "      <td>1181</td>\n",
       "      <td>2537</td>\n",
       "    </tr>\n",
       "    <tr>\n",
       "      <th>246+247</th>\n",
       "      <td>2504</td>\n",
       "      <td>4926</td>\n",
       "      <td>3062</td>\n",
       "      <td>2358</td>\n",
       "      <td>4997</td>\n",
       "    </tr>\n",
       "  </tbody>\n",
       "</table>\n",
       "</div>"
      ],
      "text/plain": [
       "         CartScreenAppear  MainScreenAppear  OffersScreenAppear  \\\n",
       "group                                                             \n",
       "246                  1266              2450                1542   \n",
       "247                  1238              2476                1520   \n",
       "248                  1230              2493                1531   \n",
       "246+247              2504              4926                3062   \n",
       "\n",
       "         PaymentScreenSuccessful  Total_users  \n",
       "group                                          \n",
       "246                         1200         2484  \n",
       "247                         1158         2513  \n",
       "248                         1181         2537  \n",
       "246+247                     2358         4997  "
      ]
     },
     "execution_count": 218,
     "metadata": {},
     "output_type": "execute_result"
    }
   ],
   "source": [
    "users_count = data.pivot_table(\n",
    "        index = 'group',\n",
    "        columns = 'event_name',\n",
    "        values = 'user_id',\n",
    "        aggfunc = 'nunique')\n",
    "users_count = users_count.merge(users_by_groups, on='group')\n",
    "users_count = users_count.drop('Tutorial', axis='columns')\n",
    "\n",
    "users_count.loc['246+247'] = users_count.loc[246] + users_count.loc[247] \n",
    "# добавили в таблицу строку с суммарным числов пользователей двух контрольных групп\n",
    "\n",
    "users_count"
   ]
  },
  {
   "cell_type": "code",
   "execution_count": 219,
   "metadata": {},
   "outputs": [],
   "source": [
    "def hypothesis_test (users_events_groups, users_group, alpha):\n",
    "    '''Функция для проверки гипотез'''\n",
    "    # доля пользователей первой группы, совершивших событие\n",
    "    share_1 = users_events_groups[0] / users_group[0]\n",
    "    # доля пользователей второй группы, совершивших событие\n",
    "    share_2 = users_events_groups[1] / users_group[1]\n",
    "    # доля пользователей обеих групп, совершивших событие\n",
    "    share_1_2 = (users_events_groups[0] + users_events_groups[1]) / (users_group[0] + users_group[1])\n",
    "    \n",
    "    z_value = (share_1 -  share_2) / mth.sqrt(share_1_2 *(1-share_1_2) * (1/users_group[0] + 1/users_group[1]))\n",
    "    \n",
    "    distr = st.norm(0, 1) \n",
    "    \n",
    "    p_value = (1 - distr.cdf(abs(z_value))) * 2\n",
    "    \n",
    "    print(f'p-значение: {p_value:.3f}')\n",
    "    \n",
    "    if (p_value < alpha):\n",
    "        print('Отвергаем нулевую гипотезу: есть основания считать различия в долях пользователей, совершивших событие, между группами статистически значимыми')\n",
    "        print('')\n",
    "    else:\n",
    "        print(\"Не отвергаем нулевую гипотезу: нет оснований считать различия между группами статистически значимыми\")\n",
    "        print('')"
   ]
  },
  {
   "cell_type": "code",
   "execution_count": 220,
   "metadata": {},
   "outputs": [],
   "source": [
    "def all_events (group_1, group_2, alpha):\n",
    "    total_users = ([users_count['Total_users'][group_1], \\\n",
    "                    users_count['Total_users'][group_2]])\n",
    "    users_MainScreenAppear = ([users_count['MainScreenAppear'][group_1], \\\n",
    "                               users_count['MainScreenAppear'][group_2]])\n",
    "    users_OffersScreenAppear = ([users_count['OffersScreenAppear'][group_1], \\\n",
    "                                 users_count['OffersScreenAppear'][group_2]])\n",
    "    users_CartScreenAppear = ([users_count['CartScreenAppear'][group_1], \\\n",
    "                               users_count['CartScreenAppear'][group_2]])\n",
    "    users_PaymentScreenSuccessful = ([users_count['PaymentScreenSuccessful'][group_1], \\\n",
    "                                      users_count['PaymentScreenSuccessful'][group_2]])\n",
    "    \n",
    "    print('Результаты теста для события MainScreenAppear')\n",
    "    hypothesis_test(users_MainScreenAppear, total_users, alpha)\n",
    "    \n",
    "    print('Результаты теста для события OffersScreenAppear')\n",
    "    hypothesis_test(users_OffersScreenAppear, total_users, alpha)\n",
    "    \n",
    "    print('Результаты теста для события CartScreenAppear')\n",
    "    hypothesis_test(users_CartScreenAppear, total_users, alpha)\n",
    "    \n",
    "    print('Результаты теста для события PaymentScreenSuccessful')\n",
    "    hypothesis_test(users_PaymentScreenSuccessful, total_users, alpha)"
   ]
  },
  {
   "cell_type": "markdown",
   "metadata": {},
   "source": [
    "Проверим наличие различий в долях пользователей, совершивших каждой событие, между двумя контрольными группами `246` и `247`:"
   ]
  },
  {
   "cell_type": "code",
   "execution_count": 221,
   "metadata": {},
   "outputs": [
    {
     "name": "stdout",
     "output_type": "stream",
     "text": [
      "Результаты теста для события MainScreenAppear\n",
      "p-значение: 0.757\n",
      "Не отвергаем нулевую гипотезу: нет оснований считать различия между группами статистически значимыми\n",
      "\n",
      "Результаты теста для события OffersScreenAppear\n",
      "p-значение: 0.248\n",
      "Не отвергаем нулевую гипотезу: нет оснований считать различия между группами статистически значимыми\n",
      "\n",
      "Результаты теста для события CartScreenAppear\n",
      "p-значение: 0.229\n",
      "Не отвергаем нулевую гипотезу: нет оснований считать различия между группами статистически значимыми\n",
      "\n",
      "Результаты теста для события PaymentScreenSuccessful\n",
      "p-значение: 0.115\n",
      "Не отвергаем нулевую гипотезу: нет оснований считать различия между группами статистически значимыми\n",
      "\n"
     ]
    }
   ],
   "source": [
    "all_events(246, 247, 0.1)"
   ]
  },
  {
   "cell_type": "markdown",
   "metadata": {},
   "source": [
    "В результате проведенного теста по всем событиям воронки, статистически значимые различия между контрольными группам не выявлены. Есть основания полагать, что разбиение групп работает корректно."
   ]
  },
  {
   "cell_type": "markdown",
   "metadata": {},
   "source": [
    "### Анализ результатов проверки гипотезы об изменении шрифтов в мобильном приложении \n",
    "[`Перейти к содержанию проекта`](#beginning)"
   ]
  },
  {
   "cell_type": "markdown",
   "metadata": {},
   "source": [
    "Выведем результаты теста, последовательно сравнив каждую контрольную группу с экспериментальной, а также объединенную контрольную группу с экспериментальной."
   ]
  },
  {
   "cell_type": "markdown",
   "metadata": {},
   "source": [
    "**Нулевая гипотеза:** различий в долях пользователей, совершивших событие, между контрольной группой `246` и экспериментальной группой с измененным шрифтом `248` нет.    \n",
    "**Альтернативная гипотеза:** различия в долях между группами есть.\n",
    "\n",
    "Установим уровень значимости `alpha = 0.1`"
   ]
  },
  {
   "cell_type": "code",
   "execution_count": 222,
   "metadata": {
    "scrolled": true
   },
   "outputs": [
    {
     "name": "stdout",
     "output_type": "stream",
     "text": [
      "Результаты теста для события MainScreenAppear\n",
      "p-значение: 0.295\n",
      "Не отвергаем нулевую гипотезу: нет оснований считать различия между группами статистически значимыми\n",
      "\n",
      "Результаты теста для события OffersScreenAppear\n",
      "p-значение: 0.208\n",
      "Не отвергаем нулевую гипотезу: нет оснований считать различия между группами статистически значимыми\n",
      "\n",
      "Результаты теста для события CartScreenAppear\n",
      "p-значение: 0.078\n",
      "Отвергаем нулевую гипотезу: есть основания считать различия в долях пользователей, совершивших событие, между группами статистически значимыми\n",
      "\n",
      "Результаты теста для события PaymentScreenSuccessful\n",
      "p-значение: 0.212\n",
      "Не отвергаем нулевую гипотезу: нет оснований считать различия между группами статистически значимыми\n",
      "\n"
     ]
    }
   ],
   "source": [
    "all_events(246, 248, 0.1)"
   ]
  },
  {
   "cell_type": "code",
   "execution_count": 223,
   "metadata": {},
   "outputs": [
    {
     "name": "stdout",
     "output_type": "stream",
     "text": [
      "Доля пользователей группы 246, совершивших открытие корзины: 50.97%\n",
      "Доля пользователей группы 248, совершивших открытие корзины: 48.48%\n"
     ]
    }
   ],
   "source": [
    "share_246_cart = users_count['CartScreenAppear'][246] / users_count['Total_users'][246]\n",
    "share_248_cart = users_count['CartScreenAppear'][248] / users_count['Total_users'][248]\n",
    "\n",
    "print(f'Доля пользователей группы 246, совершивших открытие корзины: {share_246_cart:.2%}')\n",
    "print(f'Доля пользователей группы 248, совершивших открытие корзины: {share_248_cart:.2%}')"
   ]
  },
  {
   "cell_type": "markdown",
   "metadata": {},
   "source": [
    "В результате проведенного теста, по всем событиям воронки, кроме `CartScreenAppear`, статистически значимые различия между контрольной группой `246` и экспериментальной не выявлены.  \n",
    "На 10% уровне значимости можно утверждать, что есть статистически значимые различия между группами в долях пользователей, совершивших событие `CartScreenAppear` (открытие страницы \"корзина\"). При этом, доля пользователей экспериментальной группы, совершивших открытие страницы с корзиной меньше, чем в контрольной группе."
   ]
  },
  {
   "cell_type": "markdown",
   "metadata": {},
   "source": [
    "**Нулевая гипотеза:** различий в долях пользователей, совершивших событие, между контрольной группой `247` и экспериментальной группой с измененным шрифтом `248` нет.    \n",
    "**Альтернативная гипотеза:** различия в долях между группами есть."
   ]
  },
  {
   "cell_type": "code",
   "execution_count": 224,
   "metadata": {},
   "outputs": [
    {
     "name": "stdout",
     "output_type": "stream",
     "text": [
      "Результаты теста для события MainScreenAppear\n",
      "p-значение: 0.459\n",
      "Не отвергаем нулевую гипотезу: нет оснований считать различия между группами статистически значимыми\n",
      "\n",
      "Результаты теста для события OffersScreenAppear\n",
      "p-значение: 0.920\n",
      "Не отвергаем нулевую гипотезу: нет оснований считать различия между группами статистически значимыми\n",
      "\n",
      "Результаты теста для события CartScreenAppear\n",
      "p-значение: 0.579\n",
      "Не отвергаем нулевую гипотезу: нет оснований считать различия между группами статистически значимыми\n",
      "\n",
      "Результаты теста для события PaymentScreenSuccessful\n",
      "p-значение: 0.737\n",
      "Не отвергаем нулевую гипотезу: нет оснований считать различия между группами статистически значимыми\n",
      "\n"
     ]
    }
   ],
   "source": [
    "all_events(247, 248, 0.1)"
   ]
  },
  {
   "cell_type": "markdown",
   "metadata": {},
   "source": [
    "В результате проведенного теста по всем событиям воронки, статистически значимые различия между контрольной группой `247` и экспериментальной не выявлены."
   ]
  },
  {
   "cell_type": "markdown",
   "metadata": {},
   "source": [
    "**Нулевая гипотеза:** различий в долях пользователей, совершивших событие, между объединенной контрольной группой (`246+247` и экспериментальной группой с измененным шрифтом `248` нет.    \n",
    "**Альтернативная гипотеза:** различия в долях между группами есть."
   ]
  },
  {
   "cell_type": "code",
   "execution_count": 225,
   "metadata": {},
   "outputs": [
    {
     "name": "stdout",
     "output_type": "stream",
     "text": [
      "Результаты теста для события MainScreenAppear\n",
      "p-значение: 0.294\n",
      "Не отвергаем нулевую гипотезу: нет оснований считать различия между группами статистически значимыми\n",
      "\n",
      "Результаты теста для события OffersScreenAppear\n",
      "p-значение: 0.434\n",
      "Не отвергаем нулевую гипотезу: нет оснований считать различия между группами статистически значимыми\n",
      "\n",
      "Результаты теста для события CartScreenAppear\n",
      "p-значение: 0.182\n",
      "Не отвергаем нулевую гипотезу: нет оснований считать различия между группами статистически значимыми\n",
      "\n",
      "Результаты теста для события PaymentScreenSuccessful\n",
      "p-значение: 0.600\n",
      "Не отвергаем нулевую гипотезу: нет оснований считать различия между группами статистически значимыми\n",
      "\n"
     ]
    }
   ],
   "source": [
    "all_events('246+247', 248, 0.1)"
   ]
  },
  {
   "cell_type": "markdown",
   "metadata": {},
   "source": [
    "В результате проведенного теста по всем событиям воронки, статистически значимые различия между контрольной группой `247` и экспериментальной не выявлены."
   ]
  },
  {
   "cell_type": "markdown",
   "metadata": {},
   "source": [
    "**Вывод:** Таким образом, последовательно сравнив каждую контрольную группу с экспериментальной, а также объединенную контрольную группу с экспериментальной, можно сделать вывод об отсутсвии статистически значимых различий между долями пользователей, совершивших события.\n",
    "\n",
    "Единственный отличающийся результат показал тест, проведенный для контрольной группы `246` и экспериментальной `248` для события открытия страницы корзины, в результате которого можно сделать вывод о наличии статистически значимых различия между группами в долях пользователей, совершивших событие `CartScreenAppear`. Однако, при этом, доля пользователей экспериментальной группы, совершивших открытие страницы с корзиной меньше, чем в контрольной группе."
   ]
  },
  {
   "cell_type": "markdown",
   "metadata": {},
   "source": [
    "### Анализ результатов проверки гипотезы об изменении шрифтов в мобильном приложении с измененным уровнем значимости\n",
    "[`Перейти к содержанию проекта`](#beginning)"
   ]
  },
  {
   "cell_type": "markdown",
   "metadata": {},
   "source": [
    "Как правило, применяют следующие критические значения: 0.1, 0.05, либо 0.01.    \n",
    "Ранее мы провели тесты на самом большом из представленных выше уровней значимости: `alpha = 0.1`. На данном уровне значимости статистическую значимость выявил только 1 тест. Имеет смысл проверить, будет ли тест показывать статистическую значимость различий на других уровнях значимости (0.05 и 0.01).     \n",
    "Однако, если результаты других тестов не показали наличие статистически значимых различий на 10% уровне значимости, то они тем более не покажут наличие статистически значимых различий на 5% или 1% уровнях значимости."
   ]
  },
  {
   "cell_type": "markdown",
   "metadata": {},
   "source": [
    "Установим уровень значимости `alpha = 0.05`\n",
    "\n",
    "**Нулевая гипотеза:** различий в долях пользователей, совершивших событие, между контрольной группой `246` и экспериментальной группой с измененным шрифтом `248` нет.    \n",
    "**Альтернативная гипотеза:** различия в долях между группами есть."
   ]
  },
  {
   "cell_type": "code",
   "execution_count": 226,
   "metadata": {},
   "outputs": [
    {
     "name": "stdout",
     "output_type": "stream",
     "text": [
      "Результаты теста для события MainScreenAppear\n",
      "p-значение: 0.295\n",
      "Не отвергаем нулевую гипотезу: нет оснований считать различия между группами статистически значимыми\n",
      "\n",
      "Результаты теста для события OffersScreenAppear\n",
      "p-значение: 0.208\n",
      "Не отвергаем нулевую гипотезу: нет оснований считать различия между группами статистически значимыми\n",
      "\n",
      "Результаты теста для события CartScreenAppear\n",
      "p-значение: 0.078\n",
      "Не отвергаем нулевую гипотезу: нет оснований считать различия между группами статистически значимыми\n",
      "\n",
      "Результаты теста для события PaymentScreenSuccessful\n",
      "p-значение: 0.212\n",
      "Не отвергаем нулевую гипотезу: нет оснований считать различия между группами статистически значимыми\n",
      "\n"
     ]
    }
   ],
   "source": [
    "all_events(246, 248, 0.05)"
   ]
  },
  {
   "cell_type": "markdown",
   "metadata": {},
   "source": [
    "После изменении уровня значимости с `0.01` до `0.05` статистически значимые различия между контрольной группой `246` и экспериментальной на 5% уровне значимости не выявлены уже ни в одном из тестов (событий)."
   ]
  },
  {
   "cell_type": "markdown",
   "metadata": {},
   "source": [
    "**Вывод:** В результате анализа результатов проведенного A/A/B тестирования можно сделеать следующие выводы:\n",
    "- Благодаря внедренному A/A тестированию мы смогли убедиться, что разбиение групп работает корректно;\n",
    "- Последовательно сравнив каждую контрольную группу с экспериментальной, а также объединенную контрольную группу с экспериментальной, можно сделать вывод об отсутсвии статистически значимых различий между долями пользователей, совершивших события;\n",
    "- Единственный отличный от выше описанного результат показал тест, проведенный для контрольной группы `246` и экспериментальной `248` для события открытия страницы корзины, в результате которого можно сделать вывод о наличии статистически значимых различий на 10% уровне значимости между группами в долях пользователей, совершивших событие `CartScreenAppear` (на 5% уровне значимости гипотеза статистически значимых различий уже не наблюдается). При этом, доля пользователей экспериментальной группы, совершивших открытие страницы с корзиной меньше, чем в контрольной группе, что, наоборот, в худшую сторону описывает гипотезу об изменении шрифтов в мобильном приложении. "
   ]
  },
  {
   "cell_type": "markdown",
   "metadata": {},
   "source": [
    "## Общий вывод\n",
    "[`Перейти к содержанию проекта`](#beginning)"
   ]
  },
  {
   "cell_type": "markdown",
   "metadata": {},
   "source": [
    "В результате проведенного исследования можно сделать следуюшие основные выводы:\n",
    "\n",
    "\n",
    "- В целом, до оплаты доходит менее половины пользователей: 48%;\n",
    "\n",
    "\n",
    "- Больше всего пользователей теряется на втором шаге `открытие страницы \"предложения\" (OffersScreenAppear)`, то есть, сразу после открытия главной страницы (открытия приложения) - 38% не продолжают взаимодействовать с приложением. Для удержания пользователей на этом этапе можно вывести на главную страницу дополнительные привлекающие внимание специальные предложения/акции;\n",
    "\n",
    "\n",
    "- Не переходят к добавлению товаров в корзину 19% пользователей, которые просмотрели предложенные товары. Для дополнительного удержания пользователей на данном этапе можно направить усилия на развитие систем рекомендаций и специальных предложений для первых покупок. Однако, удержание пользователей, которые уходят после просмотра главной страницы, является наиболее приоритетной точкой для развития;\n",
    "\n",
    "\n",
    "- Пользователи, которые добавили товар в корзину уже, как правило, становятся покупателями: только 5% пользователей не осуществляют ни одной покупки после добавления товаров в корзину. Для того, чтобы подтолкнуть пользователей к оплате собранной корзины можно настроить систему рассылки напоминаний о выбранных ранее товарах;\n",
    "\n",
    "\n",
    "- Можно сделать вывод об отсутсвии статистически значимых различий между долями пользователей, совершивших события воронки продаж, в группах с текущим шрифтом мобильного приложения и предложенным новым шрифтом;\n",
    "\n",
    "\n",
    "- Стоит обратить внимание на предположительные ошибки в записи логов действий пользователей или работе мобильного приложения, так как:\n",
    "    - в логах появляются дубликаты действий;\n",
    "    - некоторые пользователи совершают аномально большое количсетво событий (например, один из пользователей в определенный день совершает практически каждую секунду цепочку действий `зайти в корзину - оплатить покупку`, не нереключаясь на выбор товаров)."
   ]
  }
 ],
 "metadata": {
  "ExecuteTimeLog": [
   {
    "duration": 366,
    "start_time": "2023-07-09T17:23:11.158Z"
   },
   {
    "duration": 940,
    "start_time": "2023-07-09T17:23:17.064Z"
   },
   {
    "duration": 127,
    "start_time": "2023-07-09T17:23:27.014Z"
   },
   {
    "duration": 314,
    "start_time": "2023-07-09T17:24:15.290Z"
   },
   {
    "duration": 167,
    "start_time": "2023-07-09T17:24:28.627Z"
   },
   {
    "duration": 175,
    "start_time": "2023-07-09T17:24:45.358Z"
   },
   {
    "duration": 152,
    "start_time": "2023-07-09T17:24:52.769Z"
   },
   {
    "duration": 155,
    "start_time": "2023-07-09T17:24:54.791Z"
   },
   {
    "duration": 20,
    "start_time": "2023-07-09T17:25:32.119Z"
   },
   {
    "duration": 21,
    "start_time": "2023-07-09T17:25:43.290Z"
   },
   {
    "duration": 19,
    "start_time": "2023-07-09T17:25:48.712Z"
   },
   {
    "duration": 8,
    "start_time": "2023-07-09T17:25:57.521Z"
   },
   {
    "duration": 6,
    "start_time": "2023-07-09T17:26:08.589Z"
   },
   {
    "duration": 1377,
    "start_time": "2023-07-11T08:15:30.852Z"
   },
   {
    "duration": 869,
    "start_time": "2023-07-11T08:17:10.215Z"
   },
   {
    "duration": 4,
    "start_time": "2023-07-11T08:18:07.279Z"
   },
   {
    "duration": 536,
    "start_time": "2023-07-11T08:18:14.306Z"
   },
   {
    "duration": 155,
    "start_time": "2023-07-11T08:18:29.137Z"
   },
   {
    "duration": 6,
    "start_time": "2023-07-11T08:18:30.743Z"
   },
   {
    "duration": 121,
    "start_time": "2023-07-11T08:18:31.025Z"
   },
   {
    "duration": 352,
    "start_time": "2023-07-11T08:29:57.027Z"
   },
   {
    "duration": 437,
    "start_time": "2023-07-11T08:30:04.453Z"
   },
   {
    "duration": 3,
    "start_time": "2023-07-11T08:33:27.086Z"
   },
   {
    "duration": 4,
    "start_time": "2023-07-11T08:36:22.127Z"
   },
   {
    "duration": 9,
    "start_time": "2023-07-11T08:36:25.864Z"
   },
   {
    "duration": 4,
    "start_time": "2023-07-11T08:38:21.191Z"
   },
   {
    "duration": 127,
    "start_time": "2023-07-11T08:38:22.499Z"
   },
   {
    "duration": 45,
    "start_time": "2023-07-11T08:39:20.385Z"
   },
   {
    "duration": 118,
    "start_time": "2023-07-11T08:39:25.134Z"
   },
   {
    "duration": 11,
    "start_time": "2023-07-11T08:39:27.877Z"
   },
   {
    "duration": 16,
    "start_time": "2023-07-11T08:46:10.764Z"
   },
   {
    "duration": 13,
    "start_time": "2023-07-11T08:46:11.461Z"
   },
   {
    "duration": 13,
    "start_time": "2023-07-11T08:46:15.315Z"
   },
   {
    "duration": 12,
    "start_time": "2023-07-11T08:46:16.167Z"
   },
   {
    "duration": 1287,
    "start_time": "2023-07-11T08:46:25.854Z"
   },
   {
    "duration": 170,
    "start_time": "2023-07-11T08:46:27.144Z"
   },
   {
    "duration": 4,
    "start_time": "2023-07-11T08:46:27.316Z"
   },
   {
    "duration": 163,
    "start_time": "2023-07-11T08:46:27.321Z"
   },
   {
    "duration": 3,
    "start_time": "2023-07-11T08:46:27.486Z"
   },
   {
    "duration": 557,
    "start_time": "2023-07-11T08:46:27.490Z"
   },
   {
    "duration": 0,
    "start_time": "2023-07-11T08:46:28.049Z"
   },
   {
    "duration": 735,
    "start_time": "2023-07-11T08:46:34.165Z"
   },
   {
    "duration": 11,
    "start_time": "2023-07-11T08:46:39.795Z"
   },
   {
    "duration": 10,
    "start_time": "2023-07-11T08:46:41.303Z"
   },
   {
    "duration": 18,
    "start_time": "2023-07-11T08:46:48.555Z"
   },
   {
    "duration": 10,
    "start_time": "2023-07-11T08:46:48.944Z"
   },
   {
    "duration": 1250,
    "start_time": "2023-07-11T08:46:54.733Z"
   },
   {
    "duration": 171,
    "start_time": "2023-07-11T08:46:55.985Z"
   },
   {
    "duration": 6,
    "start_time": "2023-07-11T08:46:56.158Z"
   },
   {
    "duration": 159,
    "start_time": "2023-07-11T08:46:56.166Z"
   },
   {
    "duration": 3,
    "start_time": "2023-07-11T08:46:56.327Z"
   },
   {
    "duration": 27,
    "start_time": "2023-07-11T08:46:56.332Z"
   },
   {
    "duration": 15,
    "start_time": "2023-07-11T08:46:56.362Z"
   },
   {
    "duration": 26,
    "start_time": "2023-07-11T08:48:13.051Z"
   },
   {
    "duration": 118,
    "start_time": "2023-07-11T08:49:13.007Z"
   },
   {
    "duration": 19,
    "start_time": "2023-07-11T08:49:16.703Z"
   },
   {
    "duration": 12,
    "start_time": "2023-07-11T08:49:33.616Z"
   },
   {
    "duration": 10,
    "start_time": "2023-07-11T08:49:37.241Z"
   },
   {
    "duration": 77,
    "start_time": "2023-07-11T08:50:18.866Z"
   },
   {
    "duration": 14,
    "start_time": "2023-07-11T08:50:19.570Z"
   },
   {
    "duration": 152,
    "start_time": "2023-07-11T08:50:32.396Z"
   },
   {
    "duration": 37,
    "start_time": "2023-07-11T08:50:34.357Z"
   },
   {
    "duration": 80,
    "start_time": "2023-07-11T08:50:55.459Z"
   },
   {
    "duration": 10,
    "start_time": "2023-07-11T08:53:41.349Z"
   },
   {
    "duration": 19,
    "start_time": "2023-07-11T08:54:35.499Z"
   },
   {
    "duration": 26,
    "start_time": "2023-07-11T08:54:41.870Z"
   },
   {
    "duration": 81,
    "start_time": "2023-07-11T08:55:35.495Z"
   },
   {
    "duration": 7,
    "start_time": "2023-07-11T08:56:51.961Z"
   },
   {
    "duration": 104,
    "start_time": "2023-07-11T08:57:01.982Z"
   },
   {
    "duration": 47,
    "start_time": "2023-07-11T08:57:40.895Z"
   },
   {
    "duration": 1097,
    "start_time": "2023-07-11T08:58:04.313Z"
   },
   {
    "duration": 194,
    "start_time": "2023-07-11T09:00:01.924Z"
   },
   {
    "duration": 412,
    "start_time": "2023-07-11T09:00:09.132Z"
   },
   {
    "duration": 476,
    "start_time": "2023-07-11T09:00:38.099Z"
   },
   {
    "duration": 471,
    "start_time": "2023-07-11T09:01:14.996Z"
   },
   {
    "duration": 445,
    "start_time": "2023-07-11T09:01:21.468Z"
   },
   {
    "duration": 547,
    "start_time": "2023-07-11T09:11:22.770Z"
   },
   {
    "duration": 480,
    "start_time": "2023-07-11T09:11:29.056Z"
   },
   {
    "duration": 13,
    "start_time": "2023-07-11T09:14:21.410Z"
   },
   {
    "duration": 94,
    "start_time": "2023-07-11T09:14:28.000Z"
   },
   {
    "duration": 2301,
    "start_time": "2023-07-11T09:14:32.211Z"
   },
   {
    "duration": 112,
    "start_time": "2023-07-11T09:14:47.591Z"
   },
   {
    "duration": 77,
    "start_time": "2023-07-11T09:16:55.496Z"
   },
   {
    "duration": 97,
    "start_time": "2023-07-11T09:17:04.024Z"
   },
   {
    "duration": 68,
    "start_time": "2023-07-11T09:17:10.999Z"
   },
   {
    "duration": 69,
    "start_time": "2023-07-11T09:17:28.115Z"
   },
   {
    "duration": 85,
    "start_time": "2023-07-11T09:17:48.271Z"
   },
   {
    "duration": 92,
    "start_time": "2023-07-11T09:18:04.013Z"
   },
   {
    "duration": 70,
    "start_time": "2023-07-11T09:18:16.672Z"
   },
   {
    "duration": 67,
    "start_time": "2023-07-11T09:18:24.507Z"
   },
   {
    "duration": 64,
    "start_time": "2023-07-11T09:18:39.343Z"
   },
   {
    "duration": 64,
    "start_time": "2023-07-11T09:20:35.410Z"
   },
   {
    "duration": 65,
    "start_time": "2023-07-11T09:20:48.221Z"
   },
   {
    "duration": 62,
    "start_time": "2023-07-11T09:21:13.834Z"
   },
   {
    "duration": 67,
    "start_time": "2023-07-11T09:21:28.806Z"
   },
   {
    "duration": 67,
    "start_time": "2023-07-11T09:21:49.866Z"
   },
   {
    "duration": 69,
    "start_time": "2023-07-11T10:58:33.593Z"
   },
   {
    "duration": 15,
    "start_time": "2023-07-11T10:58:45.648Z"
   },
   {
    "duration": 15,
    "start_time": "2023-07-11T10:59:17.102Z"
   },
   {
    "duration": 14,
    "start_time": "2023-07-11T10:59:20.215Z"
   },
   {
    "duration": 12,
    "start_time": "2023-07-11T11:00:31.623Z"
   },
   {
    "duration": 1555,
    "start_time": "2023-07-11T11:00:39.998Z"
   },
   {
    "duration": 1023,
    "start_time": "2023-07-11T11:00:41.559Z"
   },
   {
    "duration": 3,
    "start_time": "2023-07-11T11:00:42.584Z"
   },
   {
    "duration": 229,
    "start_time": "2023-07-11T11:00:42.588Z"
   },
   {
    "duration": 5,
    "start_time": "2023-07-11T11:00:42.819Z"
   },
   {
    "duration": 70,
    "start_time": "2023-07-11T11:00:42.826Z"
   },
   {
    "duration": 142,
    "start_time": "2023-07-11T11:00:42.897Z"
   },
   {
    "duration": 30,
    "start_time": "2023-07-11T11:00:43.053Z"
   },
   {
    "duration": 57,
    "start_time": "2023-07-11T11:00:43.084Z"
   },
   {
    "duration": 152,
    "start_time": "2023-07-11T11:00:43.144Z"
   },
   {
    "duration": 100,
    "start_time": "2023-07-11T11:00:43.298Z"
   },
   {
    "duration": 89,
    "start_time": "2023-07-11T11:00:43.399Z"
   },
   {
    "duration": 108,
    "start_time": "2023-07-11T11:00:43.500Z"
   },
   {
    "duration": 98,
    "start_time": "2023-07-11T11:00:43.610Z"
   },
   {
    "duration": 47,
    "start_time": "2023-07-11T11:01:35.782Z"
   },
   {
    "duration": 114,
    "start_time": "2023-07-11T11:02:01.123Z"
   },
   {
    "duration": 103,
    "start_time": "2023-07-11T11:02:56.695Z"
   },
   {
    "duration": 115,
    "start_time": "2023-07-11T11:03:00.994Z"
   },
   {
    "duration": 109,
    "start_time": "2023-07-11T11:03:14.620Z"
   },
   {
    "duration": 102,
    "start_time": "2023-07-11T11:03:21.766Z"
   },
   {
    "duration": 119,
    "start_time": "2023-07-11T11:03:32.134Z"
   },
   {
    "duration": 236,
    "start_time": "2023-07-11T11:03:38.324Z"
   },
   {
    "duration": 97,
    "start_time": "2023-07-11T11:03:45.756Z"
   },
   {
    "duration": 122,
    "start_time": "2023-07-11T11:03:48.748Z"
   },
   {
    "duration": 109,
    "start_time": "2023-07-11T11:07:19.937Z"
   },
   {
    "duration": 123,
    "start_time": "2023-07-11T11:07:31.106Z"
   },
   {
    "duration": 99,
    "start_time": "2023-07-11T11:07:38.458Z"
   },
   {
    "duration": 144,
    "start_time": "2023-07-11T11:07:49.425Z"
   },
   {
    "duration": 100,
    "start_time": "2023-07-11T11:08:04.261Z"
   },
   {
    "duration": 133,
    "start_time": "2023-07-11T11:08:44.862Z"
   },
   {
    "duration": 135,
    "start_time": "2023-07-11T11:09:04.445Z"
   },
   {
    "duration": 109,
    "start_time": "2023-07-11T11:09:54.956Z"
   },
   {
    "duration": 124,
    "start_time": "2023-07-11T11:10:01.226Z"
   },
   {
    "duration": 109,
    "start_time": "2023-07-11T11:10:31.850Z"
   },
   {
    "duration": 177,
    "start_time": "2023-07-11T11:11:45.258Z"
   },
   {
    "duration": 138,
    "start_time": "2023-07-11T11:11:50.648Z"
   },
   {
    "duration": 119,
    "start_time": "2023-07-11T11:14:14.573Z"
   },
   {
    "duration": 122,
    "start_time": "2023-07-11T11:14:33.622Z"
   },
   {
    "duration": 120,
    "start_time": "2023-07-11T11:14:41.739Z"
   },
   {
    "duration": 114,
    "start_time": "2023-07-11T11:14:44.527Z"
   },
   {
    "duration": 1158,
    "start_time": "2023-07-11T11:15:03.967Z"
   },
   {
    "duration": 188,
    "start_time": "2023-07-11T11:15:05.129Z"
   },
   {
    "duration": 12,
    "start_time": "2023-07-11T11:15:05.325Z"
   },
   {
    "duration": 222,
    "start_time": "2023-07-11T11:15:05.340Z"
   },
   {
    "duration": 3,
    "start_time": "2023-07-11T11:15:05.564Z"
   },
   {
    "duration": 23,
    "start_time": "2023-07-11T11:15:05.569Z"
   },
   {
    "duration": 88,
    "start_time": "2023-07-11T11:15:05.594Z"
   },
   {
    "duration": 46,
    "start_time": "2023-07-11T11:15:05.684Z"
   },
   {
    "duration": 39,
    "start_time": "2023-07-11T11:15:05.732Z"
   },
   {
    "duration": 186,
    "start_time": "2023-07-11T11:15:05.774Z"
   },
   {
    "duration": 27,
    "start_time": "2023-07-11T11:15:05.963Z"
   },
   {
    "duration": 184,
    "start_time": "2023-07-11T11:15:05.991Z"
   },
   {
    "duration": 96,
    "start_time": "2023-07-11T11:15:06.178Z"
   },
   {
    "duration": 105,
    "start_time": "2023-07-11T11:15:06.276Z"
   },
   {
    "duration": 107,
    "start_time": "2023-07-11T11:15:06.383Z"
   },
   {
    "duration": 145,
    "start_time": "2023-07-11T11:17:56.020Z"
   },
   {
    "duration": 134,
    "start_time": "2023-07-11T11:19:12.222Z"
   },
   {
    "duration": 151,
    "start_time": "2023-07-11T11:19:23.102Z"
   },
   {
    "duration": 127,
    "start_time": "2023-07-11T11:19:31.931Z"
   },
   {
    "duration": 300,
    "start_time": "2023-07-11T11:19:41.869Z"
   },
   {
    "duration": 115,
    "start_time": "2023-07-11T11:19:51.973Z"
   },
   {
    "duration": 135,
    "start_time": "2023-07-11T11:20:10.851Z"
   },
   {
    "duration": 145,
    "start_time": "2023-07-11T11:20:15.447Z"
   },
   {
    "duration": 154,
    "start_time": "2023-07-11T11:20:59.198Z"
   },
   {
    "duration": 183,
    "start_time": "2023-07-11T11:21:49.454Z"
   },
   {
    "duration": 114,
    "start_time": "2023-07-11T11:22:07.401Z"
   },
   {
    "duration": 67,
    "start_time": "2023-07-11T11:22:26.790Z"
   },
   {
    "duration": 136,
    "start_time": "2023-07-11T11:22:30.998Z"
   },
   {
    "duration": 8,
    "start_time": "2023-07-11T11:22:40.524Z"
   },
   {
    "duration": 103,
    "start_time": "2023-07-11T11:22:44.055Z"
   },
   {
    "duration": 119,
    "start_time": "2023-07-11T11:22:56.673Z"
   },
   {
    "duration": 142,
    "start_time": "2023-07-11T11:23:41.043Z"
   },
   {
    "duration": 16,
    "start_time": "2023-07-11T11:35:33.593Z"
   },
   {
    "duration": 24,
    "start_time": "2023-07-11T11:35:41.297Z"
   },
   {
    "duration": 20,
    "start_time": "2023-07-11T11:35:45.149Z"
   },
   {
    "duration": 19,
    "start_time": "2023-07-11T11:35:49.238Z"
   },
   {
    "duration": 17,
    "start_time": "2023-07-11T11:35:55.896Z"
   },
   {
    "duration": 125,
    "start_time": "2023-07-11T11:36:57.864Z"
   },
   {
    "duration": 125,
    "start_time": "2023-07-11T11:37:36.388Z"
   },
   {
    "duration": 95,
    "start_time": "2023-07-11T11:37:54.458Z"
   },
   {
    "duration": 166,
    "start_time": "2023-07-11T11:37:59.587Z"
   },
   {
    "duration": 146,
    "start_time": "2023-07-11T11:39:48.088Z"
   },
   {
    "duration": 151,
    "start_time": "2023-07-11T11:39:52.191Z"
   },
   {
    "duration": 142,
    "start_time": "2023-07-11T11:40:02.351Z"
   },
   {
    "duration": 155,
    "start_time": "2023-07-11T11:40:10.505Z"
   },
   {
    "duration": 132,
    "start_time": "2023-07-11T11:40:13.653Z"
   },
   {
    "duration": 103,
    "start_time": "2023-07-11T11:40:30.094Z"
   },
   {
    "duration": 78,
    "start_time": "2023-07-11T11:41:09.495Z"
   },
   {
    "duration": 53,
    "start_time": "2023-07-11T11:41:15.260Z"
   },
   {
    "duration": 139,
    "start_time": "2023-07-11T11:42:39.750Z"
   },
   {
    "duration": 117,
    "start_time": "2023-07-11T11:42:54.181Z"
   },
   {
    "duration": 316,
    "start_time": "2023-07-11T11:42:56.197Z"
   },
   {
    "duration": 131,
    "start_time": "2023-07-11T11:43:02.834Z"
   },
   {
    "duration": 10,
    "start_time": "2023-07-11T11:43:18.131Z"
   },
   {
    "duration": 157,
    "start_time": "2023-07-11T11:44:28.270Z"
   },
   {
    "duration": 240,
    "start_time": "2023-07-11T11:44:34.084Z"
   },
   {
    "duration": 13,
    "start_time": "2023-07-11T12:01:59.747Z"
   },
   {
    "duration": 1792,
    "start_time": "2023-07-11T12:02:55.075Z"
   },
   {
    "duration": 283,
    "start_time": "2023-07-11T12:02:56.882Z"
   },
   {
    "duration": 5,
    "start_time": "2023-07-11T12:02:57.174Z"
   },
   {
    "duration": 200,
    "start_time": "2023-07-11T12:02:59.773Z"
   },
   {
    "duration": 5,
    "start_time": "2023-07-11T12:03:07.596Z"
   },
   {
    "duration": 10,
    "start_time": "2023-07-11T12:03:08.580Z"
   },
   {
    "duration": 135,
    "start_time": "2023-07-11T12:03:09.798Z"
   },
   {
    "duration": 46,
    "start_time": "2023-07-11T12:03:13.638Z"
   },
   {
    "duration": 7,
    "start_time": "2023-07-11T12:03:14.969Z"
   },
   {
    "duration": 198,
    "start_time": "2023-07-11T12:03:18.195Z"
   },
   {
    "duration": 147,
    "start_time": "2023-07-11T12:03:23.258Z"
   },
   {
    "duration": 143,
    "start_time": "2023-07-11T12:03:24.922Z"
   },
   {
    "duration": 153,
    "start_time": "2023-07-11T12:03:25.468Z"
   },
   {
    "duration": 161,
    "start_time": "2023-07-11T12:03:29.017Z"
   },
   {
    "duration": 234,
    "start_time": "2023-07-11T12:03:49.638Z"
   },
   {
    "duration": 128,
    "start_time": "2023-07-11T12:04:08.699Z"
   },
   {
    "duration": 259,
    "start_time": "2023-07-11T12:04:14.690Z"
   },
   {
    "duration": 55,
    "start_time": "2023-07-11T12:04:32.594Z"
   },
   {
    "duration": 134,
    "start_time": "2023-07-11T12:04:56.484Z"
   },
   {
    "duration": 203,
    "start_time": "2023-07-11T12:05:41.595Z"
   },
   {
    "duration": 161,
    "start_time": "2023-07-11T12:05:52.827Z"
   },
   {
    "duration": 99,
    "start_time": "2023-07-11T12:16:33.426Z"
   },
   {
    "duration": 86,
    "start_time": "2023-07-11T12:17:01.339Z"
   },
   {
    "duration": 443,
    "start_time": "2023-07-11T12:17:36.881Z"
   },
   {
    "duration": 135,
    "start_time": "2023-07-11T12:17:49.626Z"
   },
   {
    "duration": 126,
    "start_time": "2023-07-11T12:18:07.783Z"
   },
   {
    "duration": 135,
    "start_time": "2023-07-11T12:18:15.278Z"
   },
   {
    "duration": 173,
    "start_time": "2023-07-11T12:18:25.248Z"
   },
   {
    "duration": 1205,
    "start_time": "2023-07-11T12:21:11.763Z"
   },
   {
    "duration": 873,
    "start_time": "2023-07-11T12:21:12.970Z"
   },
   {
    "duration": 5,
    "start_time": "2023-07-11T12:21:13.845Z"
   },
   {
    "duration": 168,
    "start_time": "2023-07-11T12:21:13.852Z"
   },
   {
    "duration": 11,
    "start_time": "2023-07-11T12:21:14.022Z"
   },
   {
    "duration": 52,
    "start_time": "2023-07-11T12:21:14.034Z"
   },
   {
    "duration": 93,
    "start_time": "2023-07-11T12:21:14.087Z"
   },
   {
    "duration": 29,
    "start_time": "2023-07-11T12:21:14.181Z"
   },
   {
    "duration": 101,
    "start_time": "2023-07-11T12:21:14.212Z"
   },
   {
    "duration": 223,
    "start_time": "2023-07-11T12:21:14.322Z"
   },
   {
    "duration": 91,
    "start_time": "2023-07-11T12:21:14.547Z"
   },
   {
    "duration": 105,
    "start_time": "2023-07-11T12:21:14.640Z"
   },
   {
    "duration": 116,
    "start_time": "2023-07-11T12:21:14.754Z"
   },
   {
    "duration": 102,
    "start_time": "2023-07-11T12:21:14.872Z"
   },
   {
    "duration": 182,
    "start_time": "2023-07-11T12:21:14.976Z"
   },
   {
    "duration": 11,
    "start_time": "2023-07-11T12:21:15.160Z"
   },
   {
    "duration": 14,
    "start_time": "2023-07-11T12:22:55.296Z"
   },
   {
    "duration": 8,
    "start_time": "2023-07-11T12:23:01.447Z"
   },
   {
    "duration": 4,
    "start_time": "2023-07-11T12:23:12.978Z"
   },
   {
    "duration": 174,
    "start_time": "2023-07-11T12:23:54.599Z"
   },
   {
    "duration": 120,
    "start_time": "2023-07-11T12:24:12.302Z"
   },
   {
    "duration": 96,
    "start_time": "2023-07-11T12:24:32.181Z"
   },
   {
    "duration": 15,
    "start_time": "2023-07-11T12:24:38.015Z"
   },
   {
    "duration": 5,
    "start_time": "2023-07-11T12:24:44.185Z"
   },
   {
    "duration": 11,
    "start_time": "2023-07-11T12:24:46.823Z"
   },
   {
    "duration": 172,
    "start_time": "2023-07-11T12:24:49.878Z"
   },
   {
    "duration": 8,
    "start_time": "2023-07-11T12:25:06.007Z"
   },
   {
    "duration": 447,
    "start_time": "2023-07-11T12:28:17.451Z"
   },
   {
    "duration": 40,
    "start_time": "2023-07-11T12:28:38.982Z"
   },
   {
    "duration": 539,
    "start_time": "2023-07-11T12:30:53.784Z"
   },
   {
    "duration": 62,
    "start_time": "2023-07-11T12:31:11.565Z"
   },
   {
    "duration": 31,
    "start_time": "2023-07-11T12:31:21.863Z"
   },
   {
    "duration": 579,
    "start_time": "2023-07-11T12:31:27.338Z"
   },
   {
    "duration": 767,
    "start_time": "2023-07-11T12:31:44.402Z"
   },
   {
    "duration": 8,
    "start_time": "2023-07-11T12:33:14.253Z"
   },
   {
    "duration": 24,
    "start_time": "2023-07-11T12:33:21.197Z"
   },
   {
    "duration": 221,
    "start_time": "2023-07-11T12:33:49.512Z"
   },
   {
    "duration": 245,
    "start_time": "2023-07-11T12:34:04.142Z"
   },
   {
    "duration": 21,
    "start_time": "2023-07-11T12:34:17.720Z"
   },
   {
    "duration": 13,
    "start_time": "2023-07-11T12:34:23.552Z"
   },
   {
    "duration": 17,
    "start_time": "2023-07-11T12:34:42.020Z"
   },
   {
    "duration": 10,
    "start_time": "2023-07-11T12:38:34.928Z"
   },
   {
    "duration": 9,
    "start_time": "2023-07-11T12:38:47.716Z"
   },
   {
    "duration": 3,
    "start_time": "2023-07-11T12:39:29.184Z"
   },
   {
    "duration": 14,
    "start_time": "2023-07-11T12:39:34.338Z"
   },
   {
    "duration": 14,
    "start_time": "2023-07-11T12:40:01.099Z"
   },
   {
    "duration": 11,
    "start_time": "2023-07-11T12:40:03.194Z"
   },
   {
    "duration": 6,
    "start_time": "2023-07-11T12:40:05.570Z"
   },
   {
    "duration": 13,
    "start_time": "2023-07-11T12:40:09.852Z"
   },
   {
    "duration": 14,
    "start_time": "2023-07-11T12:40:16.399Z"
   },
   {
    "duration": 4,
    "start_time": "2023-07-11T12:40:22.387Z"
   },
   {
    "duration": 4,
    "start_time": "2023-07-11T12:40:24.984Z"
   },
   {
    "duration": 339,
    "start_time": "2023-07-11T12:41:07.586Z"
   },
   {
    "duration": 202,
    "start_time": "2023-07-11T12:41:24.435Z"
   },
   {
    "duration": 10,
    "start_time": "2023-07-11T12:41:29.787Z"
   },
   {
    "duration": 21,
    "start_time": "2023-07-11T12:41:31.592Z"
   },
   {
    "duration": 36,
    "start_time": "2023-07-11T12:41:37.355Z"
   },
   {
    "duration": 8,
    "start_time": "2023-07-11T12:42:49.489Z"
   },
   {
    "duration": 186,
    "start_time": "2023-07-11T12:47:36.018Z"
   },
   {
    "duration": 203,
    "start_time": "2023-07-11T12:47:47.320Z"
   },
   {
    "duration": 26,
    "start_time": "2023-07-11T12:49:47.934Z"
   },
   {
    "duration": 21,
    "start_time": "2023-07-11T12:49:55.584Z"
   },
   {
    "duration": 153,
    "start_time": "2023-07-11T12:49:58.588Z"
   },
   {
    "duration": 104,
    "start_time": "2023-07-11T12:50:07.543Z"
   },
   {
    "duration": 7,
    "start_time": "2023-07-11T12:59:42.690Z"
   },
   {
    "duration": 4,
    "start_time": "2023-07-11T12:59:50.945Z"
   },
   {
    "duration": 5,
    "start_time": "2023-07-11T13:00:30.262Z"
   },
   {
    "duration": 7,
    "start_time": "2023-07-11T13:01:24.241Z"
   },
   {
    "duration": 51,
    "start_time": "2023-07-11T13:01:41.392Z"
   },
   {
    "duration": 4,
    "start_time": "2023-07-11T13:01:54.393Z"
   },
   {
    "duration": 129,
    "start_time": "2023-07-11T13:02:03.769Z"
   },
   {
    "duration": 28,
    "start_time": "2023-07-11T13:02:09.049Z"
   },
   {
    "duration": 138,
    "start_time": "2023-07-11T13:02:11.441Z"
   },
   {
    "duration": 8,
    "start_time": "2023-07-11T13:02:27.664Z"
   },
   {
    "duration": 14,
    "start_time": "2023-07-11T13:02:47.385Z"
   },
   {
    "duration": 21,
    "start_time": "2023-07-11T13:02:52.817Z"
   },
   {
    "duration": 266,
    "start_time": "2023-07-11T13:02:55.508Z"
   },
   {
    "duration": 7,
    "start_time": "2023-07-11T13:03:11.582Z"
   },
   {
    "duration": 32,
    "start_time": "2023-07-11T13:03:15.620Z"
   },
   {
    "duration": 113,
    "start_time": "2023-07-11T13:03:17.881Z"
   },
   {
    "duration": 4,
    "start_time": "2023-07-11T13:04:07.174Z"
   },
   {
    "duration": 1740,
    "start_time": "2023-07-11T13:05:14.265Z"
   },
   {
    "duration": 1645,
    "start_time": "2023-07-11T13:05:16.006Z"
   },
   {
    "duration": 28,
    "start_time": "2023-07-11T13:05:17.662Z"
   },
   {
    "duration": 238,
    "start_time": "2023-07-11T13:05:17.693Z"
   },
   {
    "duration": 3,
    "start_time": "2023-07-11T13:05:17.933Z"
   },
   {
    "duration": 11,
    "start_time": "2023-07-11T13:05:17.937Z"
   },
   {
    "duration": 259,
    "start_time": "2023-07-11T13:05:17.949Z"
   },
   {
    "duration": 111,
    "start_time": "2023-07-11T13:05:18.211Z"
   },
   {
    "duration": 161,
    "start_time": "2023-07-11T13:05:18.327Z"
   },
   {
    "duration": 304,
    "start_time": "2023-07-11T13:05:18.490Z"
   },
   {
    "duration": 152,
    "start_time": "2023-07-11T13:05:18.795Z"
   },
   {
    "duration": 144,
    "start_time": "2023-07-11T13:05:18.951Z"
   },
   {
    "duration": 110,
    "start_time": "2023-07-11T13:05:19.097Z"
   },
   {
    "duration": 175,
    "start_time": "2023-07-11T13:05:19.209Z"
   },
   {
    "duration": 220,
    "start_time": "2023-07-11T13:05:19.391Z"
   },
   {
    "duration": 3,
    "start_time": "2023-07-11T13:05:19.612Z"
   },
   {
    "duration": 97,
    "start_time": "2023-07-11T13:05:19.616Z"
   },
   {
    "duration": 73,
    "start_time": "2023-07-11T13:05:19.714Z"
   },
   {
    "duration": 524,
    "start_time": "2023-07-11T13:05:19.789Z"
   },
   {
    "duration": 19,
    "start_time": "2023-07-11T13:05:20.314Z"
   },
   {
    "duration": 265,
    "start_time": "2023-07-11T13:05:20.345Z"
   },
   {
    "duration": 14,
    "start_time": "2023-07-11T13:05:20.611Z"
   },
   {
    "duration": 253,
    "start_time": "2023-07-11T13:05:20.626Z"
   },
   {
    "duration": 5,
    "start_time": "2023-07-11T13:05:20.880Z"
   },
   {
    "duration": 82,
    "start_time": "2023-07-11T13:05:20.887Z"
   },
   {
    "duration": 258,
    "start_time": "2023-07-11T13:10:32.330Z"
   },
   {
    "duration": 8,
    "start_time": "2023-07-11T13:11:17.359Z"
   },
   {
    "duration": 36,
    "start_time": "2023-07-11T13:11:30.046Z"
   },
   {
    "duration": 252,
    "start_time": "2023-07-11T13:11:33.574Z"
   },
   {
    "duration": 8,
    "start_time": "2023-07-11T13:13:05.784Z"
   },
   {
    "duration": 228,
    "start_time": "2023-07-11T13:13:17.850Z"
   },
   {
    "duration": 10,
    "start_time": "2023-07-11T13:13:46.479Z"
   },
   {
    "duration": 35,
    "start_time": "2023-07-11T13:13:56.698Z"
   },
   {
    "duration": 127,
    "start_time": "2023-07-11T13:16:13.941Z"
   },
   {
    "duration": 1270,
    "start_time": "2023-07-11T13:16:20.750Z"
   },
   {
    "duration": 235,
    "start_time": "2023-07-11T13:16:22.022Z"
   },
   {
    "duration": 6,
    "start_time": "2023-07-11T13:16:22.259Z"
   },
   {
    "duration": 241,
    "start_time": "2023-07-11T13:16:22.266Z"
   },
   {
    "duration": 10,
    "start_time": "2023-07-11T13:16:22.512Z"
   },
   {
    "duration": 62,
    "start_time": "2023-07-11T13:16:22.526Z"
   },
   {
    "duration": 102,
    "start_time": "2023-07-11T13:16:22.590Z"
   },
   {
    "duration": 74,
    "start_time": "2023-07-11T13:16:22.694Z"
   },
   {
    "duration": 12,
    "start_time": "2023-07-11T13:16:22.770Z"
   },
   {
    "duration": 194,
    "start_time": "2023-07-11T13:16:22.784Z"
   },
   {
    "duration": 92,
    "start_time": "2023-07-11T13:16:22.979Z"
   },
   {
    "duration": 100,
    "start_time": "2023-07-11T13:16:23.073Z"
   },
   {
    "duration": 91,
    "start_time": "2023-07-11T13:16:23.174Z"
   },
   {
    "duration": 120,
    "start_time": "2023-07-11T13:16:23.269Z"
   },
   {
    "duration": 238,
    "start_time": "2023-07-11T13:16:23.391Z"
   },
   {
    "duration": 8,
    "start_time": "2023-07-11T13:16:23.642Z"
   },
   {
    "duration": 34,
    "start_time": "2023-07-11T13:16:23.651Z"
   },
   {
    "duration": 25,
    "start_time": "2023-07-11T13:16:23.686Z"
   },
   {
    "duration": 541,
    "start_time": "2023-07-11T13:16:23.721Z"
   },
   {
    "duration": 7,
    "start_time": "2023-07-11T13:16:24.263Z"
   },
   {
    "duration": 292,
    "start_time": "2023-07-11T13:16:24.271Z"
   },
   {
    "duration": 10,
    "start_time": "2023-07-11T13:16:24.569Z"
   },
   {
    "duration": 150,
    "start_time": "2023-07-11T13:16:24.581Z"
   },
   {
    "duration": 16,
    "start_time": "2023-07-11T13:16:24.733Z"
   },
   {
    "duration": 35,
    "start_time": "2023-07-11T13:16:24.750Z"
   },
   {
    "duration": 74,
    "start_time": "2023-07-11T13:22:31.791Z"
   },
   {
    "duration": 399,
    "start_time": "2023-07-11T13:29:39.036Z"
   },
   {
    "duration": 79,
    "start_time": "2023-07-11T13:30:29.698Z"
   },
   {
    "duration": 81,
    "start_time": "2023-07-11T13:30:35.446Z"
   },
   {
    "duration": 844,
    "start_time": "2023-07-11T13:30:54.585Z"
   },
   {
    "duration": 57,
    "start_time": "2023-07-11T13:31:06.624Z"
   },
   {
    "duration": 62,
    "start_time": "2023-07-11T13:31:14.826Z"
   },
   {
    "duration": 76,
    "start_time": "2023-07-11T13:31:18.488Z"
   },
   {
    "duration": 124,
    "start_time": "2023-07-11T13:31:35.686Z"
   },
   {
    "duration": 175,
    "start_time": "2023-07-11T13:31:44.166Z"
   },
   {
    "duration": 199,
    "start_time": "2023-07-11T13:31:56.230Z"
   },
   {
    "duration": 209,
    "start_time": "2023-07-11T13:32:06.876Z"
   },
   {
    "duration": 218,
    "start_time": "2023-07-11T13:32:32.994Z"
   },
   {
    "duration": 332,
    "start_time": "2023-07-11T13:32:51.127Z"
   },
   {
    "duration": 202,
    "start_time": "2023-07-11T13:33:08.558Z"
   },
   {
    "duration": 331,
    "start_time": "2023-07-11T13:33:26.115Z"
   },
   {
    "duration": 217,
    "start_time": "2023-07-11T13:33:30.464Z"
   },
   {
    "duration": 154,
    "start_time": "2023-07-11T13:33:36.263Z"
   },
   {
    "duration": 332,
    "start_time": "2023-07-11T13:33:39.360Z"
   },
   {
    "duration": 204,
    "start_time": "2023-07-11T13:33:42.825Z"
   },
   {
    "duration": 238,
    "start_time": "2023-07-11T13:33:51.220Z"
   },
   {
    "duration": 363,
    "start_time": "2023-07-11T13:34:15.386Z"
   },
   {
    "duration": 222,
    "start_time": "2023-07-11T13:34:56.414Z"
   },
   {
    "duration": 228,
    "start_time": "2023-07-11T13:35:08.557Z"
   },
   {
    "duration": 240,
    "start_time": "2023-07-11T13:35:25.152Z"
   },
   {
    "duration": 206,
    "start_time": "2023-07-11T13:35:28.315Z"
   },
   {
    "duration": 199,
    "start_time": "2023-07-11T13:37:43.258Z"
   },
   {
    "duration": 250,
    "start_time": "2023-07-11T13:37:50.475Z"
   },
   {
    "duration": 333,
    "start_time": "2023-07-11T13:37:59.455Z"
   },
   {
    "duration": 1433,
    "start_time": "2023-07-11T13:38:04.340Z"
   },
   {
    "duration": 299,
    "start_time": "2023-07-11T13:38:05.780Z"
   },
   {
    "duration": 6,
    "start_time": "2023-07-11T13:38:06.086Z"
   },
   {
    "duration": 386,
    "start_time": "2023-07-11T13:38:06.093Z"
   },
   {
    "duration": 3,
    "start_time": "2023-07-11T13:38:06.482Z"
   },
   {
    "duration": 94,
    "start_time": "2023-07-11T13:38:06.487Z"
   },
   {
    "duration": 274,
    "start_time": "2023-07-11T13:38:06.583Z"
   },
   {
    "duration": 143,
    "start_time": "2023-07-11T13:38:06.874Z"
   },
   {
    "duration": 69,
    "start_time": "2023-07-11T13:38:07.020Z"
   },
   {
    "duration": 199,
    "start_time": "2023-07-11T13:38:07.090Z"
   },
   {
    "duration": 104,
    "start_time": "2023-07-11T13:38:07.290Z"
   },
   {
    "duration": 93,
    "start_time": "2023-07-11T13:38:07.395Z"
   },
   {
    "duration": 193,
    "start_time": "2023-07-11T13:38:07.489Z"
   },
   {
    "duration": 172,
    "start_time": "2023-07-11T13:38:07.685Z"
   },
   {
    "duration": 199,
    "start_time": "2023-07-11T13:38:07.866Z"
   },
   {
    "duration": 12,
    "start_time": "2023-07-11T13:38:08.071Z"
   },
   {
    "duration": 70,
    "start_time": "2023-07-11T13:38:08.086Z"
   },
   {
    "duration": 67,
    "start_time": "2023-07-11T13:38:08.159Z"
   },
   {
    "duration": 552,
    "start_time": "2023-07-11T13:38:08.228Z"
   },
   {
    "duration": 7,
    "start_time": "2023-07-11T13:38:08.782Z"
   },
   {
    "duration": 267,
    "start_time": "2023-07-11T13:38:08.790Z"
   },
   {
    "duration": 7,
    "start_time": "2023-07-11T13:38:09.058Z"
   },
   {
    "duration": 190,
    "start_time": "2023-07-11T13:38:09.067Z"
   },
   {
    "duration": 11,
    "start_time": "2023-07-11T13:38:09.261Z"
   },
   {
    "duration": 11,
    "start_time": "2023-07-11T13:38:09.275Z"
   },
   {
    "duration": 91,
    "start_time": "2023-07-11T13:38:09.288Z"
   },
   {
    "duration": 64,
    "start_time": "2023-07-11T13:38:09.381Z"
   },
   {
    "duration": 342,
    "start_time": "2023-07-11T13:38:09.446Z"
   },
   {
    "duration": 9659,
    "start_time": "2023-07-11T13:38:56.831Z"
   },
   {
    "duration": 64,
    "start_time": "2023-07-11T13:39:34.324Z"
   },
   {
    "duration": 439,
    "start_time": "2023-07-11T13:39:55.616Z"
   },
   {
    "duration": 204,
    "start_time": "2023-07-11T13:40:03.394Z"
   },
   {
    "duration": 1503,
    "start_time": "2023-07-11T13:40:16.062Z"
   },
   {
    "duration": 249,
    "start_time": "2023-07-11T13:40:17.567Z"
   },
   {
    "duration": 5,
    "start_time": "2023-07-11T13:40:17.820Z"
   },
   {
    "duration": 236,
    "start_time": "2023-07-11T13:40:17.834Z"
   },
   {
    "duration": 3,
    "start_time": "2023-07-11T13:40:18.071Z"
   },
   {
    "duration": 46,
    "start_time": "2023-07-11T13:40:18.075Z"
   },
   {
    "duration": 190,
    "start_time": "2023-07-11T13:40:18.123Z"
   },
   {
    "duration": 35,
    "start_time": "2023-07-11T13:40:18.314Z"
   },
   {
    "duration": 110,
    "start_time": "2023-07-11T13:40:18.351Z"
   },
   {
    "duration": 259,
    "start_time": "2023-07-11T13:40:18.464Z"
   },
   {
    "duration": 123,
    "start_time": "2023-07-11T13:40:18.725Z"
   },
   {
    "duration": 100,
    "start_time": "2023-07-11T13:40:18.854Z"
   },
   {
    "duration": 102,
    "start_time": "2023-07-11T13:40:18.959Z"
   },
   {
    "duration": 99,
    "start_time": "2023-07-11T13:40:19.065Z"
   },
   {
    "duration": 211,
    "start_time": "2023-07-11T13:40:19.170Z"
   },
   {
    "duration": 4,
    "start_time": "2023-07-11T13:40:19.383Z"
   },
   {
    "duration": 9,
    "start_time": "2023-07-11T13:40:19.388Z"
   },
   {
    "duration": 86,
    "start_time": "2023-07-11T13:40:19.398Z"
   },
   {
    "duration": 507,
    "start_time": "2023-07-11T13:40:19.485Z"
   },
   {
    "duration": 5,
    "start_time": "2023-07-11T13:40:19.993Z"
   },
   {
    "duration": 362,
    "start_time": "2023-07-11T13:40:19.999Z"
   },
   {
    "duration": 16,
    "start_time": "2023-07-11T13:40:20.362Z"
   },
   {
    "duration": 174,
    "start_time": "2023-07-11T13:40:20.380Z"
   },
   {
    "duration": 8,
    "start_time": "2023-07-11T13:40:20.556Z"
   },
   {
    "duration": 47,
    "start_time": "2023-07-11T13:40:20.565Z"
   },
   {
    "duration": 172,
    "start_time": "2023-07-11T13:40:20.613Z"
   },
   {
    "duration": 108,
    "start_time": "2023-07-11T13:40:20.786Z"
   },
   {
    "duration": 299,
    "start_time": "2023-07-11T13:40:20.897Z"
   },
   {
    "duration": 843,
    "start_time": "2023-07-11T13:52:41.278Z"
   },
   {
    "duration": 730,
    "start_time": "2023-07-11T13:52:45.451Z"
   },
   {
    "duration": 159,
    "start_time": "2023-07-11T13:53:50.725Z"
   },
   {
    "duration": 73,
    "start_time": "2023-07-11T13:53:59.752Z"
   },
   {
    "duration": 26,
    "start_time": "2023-07-11T13:54:05.063Z"
   },
   {
    "duration": 89,
    "start_time": "2023-07-11T13:54:35.838Z"
   },
   {
    "duration": 570,
    "start_time": "2023-07-11T13:56:03.950Z"
   },
   {
    "duration": 17,
    "start_time": "2023-07-11T13:58:00.728Z"
   },
   {
    "duration": 499,
    "start_time": "2023-07-11T13:58:04.040Z"
   },
   {
    "duration": 1597,
    "start_time": "2023-07-11T13:59:21.959Z"
   },
   {
    "duration": 338,
    "start_time": "2023-07-11T13:59:23.571Z"
   },
   {
    "duration": 19,
    "start_time": "2023-07-11T13:59:23.910Z"
   },
   {
    "duration": 326,
    "start_time": "2023-07-11T13:59:23.931Z"
   },
   {
    "duration": 6,
    "start_time": "2023-07-11T13:59:24.263Z"
   },
   {
    "duration": 49,
    "start_time": "2023-07-11T13:59:24.274Z"
   },
   {
    "duration": 196,
    "start_time": "2023-07-11T13:59:24.329Z"
   },
   {
    "duration": 54,
    "start_time": "2023-07-11T13:59:24.531Z"
   },
   {
    "duration": 93,
    "start_time": "2023-07-11T13:59:24.591Z"
   },
   {
    "duration": 299,
    "start_time": "2023-07-11T13:59:24.690Z"
   },
   {
    "duration": 171,
    "start_time": "2023-07-11T13:59:24.990Z"
   },
   {
    "duration": 142,
    "start_time": "2023-07-11T13:59:25.164Z"
   },
   {
    "duration": 192,
    "start_time": "2023-07-11T13:59:25.310Z"
   },
   {
    "duration": 175,
    "start_time": "2023-07-11T13:59:25.507Z"
   },
   {
    "duration": 254,
    "start_time": "2023-07-11T13:59:25.687Z"
   },
   {
    "duration": 7,
    "start_time": "2023-07-11T13:59:25.946Z"
   },
   {
    "duration": 164,
    "start_time": "2023-07-11T13:59:25.957Z"
   },
   {
    "duration": 120,
    "start_time": "2023-07-11T13:59:26.131Z"
   },
   {
    "duration": 643,
    "start_time": "2023-07-11T13:59:26.274Z"
   },
   {
    "duration": 10,
    "start_time": "2023-07-11T13:59:26.918Z"
   },
   {
    "duration": 376,
    "start_time": "2023-07-11T13:59:26.931Z"
   },
   {
    "duration": 15,
    "start_time": "2023-07-11T13:59:27.310Z"
   },
   {
    "duration": 289,
    "start_time": "2023-07-11T13:59:27.330Z"
   },
   {
    "duration": 22,
    "start_time": "2023-07-11T13:59:27.623Z"
   },
   {
    "duration": 96,
    "start_time": "2023-07-11T13:59:27.649Z"
   },
   {
    "duration": 219,
    "start_time": "2023-07-11T13:59:27.754Z"
   },
   {
    "duration": 200,
    "start_time": "2023-07-11T13:59:27.981Z"
   },
   {
    "duration": 362,
    "start_time": "2023-07-11T13:59:28.195Z"
   },
   {
    "duration": 391,
    "start_time": "2023-07-11T13:59:28.558Z"
   },
   {
    "duration": 19,
    "start_time": "2023-07-11T14:03:05.186Z"
   },
   {
    "duration": 39,
    "start_time": "2023-07-11T14:03:07.259Z"
   },
   {
    "duration": 193,
    "start_time": "2023-07-11T14:03:31.387Z"
   },
   {
    "duration": 229,
    "start_time": "2023-07-11T14:03:35.857Z"
   },
   {
    "duration": 38,
    "start_time": "2023-07-11T14:03:39.947Z"
   },
   {
    "duration": 298,
    "start_time": "2023-07-11T14:03:55.783Z"
   },
   {
    "duration": 119,
    "start_time": "2023-07-11T14:04:11.162Z"
   },
   {
    "duration": 63,
    "start_time": "2023-07-11T14:06:19.814Z"
   },
   {
    "duration": 60,
    "start_time": "2023-07-11T14:06:23.528Z"
   },
   {
    "duration": 83,
    "start_time": "2023-07-11T14:06:59.434Z"
   },
   {
    "duration": 38,
    "start_time": "2023-07-11T14:07:36.290Z"
   },
   {
    "duration": 11,
    "start_time": "2023-07-11T14:12:00.282Z"
   },
   {
    "duration": 44,
    "start_time": "2023-07-11T14:12:13.929Z"
   },
   {
    "duration": 156,
    "start_time": "2023-07-11T14:13:08.713Z"
   },
   {
    "duration": 15,
    "start_time": "2023-07-11T14:14:10.878Z"
   },
   {
    "duration": 7,
    "start_time": "2023-07-11T14:14:17.716Z"
   },
   {
    "duration": 1347,
    "start_time": "2023-07-11T14:14:35.241Z"
   },
   {
    "duration": 270,
    "start_time": "2023-07-11T14:14:36.595Z"
   },
   {
    "duration": 24,
    "start_time": "2023-07-11T14:14:36.874Z"
   },
   {
    "duration": 274,
    "start_time": "2023-07-11T14:14:36.910Z"
   },
   {
    "duration": 3,
    "start_time": "2023-07-11T14:14:37.185Z"
   },
   {
    "duration": 18,
    "start_time": "2023-07-11T14:14:37.189Z"
   },
   {
    "duration": 188,
    "start_time": "2023-07-11T14:14:37.208Z"
   },
   {
    "duration": 81,
    "start_time": "2023-07-11T14:14:37.397Z"
   },
   {
    "duration": 7,
    "start_time": "2023-07-11T14:14:37.484Z"
   },
   {
    "duration": 256,
    "start_time": "2023-07-11T14:14:37.494Z"
   },
   {
    "duration": 100,
    "start_time": "2023-07-11T14:14:37.751Z"
   },
   {
    "duration": 133,
    "start_time": "2023-07-11T14:14:37.853Z"
   },
   {
    "duration": 134,
    "start_time": "2023-07-11T14:14:37.996Z"
   },
   {
    "duration": 114,
    "start_time": "2023-07-11T14:14:38.141Z"
   },
   {
    "duration": 212,
    "start_time": "2023-07-11T14:14:38.257Z"
   },
   {
    "duration": 3,
    "start_time": "2023-07-11T14:14:38.470Z"
   },
   {
    "duration": 20,
    "start_time": "2023-07-11T14:14:38.474Z"
   },
   {
    "duration": 45,
    "start_time": "2023-07-11T14:14:38.495Z"
   },
   {
    "duration": 490,
    "start_time": "2023-07-11T14:14:38.549Z"
   },
   {
    "duration": 7,
    "start_time": "2023-07-11T14:14:39.041Z"
   },
   {
    "duration": 244,
    "start_time": "2023-07-11T14:14:39.049Z"
   },
   {
    "duration": 54,
    "start_time": "2023-07-11T14:14:39.294Z"
   },
   {
    "duration": 218,
    "start_time": "2023-07-11T14:14:39.362Z"
   },
   {
    "duration": 6,
    "start_time": "2023-07-11T14:14:39.581Z"
   },
   {
    "duration": 59,
    "start_time": "2023-07-11T14:14:39.588Z"
   },
   {
    "duration": 114,
    "start_time": "2023-07-11T14:14:39.649Z"
   },
   {
    "duration": 101,
    "start_time": "2023-07-11T14:14:39.764Z"
   },
   {
    "duration": 220,
    "start_time": "2023-07-11T14:14:39.867Z"
   },
   {
    "duration": 56,
    "start_time": "2023-07-11T14:14:40.089Z"
   },
   {
    "duration": 47,
    "start_time": "2023-07-11T14:14:40.150Z"
   },
   {
    "duration": 30,
    "start_time": "2023-07-11T14:17:05.818Z"
   },
   {
    "duration": 27,
    "start_time": "2023-07-11T14:17:12.287Z"
   },
   {
    "duration": 171,
    "start_time": "2023-07-11T14:17:27.520Z"
   },
   {
    "duration": 30,
    "start_time": "2023-07-11T14:17:31.518Z"
   },
   {
    "duration": 21,
    "start_time": "2023-07-11T14:17:43.416Z"
   },
   {
    "duration": 42,
    "start_time": "2023-07-11T14:17:48.127Z"
   },
   {
    "duration": 37,
    "start_time": "2023-07-11T14:18:15.224Z"
   },
   {
    "duration": 35,
    "start_time": "2023-07-11T14:18:19.785Z"
   },
   {
    "duration": 29,
    "start_time": "2023-07-11T14:19:25.949Z"
   },
   {
    "duration": 68,
    "start_time": "2023-07-11T14:19:37.229Z"
   },
   {
    "duration": 4,
    "start_time": "2023-07-11T14:19:47.087Z"
   },
   {
    "duration": 88,
    "start_time": "2023-07-11T14:20:15.485Z"
   },
   {
    "duration": 43,
    "start_time": "2023-07-11T14:20:20.018Z"
   },
   {
    "duration": 87,
    "start_time": "2023-07-11T14:20:23.300Z"
   },
   {
    "duration": 71,
    "start_time": "2023-07-11T14:20:27.890Z"
   },
   {
    "duration": 75,
    "start_time": "2023-07-11T14:20:39.886Z"
   },
   {
    "duration": 178,
    "start_time": "2023-07-11T14:20:54.159Z"
   },
   {
    "duration": 1555,
    "start_time": "2023-07-11T14:21:01.038Z"
   },
   {
    "duration": 286,
    "start_time": "2023-07-11T14:21:02.594Z"
   },
   {
    "duration": 16,
    "start_time": "2023-07-11T14:21:02.909Z"
   },
   {
    "duration": 343,
    "start_time": "2023-07-11T14:21:02.938Z"
   },
   {
    "duration": 9,
    "start_time": "2023-07-11T14:21:03.288Z"
   },
   {
    "duration": 154,
    "start_time": "2023-07-11T14:21:03.299Z"
   },
   {
    "duration": 240,
    "start_time": "2023-07-11T14:21:03.462Z"
   },
   {
    "duration": 87,
    "start_time": "2023-07-11T14:21:03.707Z"
   },
   {
    "duration": 115,
    "start_time": "2023-07-11T14:21:03.798Z"
   },
   {
    "duration": 273,
    "start_time": "2023-07-11T14:21:03.915Z"
   },
   {
    "duration": 96,
    "start_time": "2023-07-11T14:21:04.189Z"
   },
   {
    "duration": 139,
    "start_time": "2023-07-11T14:21:04.296Z"
   },
   {
    "duration": 115,
    "start_time": "2023-07-11T14:21:04.441Z"
   },
   {
    "duration": 133,
    "start_time": "2023-07-11T14:21:04.557Z"
   },
   {
    "duration": 206,
    "start_time": "2023-07-11T14:21:04.692Z"
   },
   {
    "duration": 3,
    "start_time": "2023-07-11T14:21:04.917Z"
   },
   {
    "duration": 104,
    "start_time": "2023-07-11T14:21:04.925Z"
   },
   {
    "duration": 163,
    "start_time": "2023-07-11T14:21:05.033Z"
   },
   {
    "duration": 648,
    "start_time": "2023-07-11T14:21:05.198Z"
   },
   {
    "duration": 5,
    "start_time": "2023-07-11T14:21:05.847Z"
   },
   {
    "duration": 334,
    "start_time": "2023-07-11T14:21:05.855Z"
   },
   {
    "duration": 16,
    "start_time": "2023-07-11T14:21:06.197Z"
   },
   {
    "duration": 313,
    "start_time": "2023-07-11T14:21:06.219Z"
   },
   {
    "duration": 15,
    "start_time": "2023-07-11T14:21:06.534Z"
   },
   {
    "duration": 85,
    "start_time": "2023-07-11T14:21:06.550Z"
   },
   {
    "duration": 970,
    "start_time": "2023-07-11T14:21:06.639Z"
   },
   {
    "duration": 41,
    "start_time": "2023-07-11T14:21:07.614Z"
   },
   {
    "duration": 331,
    "start_time": "2023-07-11T14:21:07.662Z"
   },
   {
    "duration": 35,
    "start_time": "2023-07-11T14:21:07.997Z"
   },
   {
    "duration": 149,
    "start_time": "2023-07-11T14:21:08.036Z"
   },
   {
    "duration": 52,
    "start_time": "2023-07-11T14:21:08.189Z"
   },
   {
    "duration": 200,
    "start_time": "2023-07-11T14:21:08.249Z"
   },
   {
    "duration": 7,
    "start_time": "2023-07-11T14:23:05.589Z"
   },
   {
    "duration": 54,
    "start_time": "2023-07-11T14:24:21.774Z"
   },
   {
    "duration": 15,
    "start_time": "2023-07-11T14:24:56.170Z"
   },
   {
    "duration": 55,
    "start_time": "2023-07-11T14:25:08.686Z"
   },
   {
    "duration": 51,
    "start_time": "2023-07-11T14:28:41.290Z"
   },
   {
    "duration": 23,
    "start_time": "2023-07-11T14:28:54.586Z"
   },
   {
    "duration": 41,
    "start_time": "2023-07-11T14:28:59.020Z"
   },
   {
    "duration": 46,
    "start_time": "2023-07-11T14:29:50.003Z"
   },
   {
    "duration": 10,
    "start_time": "2023-07-11T14:29:55.283Z"
   },
   {
    "duration": 46,
    "start_time": "2023-07-11T14:30:01.371Z"
   },
   {
    "duration": 44,
    "start_time": "2023-07-11T14:30:04.821Z"
   },
   {
    "duration": 70,
    "start_time": "2023-07-11T14:30:08.186Z"
   },
   {
    "duration": 23,
    "start_time": "2023-07-11T14:31:13.754Z"
   },
   {
    "duration": 1327,
    "start_time": "2023-07-11T14:32:59.142Z"
   },
   {
    "duration": 224,
    "start_time": "2023-07-11T14:33:00.474Z"
   },
   {
    "duration": 4,
    "start_time": "2023-07-11T14:33:00.703Z"
   },
   {
    "duration": 318,
    "start_time": "2023-07-11T14:33:00.711Z"
   },
   {
    "duration": 6,
    "start_time": "2023-07-11T14:33:01.031Z"
   },
   {
    "duration": 135,
    "start_time": "2023-07-11T14:33:01.052Z"
   },
   {
    "duration": 284,
    "start_time": "2023-07-11T14:33:01.189Z"
   },
   {
    "duration": 116,
    "start_time": "2023-07-11T14:33:01.482Z"
   },
   {
    "duration": 167,
    "start_time": "2023-07-11T14:33:01.604Z"
   },
   {
    "duration": 155,
    "start_time": "2023-07-11T14:33:01.772Z"
   },
   {
    "duration": 132,
    "start_time": "2023-07-11T14:33:01.938Z"
   },
   {
    "duration": 191,
    "start_time": "2023-07-11T14:33:02.074Z"
   },
   {
    "duration": 100,
    "start_time": "2023-07-11T14:33:02.277Z"
   },
   {
    "duration": 112,
    "start_time": "2023-07-11T14:33:02.382Z"
   },
   {
    "duration": 200,
    "start_time": "2023-07-11T14:33:02.496Z"
   },
   {
    "duration": 20,
    "start_time": "2023-07-11T14:33:02.698Z"
   },
   {
    "duration": 70,
    "start_time": "2023-07-11T14:33:02.720Z"
   },
   {
    "duration": 121,
    "start_time": "2023-07-11T14:33:02.792Z"
   },
   {
    "duration": 517,
    "start_time": "2023-07-11T14:33:02.915Z"
   },
   {
    "duration": 11,
    "start_time": "2023-07-11T14:33:03.434Z"
   },
   {
    "duration": 310,
    "start_time": "2023-07-11T14:33:03.446Z"
   },
   {
    "duration": 17,
    "start_time": "2023-07-11T14:33:03.759Z"
   },
   {
    "duration": 153,
    "start_time": "2023-07-11T14:33:03.780Z"
   },
   {
    "duration": 20,
    "start_time": "2023-07-11T14:33:03.937Z"
   },
   {
    "duration": 24,
    "start_time": "2023-07-11T14:33:03.961Z"
   },
   {
    "duration": 831,
    "start_time": "2023-07-11T14:33:03.987Z"
   },
   {
    "duration": 45,
    "start_time": "2023-07-11T14:33:04.824Z"
   },
   {
    "duration": 315,
    "start_time": "2023-07-11T14:33:04.870Z"
   },
   {
    "duration": 20,
    "start_time": "2023-07-11T14:33:05.187Z"
   },
   {
    "duration": 48,
    "start_time": "2023-07-11T14:33:05.208Z"
   },
   {
    "duration": 89,
    "start_time": "2023-07-11T14:33:05.258Z"
   },
   {
    "duration": 83,
    "start_time": "2023-07-11T14:33:05.358Z"
   },
   {
    "duration": 72,
    "start_time": "2023-07-11T14:33:05.445Z"
   },
   {
    "duration": 135,
    "start_time": "2023-07-11T14:33:05.518Z"
   },
   {
    "duration": 78,
    "start_time": "2023-07-11T14:33:05.657Z"
   },
   {
    "duration": 75,
    "start_time": "2023-07-11T14:33:05.746Z"
   },
   {
    "duration": 29342,
    "start_time": "2023-07-11T14:33:05.829Z"
   },
   {
    "duration": 1311,
    "start_time": "2023-07-11T14:35:20.158Z"
   },
   {
    "duration": 271,
    "start_time": "2023-07-11T14:35:21.470Z"
   },
   {
    "duration": 13,
    "start_time": "2023-07-11T14:35:21.761Z"
   },
   {
    "duration": 207,
    "start_time": "2023-07-11T14:35:21.780Z"
   },
   {
    "duration": 3,
    "start_time": "2023-07-11T14:35:21.989Z"
   },
   {
    "duration": 82,
    "start_time": "2023-07-11T14:35:21.993Z"
   },
   {
    "duration": 184,
    "start_time": "2023-07-11T14:35:22.077Z"
   },
   {
    "duration": 99,
    "start_time": "2023-07-11T14:35:22.262Z"
   },
   {
    "duration": 22,
    "start_time": "2023-07-11T14:35:22.365Z"
   },
   {
    "duration": 202,
    "start_time": "2023-07-11T14:35:22.388Z"
   },
   {
    "duration": 86,
    "start_time": "2023-07-11T14:35:22.591Z"
   },
   {
    "duration": 129,
    "start_time": "2023-07-11T14:35:22.680Z"
   },
   {
    "duration": 115,
    "start_time": "2023-07-11T14:35:22.822Z"
   },
   {
    "duration": 75,
    "start_time": "2023-07-11T14:35:22.953Z"
   },
   {
    "duration": 158,
    "start_time": "2023-07-11T14:35:23.032Z"
   },
   {
    "duration": 4,
    "start_time": "2023-07-11T14:35:23.191Z"
   },
   {
    "duration": 82,
    "start_time": "2023-07-11T14:35:23.197Z"
   },
   {
    "duration": 96,
    "start_time": "2023-07-11T14:35:23.281Z"
   },
   {
    "duration": 517,
    "start_time": "2023-07-11T14:35:23.378Z"
   },
   {
    "duration": 13,
    "start_time": "2023-07-11T14:35:23.896Z"
   },
   {
    "duration": 232,
    "start_time": "2023-07-11T14:35:23.910Z"
   },
   {
    "duration": 7,
    "start_time": "2023-07-11T14:35:24.143Z"
   },
   {
    "duration": 210,
    "start_time": "2023-07-11T14:35:24.151Z"
   },
   {
    "duration": 5,
    "start_time": "2023-07-11T14:35:24.368Z"
   },
   {
    "duration": 14,
    "start_time": "2023-07-11T14:35:24.374Z"
   },
   {
    "duration": 797,
    "start_time": "2023-07-11T14:35:24.389Z"
   },
   {
    "duration": 39,
    "start_time": "2023-07-11T14:35:25.187Z"
   },
   {
    "duration": 305,
    "start_time": "2023-07-11T14:35:25.227Z"
   },
   {
    "duration": 38,
    "start_time": "2023-07-11T14:35:25.537Z"
   },
   {
    "duration": 44,
    "start_time": "2023-07-11T14:35:25.585Z"
   },
   {
    "duration": 59,
    "start_time": "2023-07-11T14:35:25.637Z"
   },
   {
    "duration": 81,
    "start_time": "2023-07-11T14:35:25.697Z"
   },
   {
    "duration": 49,
    "start_time": "2023-07-11T14:35:25.780Z"
   },
   {
    "duration": 127,
    "start_time": "2023-07-11T14:35:25.830Z"
   },
   {
    "duration": 47,
    "start_time": "2023-07-11T14:35:25.974Z"
   },
   {
    "duration": 74,
    "start_time": "2023-07-11T14:35:26.023Z"
   },
   {
    "duration": 1286,
    "start_time": "2023-07-11T14:35:39.297Z"
   },
   {
    "duration": 224,
    "start_time": "2023-07-11T14:35:40.585Z"
   },
   {
    "duration": 6,
    "start_time": "2023-07-11T14:35:40.810Z"
   },
   {
    "duration": 201,
    "start_time": "2023-07-11T14:35:40.824Z"
   },
   {
    "duration": 5,
    "start_time": "2023-07-11T14:35:41.030Z"
   },
   {
    "duration": 59,
    "start_time": "2023-07-11T14:35:41.039Z"
   },
   {
    "duration": 232,
    "start_time": "2023-07-11T14:35:41.105Z"
   },
   {
    "duration": 43,
    "start_time": "2023-07-11T14:35:41.339Z"
   },
   {
    "duration": 42,
    "start_time": "2023-07-11T14:35:41.383Z"
   },
   {
    "duration": 155,
    "start_time": "2023-07-11T14:35:41.434Z"
   },
   {
    "duration": 106,
    "start_time": "2023-07-11T14:35:41.590Z"
   },
   {
    "duration": 91,
    "start_time": "2023-07-11T14:35:41.697Z"
   },
   {
    "duration": 92,
    "start_time": "2023-07-11T14:35:41.790Z"
   },
   {
    "duration": 84,
    "start_time": "2023-07-11T14:35:41.885Z"
   },
   {
    "duration": 159,
    "start_time": "2023-07-11T14:35:41.970Z"
   },
   {
    "duration": 3,
    "start_time": "2023-07-11T14:35:42.132Z"
   },
   {
    "duration": 76,
    "start_time": "2023-07-11T14:35:42.137Z"
   },
   {
    "duration": 69,
    "start_time": "2023-07-11T14:35:42.214Z"
   },
   {
    "duration": 468,
    "start_time": "2023-07-11T14:35:42.285Z"
   },
   {
    "duration": 11,
    "start_time": "2023-07-11T14:35:42.754Z"
   },
   {
    "duration": 278,
    "start_time": "2023-07-11T14:35:42.767Z"
   },
   {
    "duration": 14,
    "start_time": "2023-07-11T14:35:43.049Z"
   },
   {
    "duration": 117,
    "start_time": "2023-07-11T14:35:43.067Z"
   },
   {
    "duration": 11,
    "start_time": "2023-07-11T14:35:43.185Z"
   },
   {
    "duration": 71,
    "start_time": "2023-07-11T14:35:43.198Z"
   },
   {
    "duration": 731,
    "start_time": "2023-07-11T14:35:43.271Z"
   },
   {
    "duration": 55,
    "start_time": "2023-07-11T14:35:44.014Z"
   },
   {
    "duration": 296,
    "start_time": "2023-07-11T14:35:44.073Z"
   },
   {
    "duration": 19,
    "start_time": "2023-07-11T14:35:44.370Z"
   },
   {
    "duration": 79,
    "start_time": "2023-07-11T14:35:44.390Z"
   },
   {
    "duration": 103,
    "start_time": "2023-07-11T14:35:44.470Z"
   },
   {
    "duration": 63,
    "start_time": "2023-07-11T14:35:44.574Z"
   },
   {
    "duration": 16,
    "start_time": "2023-07-11T14:35:44.650Z"
   },
   {
    "duration": 89,
    "start_time": "2023-07-11T14:35:44.667Z"
   },
   {
    "duration": 33,
    "start_time": "2023-07-11T14:35:44.758Z"
   },
   {
    "duration": 41,
    "start_time": "2023-07-11T14:35:44.792Z"
   },
   {
    "duration": 17,
    "start_time": "2023-07-11T14:37:00.730Z"
   },
   {
    "duration": 149,
    "start_time": "2023-07-11T14:37:46.926Z"
   },
   {
    "duration": 14,
    "start_time": "2023-07-11T14:37:51.430Z"
   },
   {
    "duration": 89,
    "start_time": "2023-07-11T14:37:54.588Z"
   },
   {
    "duration": 89,
    "start_time": "2023-07-11T14:38:15.630Z"
   },
   {
    "duration": 48,
    "start_time": "2023-07-11T14:38:43.830Z"
   },
   {
    "duration": 91,
    "start_time": "2023-07-11T14:38:46.696Z"
   },
   {
    "duration": 36,
    "start_time": "2023-07-11T14:38:56.460Z"
   },
   {
    "duration": 14,
    "start_time": "2023-07-11T14:49:10.789Z"
   },
   {
    "duration": 93,
    "start_time": "2023-07-11T14:50:03.070Z"
   },
   {
    "duration": 96,
    "start_time": "2023-07-11T14:50:33.462Z"
   },
   {
    "duration": 6,
    "start_time": "2023-07-11T15:00:48.579Z"
   },
   {
    "duration": 4,
    "start_time": "2023-07-11T15:01:10.767Z"
   },
   {
    "duration": 108,
    "start_time": "2023-07-11T15:02:05.477Z"
   },
   {
    "duration": 159,
    "start_time": "2023-07-11T15:02:16.494Z"
   },
   {
    "duration": 102,
    "start_time": "2023-07-11T15:02:20.883Z"
   },
   {
    "duration": 120,
    "start_time": "2023-07-11T15:02:24.332Z"
   },
   {
    "duration": 111,
    "start_time": "2023-07-11T15:02:45.754Z"
   },
   {
    "duration": 3,
    "start_time": "2023-07-11T15:13:07.888Z"
   },
   {
    "duration": 7,
    "start_time": "2023-07-11T15:13:12.079Z"
   },
   {
    "duration": 7,
    "start_time": "2023-07-11T15:13:40.674Z"
   },
   {
    "duration": 10,
    "start_time": "2023-07-11T16:03:15.662Z"
   },
   {
    "duration": 30,
    "start_time": "2023-07-11T16:03:19.369Z"
   },
   {
    "duration": 32,
    "start_time": "2023-07-11T16:07:27.482Z"
   },
   {
    "duration": 142,
    "start_time": "2023-07-11T16:07:52.276Z"
   },
   {
    "duration": 136,
    "start_time": "2023-07-11T16:07:59.684Z"
   },
   {
    "duration": 4,
    "start_time": "2023-07-11T16:08:09.990Z"
   },
   {
    "duration": 187,
    "start_time": "2023-07-11T16:08:48.366Z"
   },
   {
    "duration": 30,
    "start_time": "2023-07-11T16:09:02.655Z"
   },
   {
    "duration": 14,
    "start_time": "2023-07-11T16:09:13.176Z"
   },
   {
    "duration": 32,
    "start_time": "2023-07-11T16:09:27.302Z"
   },
   {
    "duration": 25,
    "start_time": "2023-07-11T16:09:46.238Z"
   },
   {
    "duration": 15,
    "start_time": "2023-07-11T16:10:56.327Z"
   },
   {
    "duration": 9,
    "start_time": "2023-07-11T16:11:00.680Z"
   },
   {
    "duration": 26,
    "start_time": "2023-07-11T16:11:10.710Z"
   },
   {
    "duration": 19,
    "start_time": "2023-07-11T16:11:14.822Z"
   },
   {
    "duration": 15,
    "start_time": "2023-07-11T16:11:18.279Z"
   },
   {
    "duration": 50,
    "start_time": "2023-07-11T16:11:22.529Z"
   },
   {
    "duration": 131,
    "start_time": "2023-07-11T16:12:03.590Z"
   },
   {
    "duration": 136,
    "start_time": "2023-07-11T16:12:06.382Z"
   },
   {
    "duration": 26,
    "start_time": "2023-07-11T16:12:10.123Z"
   },
   {
    "duration": 273,
    "start_time": "2023-07-11T16:12:27.391Z"
   },
   {
    "duration": 136,
    "start_time": "2023-07-11T16:12:38.667Z"
   },
   {
    "duration": 32,
    "start_time": "2023-07-11T16:12:46.527Z"
   },
   {
    "duration": 43,
    "start_time": "2023-07-11T16:13:06.123Z"
   },
   {
    "duration": 31,
    "start_time": "2023-07-11T16:13:12.182Z"
   },
   {
    "duration": 25,
    "start_time": "2023-07-11T16:13:16.524Z"
   },
   {
    "duration": 7,
    "start_time": "2023-07-11T16:17:36.395Z"
   },
   {
    "duration": 14,
    "start_time": "2023-07-11T16:17:39.154Z"
   },
   {
    "duration": 6,
    "start_time": "2023-07-11T16:22:23.992Z"
   },
   {
    "duration": 5,
    "start_time": "2023-07-11T16:26:14.078Z"
   },
   {
    "duration": 10,
    "start_time": "2023-07-11T16:27:46.746Z"
   },
   {
    "duration": 9,
    "start_time": "2023-07-11T16:33:48.019Z"
   },
   {
    "duration": 1363,
    "start_time": "2023-07-11T16:34:43.761Z"
   },
   {
    "duration": 251,
    "start_time": "2023-07-11T16:34:45.142Z"
   },
   {
    "duration": 19,
    "start_time": "2023-07-11T16:34:45.395Z"
   },
   {
    "duration": 259,
    "start_time": "2023-07-11T16:34:45.422Z"
   },
   {
    "duration": 4,
    "start_time": "2023-07-11T16:34:45.687Z"
   },
   {
    "duration": 99,
    "start_time": "2023-07-11T16:34:45.692Z"
   },
   {
    "duration": 172,
    "start_time": "2023-07-11T16:34:45.793Z"
   },
   {
    "duration": 28,
    "start_time": "2023-07-11T16:34:45.966Z"
   },
   {
    "duration": 89,
    "start_time": "2023-07-11T16:34:45.995Z"
   },
   {
    "duration": 160,
    "start_time": "2023-07-11T16:34:46.085Z"
   },
   {
    "duration": 84,
    "start_time": "2023-07-11T16:34:46.246Z"
   },
   {
    "duration": 106,
    "start_time": "2023-07-11T16:34:46.335Z"
   },
   {
    "duration": 88,
    "start_time": "2023-07-11T16:34:46.445Z"
   },
   {
    "duration": 147,
    "start_time": "2023-07-11T16:34:46.539Z"
   },
   {
    "duration": 257,
    "start_time": "2023-07-11T16:34:46.688Z"
   },
   {
    "duration": 3,
    "start_time": "2023-07-11T16:34:46.950Z"
   },
   {
    "duration": 38,
    "start_time": "2023-07-11T16:34:46.954Z"
   },
   {
    "duration": 82,
    "start_time": "2023-07-11T16:34:46.994Z"
   },
   {
    "duration": 639,
    "start_time": "2023-07-11T16:34:47.082Z"
   },
   {
    "duration": 11,
    "start_time": "2023-07-11T16:34:47.722Z"
   },
   {
    "duration": 292,
    "start_time": "2023-07-11T16:34:47.734Z"
   },
   {
    "duration": 18,
    "start_time": "2023-07-11T16:34:48.029Z"
   },
   {
    "duration": 255,
    "start_time": "2023-07-11T16:34:48.051Z"
   },
   {
    "duration": 82,
    "start_time": "2023-07-11T16:34:48.308Z"
   },
   {
    "duration": 99,
    "start_time": "2023-07-11T16:34:48.391Z"
   },
   {
    "duration": 804,
    "start_time": "2023-07-11T16:34:48.492Z"
   },
   {
    "duration": 27,
    "start_time": "2023-07-11T16:34:49.298Z"
   },
   {
    "duration": 356,
    "start_time": "2023-07-11T16:34:49.327Z"
   },
   {
    "duration": 22,
    "start_time": "2023-07-11T16:34:49.684Z"
   },
   {
    "duration": 74,
    "start_time": "2023-07-11T16:34:49.708Z"
   },
   {
    "duration": 29,
    "start_time": "2023-07-11T16:34:49.784Z"
   },
   {
    "duration": 59,
    "start_time": "2023-07-11T16:34:49.821Z"
   },
   {
    "duration": 11,
    "start_time": "2023-07-11T16:34:49.882Z"
   },
   {
    "duration": 36,
    "start_time": "2023-07-11T16:34:49.895Z"
   },
   {
    "duration": 91,
    "start_time": "2023-07-11T16:34:49.933Z"
   },
   {
    "duration": 69,
    "start_time": "2023-07-11T16:34:50.026Z"
   },
   {
    "duration": 81,
    "start_time": "2023-07-11T16:34:50.097Z"
   },
   {
    "duration": 6,
    "start_time": "2023-07-11T16:34:50.179Z"
   },
   {
    "duration": 197,
    "start_time": "2023-07-11T16:34:50.187Z"
   },
   {
    "duration": 9,
    "start_time": "2023-07-11T16:34:50.386Z"
   },
   {
    "duration": 24,
    "start_time": "2023-07-11T16:34:50.398Z"
   },
   {
    "duration": 1063,
    "start_time": "2023-07-11T16:46:02.491Z"
   },
   {
    "duration": 52,
    "start_time": "2023-07-11T16:46:16.438Z"
   },
   {
    "duration": 285,
    "start_time": "2023-07-11T16:46:22.884Z"
   },
   {
    "duration": 41,
    "start_time": "2023-07-11T16:46:26.822Z"
   },
   {
    "duration": 56,
    "start_time": "2023-07-11T16:46:32.748Z"
   },
   {
    "duration": 74,
    "start_time": "2023-07-11T16:47:06.419Z"
   },
   {
    "duration": 45,
    "start_time": "2023-07-11T16:47:12.288Z"
   },
   {
    "duration": 58,
    "start_time": "2023-07-11T16:47:22.820Z"
   },
   {
    "duration": 10,
    "start_time": "2023-07-11T16:47:33.224Z"
   },
   {
    "duration": 108,
    "start_time": "2023-07-11T16:48:01.186Z"
   },
   {
    "duration": 61,
    "start_time": "2023-07-11T16:48:07.162Z"
   },
   {
    "duration": 66,
    "start_time": "2023-07-11T16:49:04.903Z"
   },
   {
    "duration": 617,
    "start_time": "2023-07-11T16:50:49.672Z"
   },
   {
    "duration": 49,
    "start_time": "2023-07-11T16:54:12.704Z"
   },
   {
    "duration": 63,
    "start_time": "2023-07-11T16:54:27.358Z"
   },
   {
    "duration": 54,
    "start_time": "2023-07-11T16:54:54.982Z"
   },
   {
    "duration": 56,
    "start_time": "2023-07-11T16:55:43.965Z"
   },
   {
    "duration": 1326,
    "start_time": "2023-07-11T17:01:07.334Z"
   },
   {
    "duration": 219,
    "start_time": "2023-07-11T17:01:08.666Z"
   },
   {
    "duration": 4,
    "start_time": "2023-07-11T17:01:08.887Z"
   },
   {
    "duration": 263,
    "start_time": "2023-07-11T17:01:08.893Z"
   },
   {
    "duration": 3,
    "start_time": "2023-07-11T17:01:09.160Z"
   },
   {
    "duration": 53,
    "start_time": "2023-07-11T17:01:09.164Z"
   },
   {
    "duration": 227,
    "start_time": "2023-07-11T17:01:09.218Z"
   },
   {
    "duration": 26,
    "start_time": "2023-07-11T17:01:09.459Z"
   },
   {
    "duration": 80,
    "start_time": "2023-07-11T17:01:09.487Z"
   },
   {
    "duration": 148,
    "start_time": "2023-07-11T17:01:09.569Z"
   },
   {
    "duration": 71,
    "start_time": "2023-07-11T17:01:09.719Z"
   },
   {
    "duration": 95,
    "start_time": "2023-07-11T17:01:09.791Z"
   },
   {
    "duration": 69,
    "start_time": "2023-07-11T17:01:09.888Z"
   },
   {
    "duration": 94,
    "start_time": "2023-07-11T17:01:09.959Z"
   },
   {
    "duration": 145,
    "start_time": "2023-07-11T17:01:10.054Z"
   },
   {
    "duration": 48,
    "start_time": "2023-07-11T17:01:27.618Z"
   },
   {
    "duration": 5,
    "start_time": "2023-07-11T17:01:44.169Z"
   },
   {
    "duration": 111,
    "start_time": "2023-07-11T17:01:45.450Z"
   },
   {
    "duration": 75,
    "start_time": "2023-07-11T17:01:52.295Z"
   },
   {
    "duration": 1176,
    "start_time": "2023-07-11T17:02:48.069Z"
   },
   {
    "duration": 205,
    "start_time": "2023-07-11T17:02:49.258Z"
   },
   {
    "duration": 4,
    "start_time": "2023-07-11T17:02:49.470Z"
   },
   {
    "duration": 221,
    "start_time": "2023-07-11T17:02:49.477Z"
   },
   {
    "duration": 7,
    "start_time": "2023-07-11T17:02:49.718Z"
   },
   {
    "duration": 45,
    "start_time": "2023-07-11T17:02:49.726Z"
   },
   {
    "duration": 148,
    "start_time": "2023-07-11T17:02:49.772Z"
   },
   {
    "duration": 47,
    "start_time": "2023-07-11T17:02:49.922Z"
   },
   {
    "duration": 7,
    "start_time": "2023-07-11T17:02:49.971Z"
   },
   {
    "duration": 128,
    "start_time": "2023-07-11T17:02:49.980Z"
   },
   {
    "duration": 76,
    "start_time": "2023-07-11T17:02:50.110Z"
   },
   {
    "duration": 84,
    "start_time": "2023-07-11T17:02:50.187Z"
   },
   {
    "duration": 89,
    "start_time": "2023-07-11T17:02:50.272Z"
   },
   {
    "duration": 85,
    "start_time": "2023-07-11T17:02:50.364Z"
   },
   {
    "duration": 153,
    "start_time": "2023-07-11T17:02:50.450Z"
   },
   {
    "duration": 3,
    "start_time": "2023-07-11T17:02:50.604Z"
   },
   {
    "duration": 7,
    "start_time": "2023-07-11T17:02:50.608Z"
   },
   {
    "duration": 47,
    "start_time": "2023-07-11T17:02:50.616Z"
   },
   {
    "duration": 407,
    "start_time": "2023-07-11T17:02:50.665Z"
   },
   {
    "duration": 4,
    "start_time": "2023-07-11T17:02:51.074Z"
   },
   {
    "duration": 217,
    "start_time": "2023-07-11T17:02:51.080Z"
   },
   {
    "duration": 42,
    "start_time": "2023-07-11T17:02:51.299Z"
   },
   {
    "duration": 126,
    "start_time": "2023-07-11T17:02:51.349Z"
   },
   {
    "duration": 3,
    "start_time": "2023-07-11T17:02:51.476Z"
   },
   {
    "duration": 7,
    "start_time": "2023-07-11T17:02:51.481Z"
   },
   {
    "duration": 680,
    "start_time": "2023-07-11T17:02:51.489Z"
   },
   {
    "duration": 19,
    "start_time": "2023-07-11T17:02:52.170Z"
   },
   {
    "duration": 264,
    "start_time": "2023-07-11T17:02:52.193Z"
   },
   {
    "duration": 24,
    "start_time": "2023-07-11T17:02:52.458Z"
   },
   {
    "duration": 74,
    "start_time": "2023-07-11T17:02:52.483Z"
   },
   {
    "duration": 22,
    "start_time": "2023-07-11T17:02:52.558Z"
   },
   {
    "duration": 48,
    "start_time": "2023-07-11T17:02:52.581Z"
   },
   {
    "duration": 20,
    "start_time": "2023-07-11T17:02:52.642Z"
   },
   {
    "duration": 33,
    "start_time": "2023-07-11T17:02:52.664Z"
   },
   {
    "duration": 59,
    "start_time": "2023-07-11T17:02:52.698Z"
   },
   {
    "duration": 32,
    "start_time": "2023-07-11T17:02:52.759Z"
   },
   {
    "duration": 57,
    "start_time": "2023-07-11T17:02:52.792Z"
   },
   {
    "duration": 22,
    "start_time": "2023-07-11T17:02:52.850Z"
   },
   {
    "duration": 94,
    "start_time": "2023-07-11T17:02:52.874Z"
   },
   {
    "duration": 75,
    "start_time": "2023-07-11T17:02:52.970Z"
   },
   {
    "duration": 15,
    "start_time": "2023-07-11T17:02:53.053Z"
   },
   {
    "duration": 39,
    "start_time": "2023-07-11T17:02:53.070Z"
   },
   {
    "duration": 1099,
    "start_time": "2023-07-11T17:04:00.264Z"
   },
   {
    "duration": 208,
    "start_time": "2023-07-11T17:04:01.366Z"
   },
   {
    "duration": 4,
    "start_time": "2023-07-11T17:04:01.575Z"
   },
   {
    "duration": 240,
    "start_time": "2023-07-11T17:04:01.580Z"
   },
   {
    "duration": 3,
    "start_time": "2023-07-11T17:04:01.822Z"
   },
   {
    "duration": 68,
    "start_time": "2023-07-11T17:04:01.826Z"
   },
   {
    "duration": 201,
    "start_time": "2023-07-11T17:04:01.895Z"
   },
   {
    "duration": 34,
    "start_time": "2023-07-11T17:04:02.098Z"
   },
   {
    "duration": 76,
    "start_time": "2023-07-11T17:04:02.133Z"
   },
   {
    "duration": 176,
    "start_time": "2023-07-11T17:04:02.210Z"
   },
   {
    "duration": 95,
    "start_time": "2023-07-11T17:04:02.388Z"
   },
   {
    "duration": 94,
    "start_time": "2023-07-11T17:04:02.484Z"
   },
   {
    "duration": 98,
    "start_time": "2023-07-11T17:04:02.580Z"
   },
   {
    "duration": 97,
    "start_time": "2023-07-11T17:04:02.680Z"
   },
   {
    "duration": 184,
    "start_time": "2023-07-11T17:04:02.778Z"
   },
   {
    "duration": 57,
    "start_time": "2023-07-11T17:04:06.388Z"
   },
   {
    "duration": 5,
    "start_time": "2023-07-11T17:04:08.166Z"
   },
   {
    "duration": 78,
    "start_time": "2023-07-11T17:04:08.871Z"
   },
   {
    "duration": 58,
    "start_time": "2023-07-11T17:04:11.014Z"
   },
   {
    "duration": 30,
    "start_time": "2023-07-11T17:09:01.227Z"
   },
   {
    "duration": 9,
    "start_time": "2023-07-11T17:09:02.975Z"
   },
   {
    "duration": 1217,
    "start_time": "2023-07-11T17:09:48.077Z"
   },
   {
    "duration": 251,
    "start_time": "2023-07-11T17:09:49.295Z"
   },
   {
    "duration": 14,
    "start_time": "2023-07-11T17:09:49.563Z"
   },
   {
    "duration": 171,
    "start_time": "2023-07-11T17:09:49.579Z"
   },
   {
    "duration": 2,
    "start_time": "2023-07-11T17:09:49.752Z"
   },
   {
    "duration": 12,
    "start_time": "2023-07-11T17:09:49.756Z"
   },
   {
    "duration": 163,
    "start_time": "2023-07-11T17:09:49.770Z"
   },
   {
    "duration": 37,
    "start_time": "2023-07-11T17:09:49.937Z"
   },
   {
    "duration": 7,
    "start_time": "2023-07-11T17:09:49.975Z"
   },
   {
    "duration": 161,
    "start_time": "2023-07-11T17:09:49.984Z"
   },
   {
    "duration": 85,
    "start_time": "2023-07-11T17:09:50.157Z"
   },
   {
    "duration": 72,
    "start_time": "2023-07-11T17:09:50.243Z"
   },
   {
    "duration": 84,
    "start_time": "2023-07-11T17:09:50.325Z"
   },
   {
    "duration": 107,
    "start_time": "2023-07-11T17:09:50.425Z"
   },
   {
    "duration": 194,
    "start_time": "2023-07-11T17:09:50.545Z"
   },
   {
    "duration": 3,
    "start_time": "2023-07-11T17:09:50.741Z"
   },
   {
    "duration": 47,
    "start_time": "2023-07-11T17:09:50.746Z"
   },
   {
    "duration": 73,
    "start_time": "2023-07-11T17:09:50.795Z"
   },
   {
    "duration": 507,
    "start_time": "2023-07-11T17:09:50.869Z"
   },
   {
    "duration": 6,
    "start_time": "2023-07-11T17:09:51.378Z"
   },
   {
    "duration": 212,
    "start_time": "2023-07-11T17:09:51.385Z"
   },
   {
    "duration": 38,
    "start_time": "2023-07-11T17:09:51.599Z"
   },
   {
    "duration": 135,
    "start_time": "2023-07-11T17:09:51.646Z"
   },
   {
    "duration": 4,
    "start_time": "2023-07-11T17:09:51.782Z"
   },
   {
    "duration": 74,
    "start_time": "2023-07-11T17:09:51.788Z"
   },
   {
    "duration": 719,
    "start_time": "2023-07-11T17:09:51.864Z"
   },
   {
    "duration": 48,
    "start_time": "2023-07-11T17:09:52.585Z"
   },
   {
    "duration": 252,
    "start_time": "2023-07-11T17:09:52.636Z"
   },
   {
    "duration": 30,
    "start_time": "2023-07-11T17:09:52.889Z"
   },
   {
    "duration": 121,
    "start_time": "2023-07-11T17:09:52.920Z"
   },
   {
    "duration": 33,
    "start_time": "2023-07-11T17:09:53.046Z"
   },
   {
    "duration": 111,
    "start_time": "2023-07-11T17:09:53.080Z"
   },
   {
    "duration": 74,
    "start_time": "2023-07-11T17:09:53.193Z"
   },
   {
    "duration": 51,
    "start_time": "2023-07-11T17:09:53.268Z"
   },
   {
    "duration": 42,
    "start_time": "2023-07-11T17:09:53.321Z"
   },
   {
    "duration": 33,
    "start_time": "2023-07-11T17:09:53.365Z"
   },
   {
    "duration": 46,
    "start_time": "2023-07-11T17:09:53.410Z"
   },
   {
    "duration": 24,
    "start_time": "2023-07-11T17:09:53.458Z"
   },
   {
    "duration": 95,
    "start_time": "2023-07-11T17:09:53.484Z"
   },
   {
    "duration": 42,
    "start_time": "2023-07-11T17:09:53.581Z"
   },
   {
    "duration": 31,
    "start_time": "2023-07-11T17:09:53.625Z"
   },
   {
    "duration": 16,
    "start_time": "2023-07-11T17:09:53.666Z"
   },
   {
    "duration": 49,
    "start_time": "2023-07-11T17:10:57.124Z"
   },
   {
    "duration": 75,
    "start_time": "2023-07-11T17:12:06.442Z"
   },
   {
    "duration": 63,
    "start_time": "2023-07-11T17:12:18.390Z"
   },
   {
    "duration": 38,
    "start_time": "2023-07-11T17:13:01.153Z"
   },
   {
    "duration": 49,
    "start_time": "2023-07-11T17:13:04.874Z"
   },
   {
    "duration": 11,
    "start_time": "2023-07-11T17:20:25.126Z"
   },
   {
    "duration": 13,
    "start_time": "2023-07-11T17:29:17.697Z"
   },
   {
    "duration": 3,
    "start_time": "2023-07-11T17:29:19.893Z"
   },
   {
    "duration": 124,
    "start_time": "2023-07-11T17:29:22.154Z"
   },
   {
    "duration": 3,
    "start_time": "2023-07-11T17:37:00.565Z"
   },
   {
    "duration": 3,
    "start_time": "2023-07-11T17:37:19.849Z"
   },
   {
    "duration": 7,
    "start_time": "2023-07-11T17:37:22.442Z"
   },
   {
    "duration": 28,
    "start_time": "2023-07-11T17:37:26.821Z"
   },
   {
    "duration": 15,
    "start_time": "2023-07-11T17:37:33.538Z"
   },
   {
    "duration": 4,
    "start_time": "2023-07-11T17:37:35.566Z"
   },
   {
    "duration": 4,
    "start_time": "2023-07-11T17:37:51.884Z"
   },
   {
    "duration": 23,
    "start_time": "2023-07-11T17:38:13.498Z"
   },
   {
    "duration": 4,
    "start_time": "2023-07-11T17:38:46.593Z"
   },
   {
    "duration": 15,
    "start_time": "2023-07-11T17:38:56.054Z"
   },
   {
    "duration": 16,
    "start_time": "2023-07-11T17:55:53.377Z"
   },
   {
    "duration": 65,
    "start_time": "2023-07-12T08:36:56.094Z"
   },
   {
    "duration": 1530,
    "start_time": "2023-07-12T08:37:01.606Z"
   },
   {
    "duration": 772,
    "start_time": "2023-07-12T08:37:03.138Z"
   },
   {
    "duration": 5,
    "start_time": "2023-07-12T08:37:03.913Z"
   },
   {
    "duration": 178,
    "start_time": "2023-07-12T08:37:03.920Z"
   },
   {
    "duration": 5,
    "start_time": "2023-07-12T08:37:04.100Z"
   },
   {
    "duration": 17,
    "start_time": "2023-07-12T08:37:04.108Z"
   },
   {
    "duration": 129,
    "start_time": "2023-07-12T08:37:04.127Z"
   },
   {
    "duration": 21,
    "start_time": "2023-07-12T08:37:04.259Z"
   },
   {
    "duration": 13,
    "start_time": "2023-07-12T08:37:04.282Z"
   },
   {
    "duration": 117,
    "start_time": "2023-07-12T08:37:04.299Z"
   },
   {
    "duration": 103,
    "start_time": "2023-07-12T08:37:04.418Z"
   },
   {
    "duration": 97,
    "start_time": "2023-07-12T08:37:04.523Z"
   },
   {
    "duration": 72,
    "start_time": "2023-07-12T08:37:04.622Z"
   },
   {
    "duration": 76,
    "start_time": "2023-07-12T08:37:04.697Z"
   },
   {
    "duration": 135,
    "start_time": "2023-07-12T08:37:04.775Z"
   },
   {
    "duration": 4,
    "start_time": "2023-07-12T08:37:04.912Z"
   },
   {
    "duration": 14,
    "start_time": "2023-07-12T08:37:04.918Z"
   },
   {
    "duration": 39,
    "start_time": "2023-07-12T08:37:04.935Z"
   },
   {
    "duration": 345,
    "start_time": "2023-07-12T08:37:04.976Z"
   },
   {
    "duration": 6,
    "start_time": "2023-07-12T08:37:05.324Z"
   },
   {
    "duration": 198,
    "start_time": "2023-07-12T08:37:05.332Z"
   },
   {
    "duration": 9,
    "start_time": "2023-07-12T08:37:05.532Z"
   },
   {
    "duration": 123,
    "start_time": "2023-07-12T08:37:05.543Z"
   },
   {
    "duration": 5,
    "start_time": "2023-07-12T08:37:05.669Z"
   },
   {
    "duration": 8,
    "start_time": "2023-07-12T08:37:05.677Z"
   },
   {
    "duration": 729,
    "start_time": "2023-07-12T08:37:05.687Z"
   },
   {
    "duration": 21,
    "start_time": "2023-07-12T08:37:06.418Z"
   },
   {
    "duration": 356,
    "start_time": "2023-07-12T08:37:06.457Z"
   },
   {
    "duration": 19,
    "start_time": "2023-07-12T08:37:06.815Z"
   },
   {
    "duration": 30,
    "start_time": "2023-07-12T08:37:06.836Z"
   },
   {
    "duration": 17,
    "start_time": "2023-07-12T08:37:06.867Z"
   },
   {
    "duration": 27,
    "start_time": "2023-07-12T08:37:06.886Z"
   },
   {
    "duration": 45,
    "start_time": "2023-07-12T08:37:06.914Z"
   },
   {
    "duration": 34,
    "start_time": "2023-07-12T08:37:06.961Z"
   },
   {
    "duration": 26,
    "start_time": "2023-07-12T08:37:06.997Z"
   },
   {
    "duration": 43,
    "start_time": "2023-07-12T08:37:07.025Z"
   },
   {
    "duration": 25,
    "start_time": "2023-07-12T08:37:07.070Z"
   },
   {
    "duration": 6,
    "start_time": "2023-07-12T08:37:07.096Z"
   },
   {
    "duration": 85,
    "start_time": "2023-07-12T08:37:07.103Z"
   },
   {
    "duration": 38,
    "start_time": "2023-07-12T08:37:07.190Z"
   },
   {
    "duration": 37,
    "start_time": "2023-07-12T08:37:07.231Z"
   },
   {
    "duration": 10,
    "start_time": "2023-07-12T08:37:07.270Z"
   },
   {
    "duration": 49,
    "start_time": "2023-07-12T08:37:07.282Z"
   },
   {
    "duration": 28,
    "start_time": "2023-07-12T08:37:07.334Z"
   },
   {
    "duration": 165,
    "start_time": "2023-07-12T08:37:07.364Z"
   },
   {
    "duration": 7,
    "start_time": "2023-07-12T08:37:46.714Z"
   },
   {
    "duration": 7,
    "start_time": "2023-07-12T08:37:58.693Z"
   },
   {
    "duration": 6,
    "start_time": "2023-07-12T08:38:07.015Z"
   },
   {
    "duration": 7,
    "start_time": "2023-07-12T08:38:13.505Z"
   },
   {
    "duration": 9,
    "start_time": "2023-07-12T08:38:18.369Z"
   },
   {
    "duration": 8,
    "start_time": "2023-07-12T08:39:46.128Z"
   },
   {
    "duration": 11,
    "start_time": "2023-07-12T08:40:18.898Z"
   },
   {
    "duration": 8,
    "start_time": "2023-07-12T08:41:26.945Z"
   },
   {
    "duration": 7,
    "start_time": "2023-07-12T08:41:37.105Z"
   },
   {
    "duration": 9,
    "start_time": "2023-07-12T08:41:52.724Z"
   },
   {
    "duration": 12,
    "start_time": "2023-07-12T08:42:45.969Z"
   },
   {
    "duration": 11,
    "start_time": "2023-07-12T08:43:19.235Z"
   },
   {
    "duration": 95,
    "start_time": "2023-07-12T08:43:40.558Z"
   },
   {
    "duration": 12,
    "start_time": "2023-07-12T08:43:43.475Z"
   },
   {
    "duration": 7,
    "start_time": "2023-07-12T08:43:47.711Z"
   },
   {
    "duration": 7,
    "start_time": "2023-07-12T08:43:54.943Z"
   },
   {
    "duration": 7,
    "start_time": "2023-07-12T08:43:59.668Z"
   },
   {
    "duration": 7,
    "start_time": "2023-07-12T08:44:09.235Z"
   },
   {
    "duration": 9,
    "start_time": "2023-07-12T08:44:48.070Z"
   },
   {
    "duration": 7,
    "start_time": "2023-07-12T08:45:25.801Z"
   },
   {
    "duration": 23,
    "start_time": "2023-07-12T08:51:10.545Z"
   },
   {
    "duration": 22,
    "start_time": "2023-07-12T08:52:09.168Z"
   },
   {
    "duration": 34,
    "start_time": "2023-07-12T08:52:13.595Z"
   },
   {
    "duration": 24,
    "start_time": "2023-07-12T08:52:37.557Z"
   },
   {
    "duration": 3,
    "start_time": "2023-07-12T08:52:56.225Z"
   },
   {
    "duration": 15,
    "start_time": "2023-07-12T08:53:00.356Z"
   },
   {
    "duration": 18,
    "start_time": "2023-07-12T08:53:59.595Z"
   },
   {
    "duration": 17,
    "start_time": "2023-07-12T08:54:27.092Z"
   },
   {
    "duration": 19,
    "start_time": "2023-07-12T08:54:42.826Z"
   },
   {
    "duration": 55,
    "start_time": "2023-07-12T08:54:47.913Z"
   },
   {
    "duration": 69,
    "start_time": "2023-07-12T08:56:21.187Z"
   },
   {
    "duration": 12,
    "start_time": "2023-07-12T08:56:38.891Z"
   },
   {
    "duration": 1207,
    "start_time": "2023-07-12T09:05:56.797Z"
   },
   {
    "duration": 163,
    "start_time": "2023-07-12T09:05:58.006Z"
   },
   {
    "duration": 827,
    "start_time": "2023-07-12T09:05:58.171Z"
   },
   {
    "duration": 667,
    "start_time": "2023-07-12T09:05:59.001Z"
   },
   {
    "duration": 3,
    "start_time": "2023-07-12T09:05:59.669Z"
   },
   {
    "duration": 19,
    "start_time": "2023-07-12T09:05:59.674Z"
   },
   {
    "duration": 146,
    "start_time": "2023-07-12T09:05:59.695Z"
   },
   {
    "duration": 22,
    "start_time": "2023-07-12T09:05:59.843Z"
   },
   {
    "duration": 5,
    "start_time": "2023-07-12T09:05:59.867Z"
   },
   {
    "duration": 120,
    "start_time": "2023-07-12T09:05:59.875Z"
   },
   {
    "duration": 79,
    "start_time": "2023-07-12T09:05:59.997Z"
   },
   {
    "duration": 65,
    "start_time": "2023-07-12T09:06:00.077Z"
   },
   {
    "duration": 73,
    "start_time": "2023-07-12T09:06:00.157Z"
   },
   {
    "duration": 83,
    "start_time": "2023-07-12T09:06:00.232Z"
   },
   {
    "duration": 144,
    "start_time": "2023-07-12T09:06:00.317Z"
   },
   {
    "duration": 4,
    "start_time": "2023-07-12T09:06:00.462Z"
   },
   {
    "duration": 45,
    "start_time": "2023-07-12T09:06:00.468Z"
   },
   {
    "duration": 34,
    "start_time": "2023-07-12T09:06:00.515Z"
   },
   {
    "duration": 354,
    "start_time": "2023-07-12T09:06:00.551Z"
   },
   {
    "duration": 7,
    "start_time": "2023-07-12T09:06:00.907Z"
   },
   {
    "duration": 242,
    "start_time": "2023-07-12T09:06:00.916Z"
   },
   {
    "duration": 10,
    "start_time": "2023-07-12T09:06:01.160Z"
   },
   {
    "duration": 126,
    "start_time": "2023-07-12T09:06:01.172Z"
   },
   {
    "duration": 4,
    "start_time": "2023-07-12T09:06:01.300Z"
   },
   {
    "duration": 72,
    "start_time": "2023-07-12T09:06:01.306Z"
   },
   {
    "duration": 736,
    "start_time": "2023-07-12T09:06:01.379Z"
   },
   {
    "duration": 20,
    "start_time": "2023-07-12T09:06:02.117Z"
   },
   {
    "duration": 210,
    "start_time": "2023-07-12T09:06:02.140Z"
   },
   {
    "duration": 20,
    "start_time": "2023-07-12T09:06:02.352Z"
   },
   {
    "duration": 20,
    "start_time": "2023-07-12T09:06:02.374Z"
   },
   {
    "duration": 19,
    "start_time": "2023-07-12T09:06:02.396Z"
   },
   {
    "duration": 54,
    "start_time": "2023-07-12T09:06:02.417Z"
   },
   {
    "duration": 12,
    "start_time": "2023-07-12T09:06:02.472Z"
   },
   {
    "duration": 41,
    "start_time": "2023-07-12T09:06:02.485Z"
   },
   {
    "duration": 43,
    "start_time": "2023-07-12T09:06:02.528Z"
   },
   {
    "duration": 17,
    "start_time": "2023-07-12T09:06:02.573Z"
   },
   {
    "duration": 27,
    "start_time": "2023-07-12T09:06:02.592Z"
   },
   {
    "duration": 6,
    "start_time": "2023-07-12T09:06:02.621Z"
   },
   {
    "duration": 62,
    "start_time": "2023-07-12T09:06:02.657Z"
   },
   {
    "duration": 60,
    "start_time": "2023-07-12T09:06:02.721Z"
   },
   {
    "duration": 22,
    "start_time": "2023-07-12T09:06:02.783Z"
   },
   {
    "duration": 81,
    "start_time": "2023-07-12T09:06:02.807Z"
   },
   {
    "duration": 9,
    "start_time": "2023-07-12T09:06:02.890Z"
   },
   {
    "duration": 46,
    "start_time": "2023-07-12T09:06:02.901Z"
   },
   {
    "duration": 11,
    "start_time": "2023-07-12T09:06:02.949Z"
   },
   {
    "duration": 106,
    "start_time": "2023-07-12T09:06:02.962Z"
   },
   {
    "duration": 19,
    "start_time": "2023-07-12T09:06:27.544Z"
   },
   {
    "duration": 1156,
    "start_time": "2023-07-12T09:06:56.884Z"
   },
   {
    "duration": 147,
    "start_time": "2023-07-12T09:06:58.042Z"
   },
   {
    "duration": 4,
    "start_time": "2023-07-12T09:06:58.190Z"
   },
   {
    "duration": 151,
    "start_time": "2023-07-12T09:06:58.195Z"
   },
   {
    "duration": 3,
    "start_time": "2023-07-12T09:06:58.357Z"
   },
   {
    "duration": 13,
    "start_time": "2023-07-12T09:06:58.362Z"
   },
   {
    "duration": 125,
    "start_time": "2023-07-12T09:06:58.378Z"
   },
   {
    "duration": 34,
    "start_time": "2023-07-12T09:06:58.504Z"
   },
   {
    "duration": 19,
    "start_time": "2023-07-12T09:06:58.540Z"
   },
   {
    "duration": 109,
    "start_time": "2023-07-12T09:06:58.560Z"
   },
   {
    "duration": 61,
    "start_time": "2023-07-12T09:06:58.671Z"
   },
   {
    "duration": 73,
    "start_time": "2023-07-12T09:06:58.733Z"
   },
   {
    "duration": 88,
    "start_time": "2023-07-12T09:06:58.808Z"
   },
   {
    "duration": 80,
    "start_time": "2023-07-12T09:06:58.899Z"
   },
   {
    "duration": 150,
    "start_time": "2023-07-12T09:06:58.981Z"
   },
   {
    "duration": 3,
    "start_time": "2023-07-12T09:06:59.133Z"
   },
   {
    "duration": 19,
    "start_time": "2023-07-12T09:06:59.138Z"
   },
   {
    "duration": 9,
    "start_time": "2023-07-12T09:06:59.159Z"
   },
   {
    "duration": 355,
    "start_time": "2023-07-12T09:06:59.170Z"
   },
   {
    "duration": 5,
    "start_time": "2023-07-12T09:06:59.527Z"
   },
   {
    "duration": 157,
    "start_time": "2023-07-12T09:06:59.534Z"
   },
   {
    "duration": 9,
    "start_time": "2023-07-12T09:06:59.693Z"
   },
   {
    "duration": 102,
    "start_time": "2023-07-12T09:06:59.704Z"
   },
   {
    "duration": 4,
    "start_time": "2023-07-12T09:06:59.808Z"
   },
   {
    "duration": 23,
    "start_time": "2023-07-12T09:06:59.814Z"
   },
   {
    "duration": 668,
    "start_time": "2023-07-12T09:06:59.839Z"
   },
   {
    "duration": 22,
    "start_time": "2023-07-12T09:07:00.508Z"
   },
   {
    "duration": 225,
    "start_time": "2023-07-12T09:07:00.532Z"
   },
   {
    "duration": 20,
    "start_time": "2023-07-12T09:07:00.759Z"
   },
   {
    "duration": 52,
    "start_time": "2023-07-12T09:07:00.780Z"
   },
   {
    "duration": 44,
    "start_time": "2023-07-12T09:07:00.834Z"
   },
   {
    "duration": 54,
    "start_time": "2023-07-12T09:07:00.880Z"
   },
   {
    "duration": 63,
    "start_time": "2023-07-12T09:07:00.936Z"
   },
   {
    "duration": 66,
    "start_time": "2023-07-12T09:07:01.001Z"
   },
   {
    "duration": 30,
    "start_time": "2023-07-12T09:07:01.069Z"
   },
   {
    "duration": 20,
    "start_time": "2023-07-12T09:07:01.100Z"
   },
   {
    "duration": 69,
    "start_time": "2023-07-12T09:07:01.122Z"
   },
   {
    "duration": 32,
    "start_time": "2023-07-12T09:07:01.193Z"
   },
   {
    "duration": 83,
    "start_time": "2023-07-12T09:07:01.227Z"
   },
   {
    "duration": 48,
    "start_time": "2023-07-12T09:07:01.313Z"
   },
   {
    "duration": 20,
    "start_time": "2023-07-12T09:07:01.366Z"
   },
   {
    "duration": 99,
    "start_time": "2023-07-12T09:07:01.388Z"
   },
   {
    "duration": 10,
    "start_time": "2023-07-12T09:07:01.489Z"
   },
   {
    "duration": 65,
    "start_time": "2023-07-12T09:07:01.500Z"
   },
   {
    "duration": 7,
    "start_time": "2023-07-12T09:07:01.567Z"
   },
   {
    "duration": 32,
    "start_time": "2023-07-12T09:07:01.576Z"
   },
   {
    "duration": 116,
    "start_time": "2023-07-12T09:07:01.610Z"
   },
   {
    "duration": 6626,
    "start_time": "2023-07-12T09:07:14.818Z"
   },
   {
    "duration": 10,
    "start_time": "2023-07-12T09:07:30.800Z"
   },
   {
    "duration": 16,
    "start_time": "2023-07-12T09:10:30.225Z"
   },
   {
    "duration": 29,
    "start_time": "2023-07-12T09:11:20.186Z"
   },
   {
    "duration": 44,
    "start_time": "2023-07-12T09:11:56.167Z"
   },
   {
    "duration": 37,
    "start_time": "2023-07-12T09:12:18.927Z"
   },
   {
    "duration": 43,
    "start_time": "2023-07-12T09:15:09.425Z"
   },
   {
    "duration": 35,
    "start_time": "2023-07-12T09:16:40.142Z"
   },
   {
    "duration": 34,
    "start_time": "2023-07-12T09:17:15.269Z"
   },
   {
    "duration": 8,
    "start_time": "2023-07-12T09:17:18.519Z"
   },
   {
    "duration": 40,
    "start_time": "2023-07-12T09:17:37.747Z"
   },
   {
    "duration": 35,
    "start_time": "2023-07-12T09:17:38.413Z"
   },
   {
    "duration": 10,
    "start_time": "2023-07-12T09:21:30.527Z"
   },
   {
    "duration": 7,
    "start_time": "2023-07-12T09:21:35.161Z"
   },
   {
    "duration": 6,
    "start_time": "2023-07-12T09:21:47.876Z"
   },
   {
    "duration": 4,
    "start_time": "2023-07-12T09:22:02.819Z"
   },
   {
    "duration": 36,
    "start_time": "2023-07-12T09:23:49.258Z"
   },
   {
    "duration": 9,
    "start_time": "2023-07-12T09:23:51.866Z"
   },
   {
    "duration": 32,
    "start_time": "2023-07-12T09:24:03.369Z"
   },
   {
    "duration": 31,
    "start_time": "2023-07-12T09:24:15.547Z"
   },
   {
    "duration": 33,
    "start_time": "2023-07-12T09:25:11.281Z"
   },
   {
    "duration": 40,
    "start_time": "2023-07-12T09:25:20.967Z"
   },
   {
    "duration": 38,
    "start_time": "2023-07-12T09:25:26.267Z"
   },
   {
    "duration": 49,
    "start_time": "2023-07-12T09:25:41.743Z"
   },
   {
    "duration": 35,
    "start_time": "2023-07-12T09:26:02.402Z"
   },
   {
    "duration": 36,
    "start_time": "2023-07-12T09:26:18.604Z"
   },
   {
    "duration": 30,
    "start_time": "2023-07-12T09:26:31.696Z"
   },
   {
    "duration": 31,
    "start_time": "2023-07-12T09:46:26.497Z"
   },
   {
    "duration": 32,
    "start_time": "2023-07-12T09:46:34.095Z"
   },
   {
    "duration": 34,
    "start_time": "2023-07-12T09:46:47.608Z"
   },
   {
    "duration": 33,
    "start_time": "2023-07-12T09:46:50.786Z"
   },
   {
    "duration": 34,
    "start_time": "2023-07-12T09:47:01.133Z"
   },
   {
    "duration": 30,
    "start_time": "2023-07-12T09:47:11.544Z"
   },
   {
    "duration": 32,
    "start_time": "2023-07-12T09:47:14.695Z"
   },
   {
    "duration": 32,
    "start_time": "2023-07-12T09:47:17.822Z"
   },
   {
    "duration": 15,
    "start_time": "2023-07-12T09:48:49.815Z"
   },
   {
    "duration": 65,
    "start_time": "2023-07-12T09:48:50.986Z"
   },
   {
    "duration": 10,
    "start_time": "2023-07-12T09:48:57.295Z"
   },
   {
    "duration": 35,
    "start_time": "2023-07-12T09:49:05.298Z"
   },
   {
    "duration": 8,
    "start_time": "2023-07-12T09:49:06.795Z"
   },
   {
    "duration": 30,
    "start_time": "2023-07-12T09:49:12.396Z"
   },
   {
    "duration": 31,
    "start_time": "2023-07-12T09:49:14.330Z"
   },
   {
    "duration": 615,
    "start_time": "2023-07-12T09:50:38.063Z"
   },
   {
    "duration": 34,
    "start_time": "2023-07-12T09:50:45.311Z"
   },
   {
    "duration": 5,
    "start_time": "2023-07-12T09:50:57.272Z"
   },
   {
    "duration": 537,
    "start_time": "2023-07-12T09:51:06.201Z"
   },
   {
    "duration": 30,
    "start_time": "2023-07-12T09:51:09.913Z"
   },
   {
    "duration": 29,
    "start_time": "2023-07-12T09:51:45.451Z"
   },
   {
    "duration": 14,
    "start_time": "2023-07-12T09:51:57.481Z"
   },
   {
    "duration": 14,
    "start_time": "2023-07-12T09:52:11.145Z"
   },
   {
    "duration": 5,
    "start_time": "2023-07-12T09:52:47.139Z"
   },
   {
    "duration": 6,
    "start_time": "2023-07-12T09:52:53.932Z"
   },
   {
    "duration": 79,
    "start_time": "2023-07-12T10:02:10.320Z"
   },
   {
    "duration": 92,
    "start_time": "2023-07-12T10:03:58.941Z"
   },
   {
    "duration": 72,
    "start_time": "2023-07-12T10:04:23.770Z"
   },
   {
    "duration": 84,
    "start_time": "2023-07-12T10:04:36.507Z"
   },
   {
    "duration": 75,
    "start_time": "2023-07-12T10:04:51.774Z"
   },
   {
    "duration": 71,
    "start_time": "2023-07-12T10:05:50.088Z"
   },
   {
    "duration": 37,
    "start_time": "2023-07-12T10:06:07.734Z"
   },
   {
    "duration": 1508,
    "start_time": "2023-07-12T10:06:11.409Z"
   },
   {
    "duration": 1369,
    "start_time": "2023-07-12T10:06:49.989Z"
   },
   {
    "duration": 1514,
    "start_time": "2023-07-12T10:06:56.374Z"
   },
   {
    "duration": 1425,
    "start_time": "2023-07-12T10:07:08.261Z"
   },
   {
    "duration": 1063,
    "start_time": "2023-07-12T10:07:25.462Z"
   },
   {
    "duration": 5,
    "start_time": "2023-07-12T10:07:31.014Z"
   },
   {
    "duration": 5,
    "start_time": "2023-07-12T10:07:52.660Z"
   },
   {
    "duration": 72,
    "start_time": "2023-07-12T10:08:07.662Z"
   },
   {
    "duration": 95,
    "start_time": "2023-07-12T10:08:13.595Z"
   },
   {
    "duration": 42,
    "start_time": "2023-07-12T10:25:48.750Z"
   },
   {
    "duration": 5,
    "start_time": "2023-07-12T10:25:49.420Z"
   },
   {
    "duration": 74,
    "start_time": "2023-07-12T10:25:52.839Z"
   },
   {
    "duration": 78,
    "start_time": "2023-07-12T10:30:22.609Z"
   },
   {
    "duration": 96,
    "start_time": "2023-07-12T10:30:37.919Z"
   },
   {
    "duration": 85,
    "start_time": "2023-07-12T10:30:39.602Z"
   },
   {
    "duration": 92,
    "start_time": "2023-07-12T10:30:48.583Z"
   },
   {
    "duration": 73,
    "start_time": "2023-07-12T10:31:18.109Z"
   },
   {
    "duration": 79,
    "start_time": "2023-07-12T10:31:21.332Z"
   },
   {
    "duration": 6,
    "start_time": "2023-07-12T10:50:53.384Z"
   },
   {
    "duration": 5,
    "start_time": "2023-07-12T10:58:30.590Z"
   },
   {
    "duration": 5,
    "start_time": "2023-07-12T10:58:31.306Z"
   },
   {
    "duration": 9,
    "start_time": "2023-07-12T11:00:30.639Z"
   },
   {
    "duration": 13,
    "start_time": "2023-07-12T11:00:37.300Z"
   },
   {
    "duration": 6,
    "start_time": "2023-07-12T11:00:49.140Z"
   },
   {
    "duration": 5,
    "start_time": "2023-07-12T11:00:49.590Z"
   },
   {
    "duration": 13,
    "start_time": "2023-07-12T11:00:51.430Z"
   },
   {
    "duration": 5,
    "start_time": "2023-07-12T11:01:06.942Z"
   },
   {
    "duration": 19,
    "start_time": "2023-07-12T11:01:08.610Z"
   },
   {
    "duration": 1302,
    "start_time": "2023-07-12T11:01:31.870Z"
   },
   {
    "duration": 160,
    "start_time": "2023-07-12T11:01:33.175Z"
   },
   {
    "duration": 4,
    "start_time": "2023-07-12T11:01:33.337Z"
   },
   {
    "duration": 158,
    "start_time": "2023-07-12T11:01:33.343Z"
   },
   {
    "duration": 2,
    "start_time": "2023-07-12T11:01:33.504Z"
   },
   {
    "duration": 17,
    "start_time": "2023-07-12T11:01:33.508Z"
   },
   {
    "duration": 136,
    "start_time": "2023-07-12T11:01:33.526Z"
   },
   {
    "duration": 27,
    "start_time": "2023-07-12T11:01:33.665Z"
   },
   {
    "duration": 10,
    "start_time": "2023-07-12T11:01:33.693Z"
   },
   {
    "duration": 136,
    "start_time": "2023-07-12T11:01:33.704Z"
   },
   {
    "duration": 84,
    "start_time": "2023-07-12T11:01:33.842Z"
   },
   {
    "duration": 88,
    "start_time": "2023-07-12T11:01:33.927Z"
   },
   {
    "duration": 94,
    "start_time": "2023-07-12T11:01:34.016Z"
   },
   {
    "duration": 80,
    "start_time": "2023-07-12T11:01:34.113Z"
   },
   {
    "duration": 141,
    "start_time": "2023-07-12T11:01:34.194Z"
   },
   {
    "duration": 4,
    "start_time": "2023-07-12T11:01:34.337Z"
   },
   {
    "duration": 21,
    "start_time": "2023-07-12T11:01:34.342Z"
   },
   {
    "duration": 12,
    "start_time": "2023-07-12T11:01:34.365Z"
   },
   {
    "duration": 396,
    "start_time": "2023-07-12T11:01:34.379Z"
   },
   {
    "duration": 6,
    "start_time": "2023-07-12T11:01:34.777Z"
   },
   {
    "duration": 163,
    "start_time": "2023-07-12T11:01:34.785Z"
   },
   {
    "duration": 14,
    "start_time": "2023-07-12T11:01:34.950Z"
   },
   {
    "duration": 91,
    "start_time": "2023-07-12T11:01:34.966Z"
   },
   {
    "duration": 5,
    "start_time": "2023-07-12T11:01:35.058Z"
   },
   {
    "duration": 20,
    "start_time": "2023-07-12T11:01:35.065Z"
   },
   {
    "duration": 731,
    "start_time": "2023-07-12T11:01:35.086Z"
   },
   {
    "duration": 20,
    "start_time": "2023-07-12T11:01:35.819Z"
   },
   {
    "duration": 233,
    "start_time": "2023-07-12T11:01:35.841Z"
   },
   {
    "duration": 21,
    "start_time": "2023-07-12T11:01:36.076Z"
   },
   {
    "duration": 22,
    "start_time": "2023-07-12T11:01:36.099Z"
   },
   {
    "duration": 24,
    "start_time": "2023-07-12T11:01:36.123Z"
   },
   {
    "duration": 36,
    "start_time": "2023-07-12T11:01:36.158Z"
   },
   {
    "duration": 11,
    "start_time": "2023-07-12T11:01:36.197Z"
   },
   {
    "duration": 63,
    "start_time": "2023-07-12T11:01:36.210Z"
   },
   {
    "duration": 28,
    "start_time": "2023-07-12T11:01:36.275Z"
   },
   {
    "duration": 25,
    "start_time": "2023-07-12T11:01:36.304Z"
   },
   {
    "duration": 42,
    "start_time": "2023-07-12T11:01:36.331Z"
   },
   {
    "duration": 7,
    "start_time": "2023-07-12T11:01:36.375Z"
   },
   {
    "duration": 75,
    "start_time": "2023-07-12T11:01:36.384Z"
   },
   {
    "duration": 45,
    "start_time": "2023-07-12T11:01:36.462Z"
   },
   {
    "duration": 13,
    "start_time": "2023-07-12T11:01:36.511Z"
   },
   {
    "duration": 83,
    "start_time": "2023-07-12T11:01:36.526Z"
   },
   {
    "duration": 9,
    "start_time": "2023-07-12T11:01:36.611Z"
   },
   {
    "duration": 58,
    "start_time": "2023-07-12T11:01:36.621Z"
   },
   {
    "duration": 6,
    "start_time": "2023-07-12T11:01:36.682Z"
   },
   {
    "duration": 114,
    "start_time": "2023-07-12T11:01:36.689Z"
   },
   {
    "duration": 5,
    "start_time": "2023-07-12T11:01:36.806Z"
   },
   {
    "duration": 21,
    "start_time": "2023-07-12T11:01:36.813Z"
   },
   {
    "duration": 151,
    "start_time": "2023-07-12T11:01:36.836Z"
   },
   {
    "duration": 1240,
    "start_time": "2023-07-12T11:02:27.793Z"
   },
   {
    "duration": 217,
    "start_time": "2023-07-12T11:02:29.036Z"
   },
   {
    "duration": 4,
    "start_time": "2023-07-12T11:02:29.256Z"
   },
   {
    "duration": 189,
    "start_time": "2023-07-12T11:02:29.262Z"
   },
   {
    "duration": 3,
    "start_time": "2023-07-12T11:02:29.458Z"
   },
   {
    "duration": 19,
    "start_time": "2023-07-12T11:02:29.463Z"
   },
   {
    "duration": 147,
    "start_time": "2023-07-12T11:02:29.484Z"
   },
   {
    "duration": 26,
    "start_time": "2023-07-12T11:02:29.633Z"
   },
   {
    "duration": 15,
    "start_time": "2023-07-12T11:02:29.661Z"
   },
   {
    "duration": 132,
    "start_time": "2023-07-12T11:02:29.680Z"
   },
   {
    "duration": 81,
    "start_time": "2023-07-12T11:02:29.814Z"
   },
   {
    "duration": 101,
    "start_time": "2023-07-12T11:02:29.897Z"
   },
   {
    "duration": 76,
    "start_time": "2023-07-12T11:02:29.999Z"
   },
   {
    "duration": 67,
    "start_time": "2023-07-12T11:02:30.077Z"
   },
   {
    "duration": 167,
    "start_time": "2023-07-12T11:02:30.145Z"
   },
   {
    "duration": 4,
    "start_time": "2023-07-12T11:02:30.314Z"
   },
   {
    "duration": 94,
    "start_time": "2023-07-12T11:02:30.319Z"
   },
   {
    "duration": 65,
    "start_time": "2023-07-12T11:02:30.415Z"
   },
   {
    "duration": 443,
    "start_time": "2023-07-12T11:02:30.482Z"
   },
   {
    "duration": 5,
    "start_time": "2023-07-12T11:02:30.927Z"
   },
   {
    "duration": 202,
    "start_time": "2023-07-12T11:02:30.933Z"
   },
   {
    "duration": 9,
    "start_time": "2023-07-12T11:02:31.136Z"
   },
   {
    "duration": 129,
    "start_time": "2023-07-12T11:02:31.147Z"
   },
   {
    "duration": 5,
    "start_time": "2023-07-12T11:02:31.278Z"
   },
   {
    "duration": 58,
    "start_time": "2023-07-12T11:02:31.285Z"
   },
   {
    "duration": 759,
    "start_time": "2023-07-12T11:02:31.345Z"
   },
   {
    "duration": 21,
    "start_time": "2023-07-12T11:02:32.105Z"
   },
   {
    "duration": 258,
    "start_time": "2023-07-12T11:02:32.129Z"
   },
   {
    "duration": 19,
    "start_time": "2023-07-12T11:02:32.389Z"
   },
   {
    "duration": 16,
    "start_time": "2023-07-12T11:02:32.411Z"
   },
   {
    "duration": 52,
    "start_time": "2023-07-12T11:02:32.429Z"
   },
   {
    "duration": 30,
    "start_time": "2023-07-12T11:02:32.483Z"
   },
   {
    "duration": 12,
    "start_time": "2023-07-12T11:02:32.515Z"
   },
   {
    "duration": 64,
    "start_time": "2023-07-12T11:02:32.529Z"
   },
   {
    "duration": 25,
    "start_time": "2023-07-12T11:02:32.594Z"
   },
   {
    "duration": 36,
    "start_time": "2023-07-12T11:02:32.621Z"
   },
   {
    "duration": 36,
    "start_time": "2023-07-12T11:02:32.661Z"
   },
   {
    "duration": 16,
    "start_time": "2023-07-12T11:02:32.698Z"
   },
   {
    "duration": 77,
    "start_time": "2023-07-12T11:02:32.715Z"
   },
   {
    "duration": 43,
    "start_time": "2023-07-12T11:02:32.794Z"
   },
   {
    "duration": 35,
    "start_time": "2023-07-12T11:02:32.839Z"
   },
   {
    "duration": 64,
    "start_time": "2023-07-12T11:02:32.876Z"
   },
   {
    "duration": 22,
    "start_time": "2023-07-12T11:02:32.941Z"
   },
   {
    "duration": 47,
    "start_time": "2023-07-12T11:02:32.966Z"
   },
   {
    "duration": 13,
    "start_time": "2023-07-12T11:02:33.015Z"
   },
   {
    "duration": 104,
    "start_time": "2023-07-12T11:02:33.029Z"
   },
   {
    "duration": 6,
    "start_time": "2023-07-12T11:02:33.134Z"
   },
   {
    "duration": 41,
    "start_time": "2023-07-12T11:02:33.141Z"
   },
   {
    "duration": 13,
    "start_time": "2023-07-12T11:02:33.184Z"
   },
   {
    "duration": 5,
    "start_time": "2023-07-12T11:03:14.646Z"
   },
   {
    "duration": 7,
    "start_time": "2023-07-12T11:03:15.917Z"
   },
   {
    "duration": 11,
    "start_time": "2023-07-12T11:03:17.871Z"
   },
   {
    "duration": 87,
    "start_time": "2023-07-12T11:14:39.906Z"
   },
   {
    "duration": 8,
    "start_time": "2023-07-12T11:15:02.933Z"
   },
   {
    "duration": 8,
    "start_time": "2023-07-12T11:15:08.208Z"
   },
   {
    "duration": 1318,
    "start_time": "2023-07-12T11:15:54.071Z"
   },
   {
    "duration": 167,
    "start_time": "2023-07-12T11:15:55.391Z"
   },
   {
    "duration": 7,
    "start_time": "2023-07-12T11:15:55.560Z"
   },
   {
    "duration": 153,
    "start_time": "2023-07-12T11:15:55.572Z"
   },
   {
    "duration": 3,
    "start_time": "2023-07-12T11:15:55.728Z"
   },
   {
    "duration": 41,
    "start_time": "2023-07-12T11:15:55.733Z"
   },
   {
    "duration": 125,
    "start_time": "2023-07-12T11:15:55.778Z"
   },
   {
    "duration": 21,
    "start_time": "2023-07-12T11:15:55.905Z"
   },
   {
    "duration": 11,
    "start_time": "2023-07-12T11:15:55.928Z"
   },
   {
    "duration": 129,
    "start_time": "2023-07-12T11:15:55.941Z"
   },
   {
    "duration": 72,
    "start_time": "2023-07-12T11:15:56.072Z"
   },
   {
    "duration": 75,
    "start_time": "2023-07-12T11:15:56.157Z"
   },
   {
    "duration": 78,
    "start_time": "2023-07-12T11:15:56.234Z"
   },
   {
    "duration": 80,
    "start_time": "2023-07-12T11:15:56.315Z"
   },
   {
    "duration": 142,
    "start_time": "2023-07-12T11:15:56.398Z"
   },
   {
    "duration": 5,
    "start_time": "2023-07-12T11:15:56.542Z"
   },
   {
    "duration": 13,
    "start_time": "2023-07-12T11:15:56.556Z"
   },
   {
    "duration": 17,
    "start_time": "2023-07-12T11:15:56.571Z"
   },
   {
    "duration": 396,
    "start_time": "2023-07-12T11:15:56.590Z"
   },
   {
    "duration": 5,
    "start_time": "2023-07-12T11:15:56.988Z"
   },
   {
    "duration": 208,
    "start_time": "2023-07-12T11:15:56.995Z"
   },
   {
    "duration": 8,
    "start_time": "2023-07-12T11:15:57.206Z"
   },
   {
    "duration": 111,
    "start_time": "2023-07-12T11:15:57.215Z"
   },
   {
    "duration": 5,
    "start_time": "2023-07-12T11:15:57.328Z"
   },
   {
    "duration": 8,
    "start_time": "2023-07-12T11:15:57.335Z"
   },
   {
    "duration": 993,
    "start_time": "2023-07-12T11:15:57.344Z"
   },
   {
    "duration": 43,
    "start_time": "2023-07-12T11:15:58.339Z"
   },
   {
    "duration": 253,
    "start_time": "2023-07-12T11:15:58.392Z"
   },
   {
    "duration": 32,
    "start_time": "2023-07-12T11:15:58.647Z"
   },
   {
    "duration": 35,
    "start_time": "2023-07-12T11:15:58.682Z"
   },
   {
    "duration": 19,
    "start_time": "2023-07-12T11:15:58.720Z"
   },
   {
    "duration": 43,
    "start_time": "2023-07-12T11:15:58.741Z"
   },
   {
    "duration": 14,
    "start_time": "2023-07-12T11:15:58.787Z"
   },
   {
    "duration": 64,
    "start_time": "2023-07-12T11:15:58.803Z"
   },
   {
    "duration": 31,
    "start_time": "2023-07-12T11:15:58.871Z"
   },
   {
    "duration": 21,
    "start_time": "2023-07-12T11:15:58.904Z"
   },
   {
    "duration": 55,
    "start_time": "2023-07-12T11:15:58.927Z"
   },
   {
    "duration": 7,
    "start_time": "2023-07-12T11:15:58.984Z"
   },
   {
    "duration": 89,
    "start_time": "2023-07-12T11:15:58.993Z"
   },
   {
    "duration": 51,
    "start_time": "2023-07-12T11:15:59.089Z"
   },
   {
    "duration": 29,
    "start_time": "2023-07-12T11:15:59.145Z"
   },
   {
    "duration": 99,
    "start_time": "2023-07-12T11:15:59.177Z"
   },
   {
    "duration": 16,
    "start_time": "2023-07-12T11:15:59.281Z"
   },
   {
    "duration": 43,
    "start_time": "2023-07-12T11:15:59.300Z"
   },
   {
    "duration": 7,
    "start_time": "2023-07-12T11:15:59.355Z"
   },
   {
    "duration": 108,
    "start_time": "2023-07-12T11:15:59.363Z"
   },
   {
    "duration": 8,
    "start_time": "2023-07-12T11:15:59.473Z"
   },
   {
    "duration": 10,
    "start_time": "2023-07-12T11:15:59.488Z"
   },
   {
    "duration": 17,
    "start_time": "2023-07-12T11:15:59.500Z"
   },
   {
    "duration": 11,
    "start_time": "2023-07-12T11:15:59.519Z"
   },
   {
    "duration": 16,
    "start_time": "2023-07-12T11:16:49.193Z"
   },
   {
    "duration": 9,
    "start_time": "2023-07-12T11:19:52.419Z"
   },
   {
    "duration": 9,
    "start_time": "2023-07-12T11:21:35.269Z"
   },
   {
    "duration": 9,
    "start_time": "2023-07-12T11:21:40.403Z"
   },
   {
    "duration": 5,
    "start_time": "2023-07-12T11:21:53.943Z"
   },
   {
    "duration": 6,
    "start_time": "2023-07-12T11:21:55.857Z"
   },
   {
    "duration": 10,
    "start_time": "2023-07-12T11:21:56.896Z"
   },
   {
    "duration": 10,
    "start_time": "2023-07-12T11:22:00.644Z"
   },
   {
    "duration": 1549,
    "start_time": "2023-07-12T11:26:43.035Z"
   },
   {
    "duration": 81,
    "start_time": "2023-07-12T11:26:53.727Z"
   },
   {
    "duration": 1455,
    "start_time": "2023-07-12T11:26:58.357Z"
   },
   {
    "duration": 5,
    "start_time": "2023-07-12T11:27:30.620Z"
   },
   {
    "duration": 5,
    "start_time": "2023-07-12T11:28:00.718Z"
   },
   {
    "duration": 91,
    "start_time": "2023-07-12T11:29:24.308Z"
   },
   {
    "duration": 89,
    "start_time": "2023-07-12T11:30:11.149Z"
   },
   {
    "duration": 4,
    "start_time": "2023-07-12T11:30:23.590Z"
   },
   {
    "duration": 10,
    "start_time": "2023-07-12T11:32:32.897Z"
   },
   {
    "duration": 14,
    "start_time": "2023-07-12T11:32:35.378Z"
   },
   {
    "duration": 9,
    "start_time": "2023-07-12T11:33:53.510Z"
   },
   {
    "duration": 10,
    "start_time": "2023-07-12T13:24:20.685Z"
   },
   {
    "duration": 11,
    "start_time": "2023-07-12T13:25:31.584Z"
   },
   {
    "duration": 1135,
    "start_time": "2023-07-12T13:38:22.510Z"
   },
   {
    "duration": 148,
    "start_time": "2023-07-12T13:38:23.648Z"
   },
   {
    "duration": 4,
    "start_time": "2023-07-12T13:38:23.797Z"
   },
   {
    "duration": 141,
    "start_time": "2023-07-12T13:38:23.803Z"
   },
   {
    "duration": 12,
    "start_time": "2023-07-12T13:38:23.946Z"
   },
   {
    "duration": 15,
    "start_time": "2023-07-12T13:38:23.960Z"
   },
   {
    "duration": 117,
    "start_time": "2023-07-12T13:38:23.977Z"
   },
   {
    "duration": 21,
    "start_time": "2023-07-12T13:38:24.096Z"
   },
   {
    "duration": 11,
    "start_time": "2023-07-12T13:38:24.118Z"
   },
   {
    "duration": 128,
    "start_time": "2023-07-12T13:38:24.132Z"
   },
   {
    "duration": 65,
    "start_time": "2023-07-12T13:38:24.262Z"
   },
   {
    "duration": 75,
    "start_time": "2023-07-12T13:38:24.329Z"
   },
   {
    "duration": 72,
    "start_time": "2023-07-12T13:38:24.406Z"
   },
   {
    "duration": 55,
    "start_time": "2023-07-12T13:38:24.480Z"
   },
   {
    "duration": 135,
    "start_time": "2023-07-12T13:38:24.537Z"
   },
   {
    "duration": 4,
    "start_time": "2023-07-12T13:38:24.674Z"
   },
   {
    "duration": 8,
    "start_time": "2023-07-12T13:38:24.679Z"
   },
   {
    "duration": 9,
    "start_time": "2023-07-12T13:38:24.688Z"
   },
   {
    "duration": 359,
    "start_time": "2023-07-12T13:38:24.698Z"
   },
   {
    "duration": 5,
    "start_time": "2023-07-12T13:38:25.059Z"
   },
   {
    "duration": 297,
    "start_time": "2023-07-12T13:38:25.066Z"
   },
   {
    "duration": 9,
    "start_time": "2023-07-12T13:38:25.365Z"
   },
   {
    "duration": 186,
    "start_time": "2023-07-12T13:38:25.376Z"
   },
   {
    "duration": 4,
    "start_time": "2023-07-12T13:38:25.564Z"
   },
   {
    "duration": 12,
    "start_time": "2023-07-12T13:38:25.570Z"
   },
   {
    "duration": 1372,
    "start_time": "2023-07-12T13:38:25.584Z"
   },
   {
    "duration": 21,
    "start_time": "2023-07-12T13:38:26.959Z"
   },
   {
    "duration": 219,
    "start_time": "2023-07-12T13:38:26.983Z"
   },
   {
    "duration": 19,
    "start_time": "2023-07-12T13:38:27.204Z"
   },
   {
    "duration": 33,
    "start_time": "2023-07-12T13:38:27.225Z"
   },
   {
    "duration": 17,
    "start_time": "2023-07-12T13:38:27.260Z"
   },
   {
    "duration": 28,
    "start_time": "2023-07-12T13:38:27.279Z"
   },
   {
    "duration": 10,
    "start_time": "2023-07-12T13:38:27.309Z"
   },
   {
    "duration": 63,
    "start_time": "2023-07-12T13:38:27.321Z"
   },
   {
    "duration": 27,
    "start_time": "2023-07-12T13:38:27.386Z"
   },
   {
    "duration": 20,
    "start_time": "2023-07-12T13:38:27.415Z"
   },
   {
    "duration": 25,
    "start_time": "2023-07-12T13:38:27.457Z"
   },
   {
    "duration": 6,
    "start_time": "2023-07-12T13:38:27.483Z"
   },
   {
    "duration": 72,
    "start_time": "2023-07-12T13:38:27.490Z"
   },
   {
    "duration": 35,
    "start_time": "2023-07-12T13:38:27.564Z"
   },
   {
    "duration": 15,
    "start_time": "2023-07-12T13:38:27.601Z"
   },
   {
    "duration": 78,
    "start_time": "2023-07-12T13:38:27.617Z"
   },
   {
    "duration": 8,
    "start_time": "2023-07-12T13:38:27.697Z"
   },
   {
    "duration": 41,
    "start_time": "2023-07-12T13:38:27.707Z"
   },
   {
    "duration": 10,
    "start_time": "2023-07-12T13:38:27.749Z"
   },
   {
    "duration": 82,
    "start_time": "2023-07-12T13:38:27.760Z"
   },
   {
    "duration": 4,
    "start_time": "2023-07-12T13:38:27.856Z"
   },
   {
    "duration": 11,
    "start_time": "2023-07-12T13:38:27.862Z"
   },
   {
    "duration": 42,
    "start_time": "2023-07-12T13:38:27.875Z"
   },
   {
    "duration": 8,
    "start_time": "2023-07-12T13:38:27.919Z"
   },
   {
    "duration": 5,
    "start_time": "2023-07-12T13:38:27.928Z"
   },
   {
    "duration": 11,
    "start_time": "2023-07-12T13:38:27.934Z"
   },
   {
    "duration": 8,
    "start_time": "2023-07-12T13:38:27.946Z"
   },
   {
    "duration": 14,
    "start_time": "2023-07-12T13:38:27.955Z"
   },
   {
    "duration": 4,
    "start_time": "2023-07-12T13:39:19.855Z"
   },
   {
    "duration": 1102,
    "start_time": "2023-07-12T13:40:24.305Z"
   },
   {
    "duration": 224,
    "start_time": "2023-07-12T13:40:25.409Z"
   },
   {
    "duration": 4,
    "start_time": "2023-07-12T13:40:25.634Z"
   },
   {
    "duration": 156,
    "start_time": "2023-07-12T13:40:25.640Z"
   },
   {
    "duration": 2,
    "start_time": "2023-07-12T13:40:25.798Z"
   },
   {
    "duration": 17,
    "start_time": "2023-07-12T13:40:25.802Z"
   },
   {
    "duration": 110,
    "start_time": "2023-07-12T13:40:25.821Z"
   },
   {
    "duration": 33,
    "start_time": "2023-07-12T13:40:25.933Z"
   },
   {
    "duration": 17,
    "start_time": "2023-07-12T13:40:25.968Z"
   },
   {
    "duration": 106,
    "start_time": "2023-07-12T13:40:25.988Z"
   },
   {
    "duration": 72,
    "start_time": "2023-07-12T13:40:26.096Z"
   },
   {
    "duration": 61,
    "start_time": "2023-07-12T13:40:26.170Z"
   },
   {
    "duration": 77,
    "start_time": "2023-07-12T13:40:26.232Z"
   },
   {
    "duration": 73,
    "start_time": "2023-07-12T13:40:26.310Z"
   },
   {
    "duration": 127,
    "start_time": "2023-07-12T13:40:26.385Z"
   },
   {
    "duration": 3,
    "start_time": "2023-07-12T13:40:26.514Z"
   },
   {
    "duration": 8,
    "start_time": "2023-07-12T13:40:26.519Z"
   },
   {
    "duration": 14,
    "start_time": "2023-07-12T13:40:26.528Z"
   },
   {
    "duration": 333,
    "start_time": "2023-07-12T13:40:26.544Z"
   },
   {
    "duration": 4,
    "start_time": "2023-07-12T13:40:26.879Z"
   },
   {
    "duration": 157,
    "start_time": "2023-07-12T13:40:26.885Z"
   },
   {
    "duration": 16,
    "start_time": "2023-07-12T13:40:27.044Z"
   },
   {
    "duration": 76,
    "start_time": "2023-07-12T13:40:27.061Z"
   },
   {
    "duration": 3,
    "start_time": "2023-07-12T13:40:27.139Z"
   },
   {
    "duration": 4,
    "start_time": "2023-07-12T13:40:27.156Z"
   },
   {
    "duration": 681,
    "start_time": "2023-07-12T13:40:27.162Z"
   },
   {
    "duration": 28,
    "start_time": "2023-07-12T13:40:27.844Z"
   },
   {
    "duration": 220,
    "start_time": "2023-07-12T13:40:27.875Z"
   },
   {
    "duration": 19,
    "start_time": "2023-07-12T13:40:28.097Z"
   },
   {
    "duration": 17,
    "start_time": "2023-07-12T13:40:28.117Z"
   },
   {
    "duration": 19,
    "start_time": "2023-07-12T13:40:28.155Z"
   },
   {
    "duration": 25,
    "start_time": "2023-07-12T13:40:28.176Z"
   },
   {
    "duration": 11,
    "start_time": "2023-07-12T13:40:28.203Z"
   },
   {
    "duration": 61,
    "start_time": "2023-07-12T13:40:28.215Z"
   },
   {
    "duration": 28,
    "start_time": "2023-07-12T13:40:28.277Z"
   },
   {
    "duration": 19,
    "start_time": "2023-07-12T13:40:28.307Z"
   },
   {
    "duration": 50,
    "start_time": "2023-07-12T13:40:28.327Z"
   },
   {
    "duration": 6,
    "start_time": "2023-07-12T13:40:28.379Z"
   },
   {
    "duration": 85,
    "start_time": "2023-07-12T13:40:28.387Z"
   },
   {
    "duration": 40,
    "start_time": "2023-07-12T13:40:28.473Z"
   },
   {
    "duration": 18,
    "start_time": "2023-07-12T13:40:28.515Z"
   },
   {
    "duration": 85,
    "start_time": "2023-07-12T13:40:28.534Z"
   },
   {
    "duration": 10,
    "start_time": "2023-07-12T13:40:28.621Z"
   },
   {
    "duration": 54,
    "start_time": "2023-07-12T13:40:28.632Z"
   },
   {
    "duration": 5,
    "start_time": "2023-07-12T13:40:28.687Z"
   },
   {
    "duration": 126,
    "start_time": "2023-07-12T13:40:28.693Z"
   },
   {
    "duration": 7,
    "start_time": "2023-07-12T13:40:28.821Z"
   },
   {
    "duration": 16,
    "start_time": "2023-07-12T13:40:28.830Z"
   },
   {
    "duration": 26,
    "start_time": "2023-07-12T13:40:28.848Z"
   },
   {
    "duration": 19,
    "start_time": "2023-07-12T13:40:28.876Z"
   },
   {
    "duration": 15,
    "start_time": "2023-07-12T13:40:28.897Z"
   },
   {
    "duration": 15,
    "start_time": "2023-07-12T13:40:28.914Z"
   },
   {
    "duration": 11,
    "start_time": "2023-07-12T13:40:28.931Z"
   },
   {
    "duration": 23,
    "start_time": "2023-07-12T13:40:28.944Z"
   },
   {
    "duration": 4,
    "start_time": "2023-07-12T13:40:38.228Z"
   },
   {
    "duration": 1071,
    "start_time": "2023-07-12T13:40:42.620Z"
   },
   {
    "duration": 216,
    "start_time": "2023-07-12T13:40:43.693Z"
   },
   {
    "duration": 3,
    "start_time": "2023-07-12T13:40:43.911Z"
   },
   {
    "duration": 155,
    "start_time": "2023-07-12T13:40:43.915Z"
   },
   {
    "duration": 3,
    "start_time": "2023-07-12T13:40:44.073Z"
   },
   {
    "duration": 19,
    "start_time": "2023-07-12T13:40:44.078Z"
   },
   {
    "duration": 119,
    "start_time": "2023-07-12T13:40:44.098Z"
   },
   {
    "duration": 40,
    "start_time": "2023-07-12T13:40:44.220Z"
   },
   {
    "duration": 8,
    "start_time": "2023-07-12T13:40:44.262Z"
   },
   {
    "duration": 202,
    "start_time": "2023-07-12T13:40:44.272Z"
   },
   {
    "duration": 123,
    "start_time": "2023-07-12T13:40:44.475Z"
   },
   {
    "duration": 163,
    "start_time": "2023-07-12T13:40:44.600Z"
   },
   {
    "duration": 115,
    "start_time": "2023-07-12T13:40:44.765Z"
   },
   {
    "duration": 113,
    "start_time": "2023-07-12T13:40:44.883Z"
   },
   {
    "duration": 296,
    "start_time": "2023-07-12T13:40:44.997Z"
   },
   {
    "duration": 5,
    "start_time": "2023-07-12T13:40:45.295Z"
   },
   {
    "duration": 7,
    "start_time": "2023-07-12T13:40:45.356Z"
   },
   {
    "duration": 33,
    "start_time": "2023-07-12T13:40:45.365Z"
   },
   {
    "duration": 617,
    "start_time": "2023-07-12T13:40:45.400Z"
   },
   {
    "duration": 5,
    "start_time": "2023-07-12T13:40:46.057Z"
   },
   {
    "duration": 186,
    "start_time": "2023-07-12T13:40:46.064Z"
   },
   {
    "duration": 11,
    "start_time": "2023-07-12T13:40:46.252Z"
   },
   {
    "duration": 91,
    "start_time": "2023-07-12T13:40:46.265Z"
   },
   {
    "duration": 5,
    "start_time": "2023-07-12T13:40:46.358Z"
   },
   {
    "duration": 12,
    "start_time": "2023-07-12T13:40:46.365Z"
   },
   {
    "duration": 650,
    "start_time": "2023-07-12T13:40:46.378Z"
   },
   {
    "duration": 34,
    "start_time": "2023-07-12T13:40:47.030Z"
   },
   {
    "duration": 209,
    "start_time": "2023-07-12T13:40:47.065Z"
   },
   {
    "duration": 22,
    "start_time": "2023-07-12T13:40:47.275Z"
   },
   {
    "duration": 18,
    "start_time": "2023-07-12T13:40:47.299Z"
   },
   {
    "duration": 51,
    "start_time": "2023-07-12T13:40:47.320Z"
   },
   {
    "duration": 29,
    "start_time": "2023-07-12T13:40:47.373Z"
   },
   {
    "duration": 12,
    "start_time": "2023-07-12T13:40:47.404Z"
   },
   {
    "duration": 64,
    "start_time": "2023-07-12T13:40:47.417Z"
   },
   {
    "duration": 26,
    "start_time": "2023-07-12T13:40:47.482Z"
   },
   {
    "duration": 17,
    "start_time": "2023-07-12T13:40:47.510Z"
   },
   {
    "duration": 46,
    "start_time": "2023-07-12T13:40:47.529Z"
   },
   {
    "duration": 5,
    "start_time": "2023-07-12T13:40:47.577Z"
   },
   {
    "duration": 73,
    "start_time": "2023-07-12T13:40:47.584Z"
   },
   {
    "duration": 35,
    "start_time": "2023-07-12T13:40:47.660Z"
   },
   {
    "duration": 14,
    "start_time": "2023-07-12T13:40:47.699Z"
   },
   {
    "duration": 76,
    "start_time": "2023-07-12T13:40:47.715Z"
   },
   {
    "duration": 9,
    "start_time": "2023-07-12T13:40:47.793Z"
   },
   {
    "duration": 37,
    "start_time": "2023-07-12T13:40:47.804Z"
   },
   {
    "duration": 5,
    "start_time": "2023-07-12T13:40:47.857Z"
   },
   {
    "duration": 94,
    "start_time": "2023-07-12T13:40:47.865Z"
   },
   {
    "duration": 5,
    "start_time": "2023-07-12T13:40:47.961Z"
   },
   {
    "duration": 10,
    "start_time": "2023-07-12T13:40:47.968Z"
   },
   {
    "duration": 14,
    "start_time": "2023-07-12T13:40:47.979Z"
   },
   {
    "duration": 18,
    "start_time": "2023-07-12T13:40:47.994Z"
   },
   {
    "duration": 16,
    "start_time": "2023-07-12T13:40:48.013Z"
   },
   {
    "duration": 11,
    "start_time": "2023-07-12T13:40:48.031Z"
   },
   {
    "duration": 15,
    "start_time": "2023-07-12T13:40:48.043Z"
   },
   {
    "duration": 10,
    "start_time": "2023-07-12T13:40:48.059Z"
   },
   {
    "duration": 294,
    "start_time": "2023-07-12T13:43:44.526Z"
   },
   {
    "duration": 29,
    "start_time": "2023-07-12T13:50:13.163Z"
   },
   {
    "duration": 209,
    "start_time": "2023-07-12T13:50:17.198Z"
   },
   {
    "duration": 213,
    "start_time": "2023-07-12T13:52:28.621Z"
   },
   {
    "duration": 196,
    "start_time": "2023-07-12T14:01:16.567Z"
   },
   {
    "duration": 1125,
    "start_time": "2023-07-12T14:22:10.840Z"
   },
   {
    "duration": 226,
    "start_time": "2023-07-12T14:22:11.967Z"
   },
   {
    "duration": 5,
    "start_time": "2023-07-12T14:22:12.194Z"
   },
   {
    "duration": 159,
    "start_time": "2023-07-12T14:22:12.201Z"
   },
   {
    "duration": 4,
    "start_time": "2023-07-12T14:22:12.363Z"
   },
   {
    "duration": 17,
    "start_time": "2023-07-12T14:22:12.369Z"
   },
   {
    "duration": 121,
    "start_time": "2023-07-12T14:22:12.388Z"
   },
   {
    "duration": 21,
    "start_time": "2023-07-12T14:22:12.511Z"
   },
   {
    "duration": 23,
    "start_time": "2023-07-12T14:22:12.534Z"
   },
   {
    "duration": 123,
    "start_time": "2023-07-12T14:22:12.560Z"
   },
   {
    "duration": 83,
    "start_time": "2023-07-12T14:22:12.685Z"
   },
   {
    "duration": 70,
    "start_time": "2023-07-12T14:22:12.770Z"
   },
   {
    "duration": 64,
    "start_time": "2023-07-12T14:22:12.856Z"
   },
   {
    "duration": 85,
    "start_time": "2023-07-12T14:22:12.922Z"
   },
   {
    "duration": 148,
    "start_time": "2023-07-12T14:22:13.009Z"
   },
   {
    "duration": 6,
    "start_time": "2023-07-12T14:22:13.159Z"
   },
   {
    "duration": 23,
    "start_time": "2023-07-12T14:22:13.167Z"
   },
   {
    "duration": 18,
    "start_time": "2023-07-12T14:22:13.193Z"
   },
   {
    "duration": 387,
    "start_time": "2023-07-12T14:22:13.214Z"
   },
   {
    "duration": 6,
    "start_time": "2023-07-12T14:22:13.603Z"
   },
   {
    "duration": 183,
    "start_time": "2023-07-12T14:22:13.610Z"
   },
   {
    "duration": 10,
    "start_time": "2023-07-12T14:22:13.795Z"
   },
   {
    "duration": 215,
    "start_time": "2023-07-12T14:22:13.807Z"
   },
   {
    "duration": 729,
    "start_time": "2023-07-12T14:22:14.024Z"
   },
   {
    "duration": 32,
    "start_time": "2023-07-12T14:22:14.756Z"
   },
   {
    "duration": 243,
    "start_time": "2023-07-12T14:22:14.791Z"
   },
   {
    "duration": 32,
    "start_time": "2023-07-12T14:22:15.036Z"
   },
   {
    "duration": 54,
    "start_time": "2023-07-12T14:22:15.073Z"
   },
   {
    "duration": 45,
    "start_time": "2023-07-12T14:22:15.129Z"
   },
   {
    "duration": 14,
    "start_time": "2023-07-12T14:22:15.176Z"
   },
   {
    "duration": 38,
    "start_time": "2023-07-12T14:22:15.192Z"
   },
   {
    "duration": 52,
    "start_time": "2023-07-12T14:22:15.232Z"
   },
   {
    "duration": 26,
    "start_time": "2023-07-12T14:22:15.287Z"
   },
   {
    "duration": 54,
    "start_time": "2023-07-12T14:22:15.316Z"
   },
   {
    "duration": 9,
    "start_time": "2023-07-12T14:22:15.372Z"
   },
   {
    "duration": 76,
    "start_time": "2023-07-12T14:22:15.383Z"
   },
   {
    "duration": 37,
    "start_time": "2023-07-12T14:22:15.461Z"
   },
   {
    "duration": 16,
    "start_time": "2023-07-12T14:22:15.500Z"
   },
   {
    "duration": 93,
    "start_time": "2023-07-12T14:22:15.518Z"
   },
   {
    "duration": 10,
    "start_time": "2023-07-12T14:22:15.613Z"
   },
   {
    "duration": 56,
    "start_time": "2023-07-12T14:22:15.625Z"
   },
   {
    "duration": 6,
    "start_time": "2023-07-12T14:22:15.683Z"
   },
   {
    "duration": 101,
    "start_time": "2023-07-12T14:22:15.691Z"
   },
   {
    "duration": 5,
    "start_time": "2023-07-12T14:22:15.794Z"
   },
   {
    "duration": 7,
    "start_time": "2023-07-12T14:22:15.801Z"
   },
   {
    "duration": 17,
    "start_time": "2023-07-12T14:22:15.810Z"
   },
   {
    "duration": 11,
    "start_time": "2023-07-12T14:22:15.856Z"
   },
   {
    "duration": 7,
    "start_time": "2023-07-12T14:22:15.870Z"
   },
   {
    "duration": 10,
    "start_time": "2023-07-12T14:22:15.879Z"
   },
   {
    "duration": 12,
    "start_time": "2023-07-12T14:22:15.891Z"
   },
   {
    "duration": 10,
    "start_time": "2023-07-12T14:22:15.905Z"
   },
   {
    "duration": 1170,
    "start_time": "2023-07-12T19:16:10.359Z"
   },
   {
    "duration": 589,
    "start_time": "2023-07-12T19:16:11.532Z"
   },
   {
    "duration": 4,
    "start_time": "2023-07-12T19:16:12.123Z"
   },
   {
    "duration": 131,
    "start_time": "2023-07-12T19:16:12.129Z"
   },
   {
    "duration": 3,
    "start_time": "2023-07-12T19:16:12.262Z"
   },
   {
    "duration": 22,
    "start_time": "2023-07-12T19:16:12.266Z"
   },
   {
    "duration": 104,
    "start_time": "2023-07-12T19:16:12.289Z"
   },
   {
    "duration": 21,
    "start_time": "2023-07-12T19:16:12.409Z"
   },
   {
    "duration": 8,
    "start_time": "2023-07-12T19:16:12.432Z"
   },
   {
    "duration": 108,
    "start_time": "2023-07-12T19:16:12.442Z"
   },
   {
    "duration": 67,
    "start_time": "2023-07-12T19:16:12.551Z"
   },
   {
    "duration": 58,
    "start_time": "2023-07-12T19:16:12.619Z"
   },
   {
    "duration": 68,
    "start_time": "2023-07-12T19:16:12.678Z"
   },
   {
    "duration": 71,
    "start_time": "2023-07-12T19:16:12.748Z"
   },
   {
    "duration": 121,
    "start_time": "2023-07-12T19:16:12.821Z"
   },
   {
    "duration": 4,
    "start_time": "2023-07-12T19:16:12.944Z"
   },
   {
    "duration": 8,
    "start_time": "2023-07-12T19:16:12.950Z"
   },
   {
    "duration": 12,
    "start_time": "2023-07-12T19:16:12.959Z"
   },
   {
    "duration": 405,
    "start_time": "2023-07-12T19:16:12.973Z"
   },
   {
    "duration": 5,
    "start_time": "2023-07-12T19:16:13.380Z"
   },
   {
    "duration": 179,
    "start_time": "2023-07-12T19:16:13.387Z"
   },
   {
    "duration": 7,
    "start_time": "2023-07-12T19:16:13.568Z"
   },
   {
    "duration": 240,
    "start_time": "2023-07-12T19:16:13.577Z"
   },
   {
    "duration": 516,
    "start_time": "2023-07-12T19:16:13.819Z"
   },
   {
    "duration": 20,
    "start_time": "2023-07-12T19:16:14.337Z"
   },
   {
    "duration": 213,
    "start_time": "2023-07-12T19:16:14.358Z"
   },
   {
    "duration": 14,
    "start_time": "2023-07-12T19:16:14.573Z"
   },
   {
    "duration": 18,
    "start_time": "2023-07-12T19:16:14.608Z"
   },
   {
    "duration": 41,
    "start_time": "2023-07-12T19:16:14.627Z"
   },
   {
    "duration": 10,
    "start_time": "2023-07-12T19:16:14.670Z"
   },
   {
    "duration": 42,
    "start_time": "2023-07-12T19:16:14.681Z"
   },
   {
    "duration": 36,
    "start_time": "2023-07-12T19:16:14.725Z"
   },
   {
    "duration": 16,
    "start_time": "2023-07-12T19:16:14.762Z"
   },
   {
    "duration": 47,
    "start_time": "2023-07-12T19:16:14.780Z"
   },
   {
    "duration": 6,
    "start_time": "2023-07-12T19:16:14.828Z"
   },
   {
    "duration": 78,
    "start_time": "2023-07-12T19:16:14.835Z"
   },
   {
    "duration": 37,
    "start_time": "2023-07-12T19:16:14.914Z"
   },
   {
    "duration": 14,
    "start_time": "2023-07-12T19:16:14.952Z"
   },
   {
    "duration": 76,
    "start_time": "2023-07-12T19:16:14.967Z"
   },
   {
    "duration": 8,
    "start_time": "2023-07-12T19:16:15.044Z"
   },
   {
    "duration": 71,
    "start_time": "2023-07-12T19:16:15.053Z"
   },
   {
    "duration": 4,
    "start_time": "2023-07-12T19:16:15.125Z"
   },
   {
    "duration": 98,
    "start_time": "2023-07-12T19:16:15.131Z"
   },
   {
    "duration": 5,
    "start_time": "2023-07-12T19:16:15.231Z"
   },
   {
    "duration": 89,
    "start_time": "2023-07-12T19:16:15.237Z"
   },
   {
    "duration": 20,
    "start_time": "2023-07-12T19:16:15.328Z"
   },
   {
    "duration": 12,
    "start_time": "2023-07-12T19:16:15.350Z"
   },
   {
    "duration": 6,
    "start_time": "2023-07-12T19:16:15.364Z"
   },
   {
    "duration": 13,
    "start_time": "2023-07-12T19:16:15.371Z"
   },
   {
    "duration": 7,
    "start_time": "2023-07-12T19:16:15.386Z"
   },
   {
    "duration": 19,
    "start_time": "2023-07-12T19:16:15.395Z"
   },
   {
    "duration": 36,
    "start_time": "2023-07-12T19:20:23.990Z"
   },
   {
    "duration": 58,
    "start_time": "2023-07-14T08:26:15.355Z"
   },
   {
    "duration": 1129,
    "start_time": "2023-07-14T08:26:20.034Z"
   },
   {
    "duration": 676,
    "start_time": "2023-07-14T08:26:21.165Z"
   },
   {
    "duration": 4,
    "start_time": "2023-07-14T08:26:21.842Z"
   },
   {
    "duration": 130,
    "start_time": "2023-07-14T08:26:21.849Z"
   },
   {
    "duration": 3,
    "start_time": "2023-07-14T08:26:21.980Z"
   },
   {
    "duration": 22,
    "start_time": "2023-07-14T08:26:21.984Z"
   },
   {
    "duration": 92,
    "start_time": "2023-07-14T08:26:22.007Z"
   },
   {
    "duration": 18,
    "start_time": "2023-07-14T08:26:22.101Z"
   },
   {
    "duration": 9,
    "start_time": "2023-07-14T08:26:22.121Z"
   },
   {
    "duration": 107,
    "start_time": "2023-07-14T08:26:22.132Z"
   },
   {
    "duration": 67,
    "start_time": "2023-07-14T08:26:22.240Z"
   },
   {
    "duration": 57,
    "start_time": "2023-07-14T08:26:22.309Z"
   },
   {
    "duration": 67,
    "start_time": "2023-07-14T08:26:22.367Z"
   },
   {
    "duration": 64,
    "start_time": "2023-07-14T08:26:22.436Z"
   },
   {
    "duration": 116,
    "start_time": "2023-07-14T08:26:22.502Z"
   },
   {
    "duration": 4,
    "start_time": "2023-07-14T08:26:22.619Z"
   },
   {
    "duration": 13,
    "start_time": "2023-07-14T08:26:22.624Z"
   },
   {
    "duration": 36,
    "start_time": "2023-07-14T08:26:22.638Z"
   },
   {
    "duration": 335,
    "start_time": "2023-07-14T08:26:22.675Z"
   },
   {
    "duration": 4,
    "start_time": "2023-07-14T08:26:23.012Z"
   },
   {
    "duration": 167,
    "start_time": "2023-07-14T08:26:23.018Z"
   },
   {
    "duration": 7,
    "start_time": "2023-07-14T08:26:23.186Z"
   },
   {
    "duration": 220,
    "start_time": "2023-07-14T08:26:23.194Z"
   },
   {
    "duration": 539,
    "start_time": "2023-07-14T08:26:23.415Z"
   },
   {
    "duration": 20,
    "start_time": "2023-07-14T08:26:23.956Z"
   },
   {
    "duration": 214,
    "start_time": "2023-07-14T08:26:23.978Z"
   },
   {
    "duration": 4261,
    "start_time": "2023-07-14T08:26:24.194Z"
   },
   {
    "duration": 0,
    "start_time": "2023-07-14T08:26:28.456Z"
   },
   {
    "duration": 0,
    "start_time": "2023-07-14T08:26:28.457Z"
   },
   {
    "duration": 0,
    "start_time": "2023-07-14T08:26:28.458Z"
   },
   {
    "duration": 0,
    "start_time": "2023-07-14T08:26:28.459Z"
   },
   {
    "duration": 0,
    "start_time": "2023-07-14T08:26:28.460Z"
   },
   {
    "duration": 0,
    "start_time": "2023-07-14T08:26:28.461Z"
   },
   {
    "duration": 0,
    "start_time": "2023-07-14T08:26:28.462Z"
   },
   {
    "duration": 0,
    "start_time": "2023-07-14T08:26:28.463Z"
   },
   {
    "duration": 0,
    "start_time": "2023-07-14T08:26:28.464Z"
   },
   {
    "duration": 0,
    "start_time": "2023-07-14T08:26:28.465Z"
   },
   {
    "duration": 0,
    "start_time": "2023-07-14T08:26:28.466Z"
   },
   {
    "duration": 0,
    "start_time": "2023-07-14T08:26:28.467Z"
   },
   {
    "duration": 0,
    "start_time": "2023-07-14T08:26:28.468Z"
   },
   {
    "duration": 0,
    "start_time": "2023-07-14T08:26:28.469Z"
   },
   {
    "duration": 0,
    "start_time": "2023-07-14T08:26:28.470Z"
   },
   {
    "duration": 0,
    "start_time": "2023-07-14T08:26:28.471Z"
   },
   {
    "duration": 0,
    "start_time": "2023-07-14T08:26:28.472Z"
   },
   {
    "duration": 0,
    "start_time": "2023-07-14T08:26:28.473Z"
   },
   {
    "duration": 0,
    "start_time": "2023-07-14T08:26:28.474Z"
   },
   {
    "duration": 0,
    "start_time": "2023-07-14T08:26:28.474Z"
   },
   {
    "duration": 0,
    "start_time": "2023-07-14T08:26:28.475Z"
   },
   {
    "duration": 0,
    "start_time": "2023-07-14T08:26:28.476Z"
   },
   {
    "duration": 0,
    "start_time": "2023-07-14T08:26:28.477Z"
   },
   {
    "duration": 0,
    "start_time": "2023-07-14T08:26:28.478Z"
   },
   {
    "duration": 0,
    "start_time": "2023-07-14T08:26:28.478Z"
   },
   {
    "duration": 0,
    "start_time": "2023-07-14T08:26:28.479Z"
   },
   {
    "duration": 75,
    "start_time": "2023-07-14T08:28:29.149Z"
   },
   {
    "duration": 81,
    "start_time": "2023-07-14T08:28:33.368Z"
   },
   {
    "duration": 3330,
    "start_time": "2023-07-14T08:28:37.976Z"
   },
   {
    "duration": 34,
    "start_time": "2023-07-14T08:29:31.755Z"
   },
   {
    "duration": 4049,
    "start_time": "2023-07-14T08:29:39.583Z"
   },
   {
    "duration": 213,
    "start_time": "2023-07-14T08:29:47.677Z"
   },
   {
    "duration": 84,
    "start_time": "2023-07-14T08:30:41.348Z"
   },
   {
    "duration": 25,
    "start_time": "2023-07-14T08:30:47.740Z"
   },
   {
    "duration": 86,
    "start_time": "2023-07-14T08:31:01.459Z"
   },
   {
    "duration": 40,
    "start_time": "2023-07-14T08:31:02.615Z"
   },
   {
    "duration": 3753,
    "start_time": "2023-07-14T08:31:10.451Z"
   },
   {
    "duration": 0,
    "start_time": "2023-07-14T08:31:14.206Z"
   },
   {
    "duration": 86,
    "start_time": "2023-07-14T08:31:21.635Z"
   },
   {
    "duration": 30,
    "start_time": "2023-07-14T08:31:22.579Z"
   },
   {
    "duration": 3279,
    "start_time": "2023-07-14T08:32:05.377Z"
   },
   {
    "duration": 107,
    "start_time": "2023-07-14T08:32:17.925Z"
   },
   {
    "duration": 3667,
    "start_time": "2023-07-14T08:32:58.085Z"
   },
   {
    "duration": 167,
    "start_time": "2023-07-14T08:33:19.506Z"
   },
   {
    "duration": 112,
    "start_time": "2023-07-14T08:33:36.460Z"
   },
   {
    "duration": 997,
    "start_time": "2023-07-14T08:34:30.617Z"
   },
   {
    "duration": 184,
    "start_time": "2023-07-14T08:34:31.615Z"
   },
   {
    "duration": 4,
    "start_time": "2023-07-14T08:34:31.801Z"
   },
   {
    "duration": 149,
    "start_time": "2023-07-14T08:34:31.807Z"
   },
   {
    "duration": 4,
    "start_time": "2023-07-14T08:34:31.957Z"
   },
   {
    "duration": 42,
    "start_time": "2023-07-14T08:34:31.962Z"
   },
   {
    "duration": 139,
    "start_time": "2023-07-14T08:34:32.006Z"
   },
   {
    "duration": 35,
    "start_time": "2023-07-14T08:34:32.147Z"
   },
   {
    "duration": 29,
    "start_time": "2023-07-14T08:34:32.184Z"
   },
   {
    "duration": 113,
    "start_time": "2023-07-14T08:34:32.217Z"
   },
   {
    "duration": 70,
    "start_time": "2023-07-14T08:34:32.332Z"
   },
   {
    "duration": 74,
    "start_time": "2023-07-14T08:34:32.404Z"
   },
   {
    "duration": 69,
    "start_time": "2023-07-14T08:34:32.479Z"
   },
   {
    "duration": 75,
    "start_time": "2023-07-14T08:34:32.550Z"
   },
   {
    "duration": 116,
    "start_time": "2023-07-14T08:34:32.627Z"
   },
   {
    "duration": 4,
    "start_time": "2023-07-14T08:34:32.745Z"
   },
   {
    "duration": 13,
    "start_time": "2023-07-14T08:34:32.750Z"
   },
   {
    "duration": 25,
    "start_time": "2023-07-14T08:34:32.765Z"
   },
   {
    "duration": 378,
    "start_time": "2023-07-14T08:34:32.792Z"
   },
   {
    "duration": 5,
    "start_time": "2023-07-14T08:34:33.171Z"
   },
   {
    "duration": 162,
    "start_time": "2023-07-14T08:34:33.178Z"
   },
   {
    "duration": 7,
    "start_time": "2023-07-14T08:34:33.341Z"
   },
   {
    "duration": 215,
    "start_time": "2023-07-14T08:34:33.350Z"
   },
   {
    "duration": 539,
    "start_time": "2023-07-14T08:34:33.567Z"
   },
   {
    "duration": 19,
    "start_time": "2023-07-14T08:34:34.107Z"
   },
   {
    "duration": 193,
    "start_time": "2023-07-14T08:34:34.128Z"
   },
   {
    "duration": 14,
    "start_time": "2023-07-14T08:34:34.322Z"
   },
   {
    "duration": 14,
    "start_time": "2023-07-14T08:34:34.339Z"
   },
   {
    "duration": 45,
    "start_time": "2023-07-14T08:34:34.354Z"
   },
   {
    "duration": 11,
    "start_time": "2023-07-14T08:34:34.401Z"
   },
   {
    "duration": 33,
    "start_time": "2023-07-14T08:34:34.414Z"
   },
   {
    "duration": 24,
    "start_time": "2023-07-14T08:34:34.448Z"
   },
   {
    "duration": 40,
    "start_time": "2023-07-14T08:34:34.474Z"
   },
   {
    "duration": 37,
    "start_time": "2023-07-14T08:34:34.515Z"
   },
   {
    "duration": 50,
    "start_time": "2023-07-14T08:34:34.554Z"
   },
   {
    "duration": 7,
    "start_time": "2023-07-14T08:34:34.606Z"
   },
   {
    "duration": 64,
    "start_time": "2023-07-14T08:34:34.615Z"
   },
   {
    "duration": 44,
    "start_time": "2023-07-14T08:34:34.681Z"
   },
   {
    "duration": 14,
    "start_time": "2023-07-14T08:34:34.727Z"
   },
   {
    "duration": 76,
    "start_time": "2023-07-14T08:34:34.742Z"
   },
   {
    "duration": 9,
    "start_time": "2023-07-14T08:34:34.819Z"
   },
   {
    "duration": 34,
    "start_time": "2023-07-14T08:34:34.829Z"
   },
   {
    "duration": 5,
    "start_time": "2023-07-14T08:34:34.864Z"
   },
   {
    "duration": 99,
    "start_time": "2023-07-14T08:34:34.870Z"
   },
   {
    "duration": 4,
    "start_time": "2023-07-14T08:34:34.971Z"
   },
   {
    "duration": 22,
    "start_time": "2023-07-14T08:34:34.977Z"
   },
   {
    "duration": 26,
    "start_time": "2023-07-14T08:34:35.001Z"
   },
   {
    "duration": 29,
    "start_time": "2023-07-14T08:34:35.029Z"
   },
   {
    "duration": 7,
    "start_time": "2023-07-14T08:34:35.059Z"
   },
   {
    "duration": 15,
    "start_time": "2023-07-14T08:34:35.067Z"
   },
   {
    "duration": 28,
    "start_time": "2023-07-14T08:34:35.083Z"
   },
   {
    "duration": 16,
    "start_time": "2023-07-14T08:34:35.113Z"
   },
   {
    "duration": 344,
    "start_time": "2023-07-14T08:35:35.984Z"
   },
   {
    "duration": 997,
    "start_time": "2023-07-14T08:36:39.614Z"
   },
   {
    "duration": 177,
    "start_time": "2023-07-14T08:36:40.612Z"
   },
   {
    "duration": 3,
    "start_time": "2023-07-14T08:36:40.791Z"
   },
   {
    "duration": 140,
    "start_time": "2023-07-14T08:36:40.795Z"
   },
   {
    "duration": 2,
    "start_time": "2023-07-14T08:36:40.937Z"
   },
   {
    "duration": 24,
    "start_time": "2023-07-14T08:36:40.941Z"
   },
   {
    "duration": 24,
    "start_time": "2023-07-14T08:36:46.129Z"
   },
   {
    "duration": 118,
    "start_time": "2023-07-14T08:37:10.021Z"
   },
   {
    "duration": 34,
    "start_time": "2023-07-14T08:37:15.679Z"
   },
   {
    "duration": 30,
    "start_time": "2023-07-14T08:37:32.637Z"
   },
   {
    "duration": 992,
    "start_time": "2023-07-14T08:37:48.556Z"
   },
   {
    "duration": 175,
    "start_time": "2023-07-14T08:37:49.550Z"
   },
   {
    "duration": 4,
    "start_time": "2023-07-14T08:37:49.726Z"
   },
   {
    "duration": 126,
    "start_time": "2023-07-14T08:37:49.731Z"
   },
   {
    "duration": 3,
    "start_time": "2023-07-14T08:37:49.858Z"
   },
   {
    "duration": 16,
    "start_time": "2023-07-14T08:37:49.862Z"
   },
   {
    "duration": 93,
    "start_time": "2023-07-14T08:37:49.880Z"
   },
   {
    "duration": 27,
    "start_time": "2023-07-14T08:37:49.975Z"
   },
   {
    "duration": 32,
    "start_time": "2023-07-14T08:37:50.003Z"
   },
   {
    "duration": 165,
    "start_time": "2023-07-14T08:37:50.037Z"
   },
   {
    "duration": 107,
    "start_time": "2023-07-14T08:37:50.204Z"
   },
   {
    "duration": 111,
    "start_time": "2023-07-14T08:37:50.312Z"
   },
   {
    "duration": 105,
    "start_time": "2023-07-14T08:37:50.424Z"
   },
   {
    "duration": 103,
    "start_time": "2023-07-14T08:37:50.530Z"
   },
   {
    "duration": 207,
    "start_time": "2023-07-14T08:37:50.634Z"
   },
   {
    "duration": 3,
    "start_time": "2023-07-14T08:37:50.843Z"
   },
   {
    "duration": 5,
    "start_time": "2023-07-14T08:37:50.900Z"
   },
   {
    "duration": 18,
    "start_time": "2023-07-14T08:37:50.906Z"
   },
   {
    "duration": 649,
    "start_time": "2023-07-14T08:37:50.925Z"
   },
   {
    "duration": 5,
    "start_time": "2023-07-14T08:37:51.600Z"
   },
   {
    "duration": 221,
    "start_time": "2023-07-14T08:37:51.607Z"
   },
   {
    "duration": 6,
    "start_time": "2023-07-14T08:37:51.829Z"
   },
   {
    "duration": 216,
    "start_time": "2023-07-14T08:37:51.837Z"
   },
   {
    "duration": 495,
    "start_time": "2023-07-14T08:37:52.055Z"
   },
   {
    "duration": 28,
    "start_time": "2023-07-14T08:37:52.551Z"
   },
   {
    "duration": 205,
    "start_time": "2023-07-14T08:37:52.581Z"
   },
   {
    "duration": 37,
    "start_time": "2023-07-14T08:37:52.788Z"
   },
   {
    "duration": 20,
    "start_time": "2023-07-14T08:37:52.828Z"
   },
   {
    "duration": 21,
    "start_time": "2023-07-14T08:37:52.849Z"
   },
   {
    "duration": 39,
    "start_time": "2023-07-14T08:37:52.872Z"
   },
   {
    "duration": 13,
    "start_time": "2023-07-14T08:37:52.912Z"
   },
   {
    "duration": 33,
    "start_time": "2023-07-14T08:37:52.927Z"
   },
   {
    "duration": 39,
    "start_time": "2023-07-14T08:37:52.962Z"
   },
   {
    "duration": 16,
    "start_time": "2023-07-14T08:37:53.002Z"
   },
   {
    "duration": 58,
    "start_time": "2023-07-14T08:37:53.019Z"
   },
   {
    "duration": 25,
    "start_time": "2023-07-14T08:37:53.078Z"
   },
   {
    "duration": 42,
    "start_time": "2023-07-14T08:37:53.104Z"
   },
   {
    "duration": 79,
    "start_time": "2023-07-14T08:37:53.147Z"
   },
   {
    "duration": 41,
    "start_time": "2023-07-14T08:37:53.227Z"
   },
   {
    "duration": 11,
    "start_time": "2023-07-14T08:37:53.270Z"
   },
   {
    "duration": 66,
    "start_time": "2023-07-14T08:37:53.282Z"
   },
   {
    "duration": 7,
    "start_time": "2023-07-14T08:37:53.350Z"
   },
   {
    "duration": 47,
    "start_time": "2023-07-14T08:37:53.358Z"
   },
   {
    "duration": 4,
    "start_time": "2023-07-14T08:37:53.406Z"
   },
   {
    "duration": 112,
    "start_time": "2023-07-14T08:37:53.412Z"
   },
   {
    "duration": 4,
    "start_time": "2023-07-14T08:37:53.525Z"
   },
   {
    "duration": 15,
    "start_time": "2023-07-14T08:37:53.531Z"
   },
   {
    "duration": 21,
    "start_time": "2023-07-14T08:37:53.547Z"
   },
   {
    "duration": 17,
    "start_time": "2023-07-14T08:37:53.570Z"
   },
   {
    "duration": 12,
    "start_time": "2023-07-14T08:37:53.588Z"
   },
   {
    "duration": 9,
    "start_time": "2023-07-14T08:37:53.601Z"
   },
   {
    "duration": 7,
    "start_time": "2023-07-14T08:37:53.611Z"
   },
   {
    "duration": 9,
    "start_time": "2023-07-14T08:37:53.619Z"
   },
   {
    "duration": 296,
    "start_time": "2023-07-14T08:38:27.578Z"
   },
   {
    "duration": 1052,
    "start_time": "2023-07-14T08:40:45.539Z"
   },
   {
    "duration": 210,
    "start_time": "2023-07-14T08:40:46.592Z"
   },
   {
    "duration": 4,
    "start_time": "2023-07-14T08:40:46.806Z"
   },
   {
    "duration": 162,
    "start_time": "2023-07-14T08:40:46.812Z"
   },
   {
    "duration": 3,
    "start_time": "2023-07-14T08:40:46.975Z"
   },
   {
    "duration": 16,
    "start_time": "2023-07-14T08:40:46.979Z"
   },
   {
    "duration": 117,
    "start_time": "2023-07-14T08:40:46.999Z"
   },
   {
    "duration": 21,
    "start_time": "2023-07-14T08:40:47.118Z"
   },
   {
    "duration": 25,
    "start_time": "2023-07-14T08:40:47.141Z"
   },
   {
    "duration": 108,
    "start_time": "2023-07-14T08:40:47.168Z"
   },
   {
    "duration": 73,
    "start_time": "2023-07-14T08:40:47.277Z"
   },
   {
    "duration": 79,
    "start_time": "2023-07-14T08:40:47.351Z"
   },
   {
    "duration": 56,
    "start_time": "2023-07-14T08:40:47.434Z"
   },
   {
    "duration": 76,
    "start_time": "2023-07-14T08:40:47.492Z"
   },
   {
    "duration": 149,
    "start_time": "2023-07-14T08:40:47.570Z"
   },
   {
    "duration": 4,
    "start_time": "2023-07-14T08:40:47.725Z"
   },
   {
    "duration": 47,
    "start_time": "2023-07-14T08:40:47.730Z"
   },
   {
    "duration": 21,
    "start_time": "2023-07-14T08:40:47.779Z"
   },
   {
    "duration": 432,
    "start_time": "2023-07-14T08:40:47.801Z"
   },
   {
    "duration": 5,
    "start_time": "2023-07-14T08:40:48.235Z"
   },
   {
    "duration": 190,
    "start_time": "2023-07-14T08:40:48.242Z"
   },
   {
    "duration": 8,
    "start_time": "2023-07-14T08:40:48.433Z"
   },
   {
    "duration": 229,
    "start_time": "2023-07-14T08:40:48.443Z"
   },
   {
    "duration": 577,
    "start_time": "2023-07-14T08:40:48.673Z"
   },
   {
    "duration": 19,
    "start_time": "2023-07-14T08:40:49.251Z"
   },
   {
    "duration": 228,
    "start_time": "2023-07-14T08:40:49.271Z"
   },
   {
    "duration": 4,
    "start_time": "2023-07-14T08:41:13.381Z"
   },
   {
    "duration": 180,
    "start_time": "2023-07-14T08:41:13.387Z"
   },
   {
    "duration": 4,
    "start_time": "2023-07-14T08:41:13.569Z"
   },
   {
    "duration": 113,
    "start_time": "2023-07-14T08:41:13.574Z"
   },
   {
    "duration": 22,
    "start_time": "2023-07-14T08:41:13.689Z"
   },
   {
    "duration": 47,
    "start_time": "2023-07-14T08:41:13.713Z"
   },
   {
    "duration": 113,
    "start_time": "2023-07-14T08:41:13.761Z"
   },
   {
    "duration": 25,
    "start_time": "2023-07-14T08:41:13.876Z"
   },
   {
    "duration": 20,
    "start_time": "2023-07-14T08:41:13.903Z"
   },
   {
    "duration": 107,
    "start_time": "2023-07-14T08:41:13.925Z"
   },
   {
    "duration": 71,
    "start_time": "2023-07-14T08:41:14.033Z"
   },
   {
    "duration": 68,
    "start_time": "2023-07-14T08:41:14.105Z"
   },
   {
    "duration": 85,
    "start_time": "2023-07-14T08:41:14.174Z"
   },
   {
    "duration": 74,
    "start_time": "2023-07-14T08:41:14.262Z"
   },
   {
    "duration": 157,
    "start_time": "2023-07-14T08:41:14.337Z"
   },
   {
    "duration": 3,
    "start_time": "2023-07-14T08:41:14.496Z"
   },
   {
    "duration": 18,
    "start_time": "2023-07-14T08:41:14.501Z"
   },
   {
    "duration": 20,
    "start_time": "2023-07-14T08:41:14.521Z"
   },
   {
    "duration": 353,
    "start_time": "2023-07-14T08:41:14.542Z"
   },
   {
    "duration": 5,
    "start_time": "2023-07-14T08:41:14.897Z"
   },
   {
    "duration": 180,
    "start_time": "2023-07-14T08:41:14.906Z"
   },
   {
    "duration": 16,
    "start_time": "2023-07-14T08:41:15.088Z"
   },
   {
    "duration": 279,
    "start_time": "2023-07-14T08:41:15.106Z"
   },
   {
    "duration": 662,
    "start_time": "2023-07-14T08:41:15.386Z"
   },
   {
    "duration": 36,
    "start_time": "2023-07-14T08:41:16.049Z"
   },
   {
    "duration": 274,
    "start_time": "2023-07-14T08:41:16.087Z"
   },
   {
    "duration": 35,
    "start_time": "2023-07-14T08:41:43.143Z"
   },
   {
    "duration": 1283,
    "start_time": "2023-07-14T08:41:47.360Z"
   },
   {
    "duration": 1137,
    "start_time": "2023-07-14T08:42:47.074Z"
   },
   {
    "duration": 228,
    "start_time": "2023-07-14T08:42:48.216Z"
   },
   {
    "duration": 4,
    "start_time": "2023-07-14T08:42:48.445Z"
   },
   {
    "duration": 152,
    "start_time": "2023-07-14T08:42:48.451Z"
   },
   {
    "duration": 4,
    "start_time": "2023-07-14T08:42:48.608Z"
   },
   {
    "duration": 47,
    "start_time": "2023-07-14T08:42:48.619Z"
   },
   {
    "duration": 119,
    "start_time": "2023-07-14T08:42:48.667Z"
   },
   {
    "duration": 29,
    "start_time": "2023-07-14T08:42:48.788Z"
   },
   {
    "duration": 14,
    "start_time": "2023-07-14T08:42:48.822Z"
   },
   {
    "duration": 137,
    "start_time": "2023-07-14T08:42:48.838Z"
   },
   {
    "duration": 78,
    "start_time": "2023-07-14T08:42:48.977Z"
   },
   {
    "duration": 78,
    "start_time": "2023-07-14T08:42:49.057Z"
   },
   {
    "duration": 69,
    "start_time": "2023-07-14T08:42:49.137Z"
   },
   {
    "duration": 64,
    "start_time": "2023-07-14T08:42:49.210Z"
   },
   {
    "duration": 156,
    "start_time": "2023-07-14T08:42:49.276Z"
   },
   {
    "duration": 5,
    "start_time": "2023-07-14T08:42:49.434Z"
   },
   {
    "duration": 16,
    "start_time": "2023-07-14T08:42:49.441Z"
   },
   {
    "duration": 16,
    "start_time": "2023-07-14T08:42:49.459Z"
   },
   {
    "duration": 465,
    "start_time": "2023-07-14T08:42:49.477Z"
   },
   {
    "duration": 6,
    "start_time": "2023-07-14T08:42:49.944Z"
   },
   {
    "duration": 184,
    "start_time": "2023-07-14T08:42:49.952Z"
   },
   {
    "duration": 8,
    "start_time": "2023-07-14T08:42:50.138Z"
   },
   {
    "duration": 237,
    "start_time": "2023-07-14T08:42:50.148Z"
   },
   {
    "duration": 575,
    "start_time": "2023-07-14T08:42:50.387Z"
   },
   {
    "duration": 20,
    "start_time": "2023-07-14T08:42:50.963Z"
   },
   {
    "duration": 210,
    "start_time": "2023-07-14T08:42:50.984Z"
   },
   {
    "duration": 131,
    "start_time": "2023-07-14T08:43:26.377Z"
   },
   {
    "duration": 333,
    "start_time": "2023-07-14T08:43:34.141Z"
   },
   {
    "duration": 176,
    "start_time": "2023-07-14T08:43:45.007Z"
   },
   {
    "duration": 73,
    "start_time": "2023-07-14T08:46:22.442Z"
   },
   {
    "duration": 1131,
    "start_time": "2023-07-14T08:46:25.444Z"
   },
   {
    "duration": 191,
    "start_time": "2023-07-14T08:46:26.577Z"
   },
   {
    "duration": 3,
    "start_time": "2023-07-14T08:46:26.770Z"
   },
   {
    "duration": 161,
    "start_time": "2023-07-14T08:46:26.774Z"
   },
   {
    "duration": 3,
    "start_time": "2023-07-14T08:46:26.937Z"
   },
   {
    "duration": 36,
    "start_time": "2023-07-14T08:46:26.941Z"
   },
   {
    "duration": 108,
    "start_time": "2023-07-14T08:46:26.979Z"
   },
   {
    "duration": 21,
    "start_time": "2023-07-14T08:46:27.089Z"
   },
   {
    "duration": 31,
    "start_time": "2023-07-14T08:46:27.111Z"
   },
   {
    "duration": 110,
    "start_time": "2023-07-14T08:46:27.143Z"
   },
   {
    "duration": 67,
    "start_time": "2023-07-14T08:46:27.254Z"
   },
   {
    "duration": 54,
    "start_time": "2023-07-14T08:46:27.323Z"
   },
   {
    "duration": 78,
    "start_time": "2023-07-14T08:46:27.379Z"
   },
   {
    "duration": 76,
    "start_time": "2023-07-14T08:46:27.459Z"
   },
   {
    "duration": 117,
    "start_time": "2023-07-14T08:46:27.537Z"
   },
   {
    "duration": 4,
    "start_time": "2023-07-14T08:46:27.655Z"
   },
   {
    "duration": 13,
    "start_time": "2023-07-14T08:46:27.661Z"
   },
   {
    "duration": 27,
    "start_time": "2023-07-14T08:46:27.675Z"
   },
   {
    "duration": 462,
    "start_time": "2023-07-14T08:46:27.704Z"
   },
   {
    "duration": 7,
    "start_time": "2023-07-14T08:46:28.167Z"
   },
   {
    "duration": 211,
    "start_time": "2023-07-14T08:46:28.176Z"
   },
   {
    "duration": 15,
    "start_time": "2023-07-14T08:46:28.388Z"
   },
   {
    "duration": 221,
    "start_time": "2023-07-14T08:46:28.405Z"
   },
   {
    "duration": 547,
    "start_time": "2023-07-14T08:46:28.628Z"
   },
   {
    "duration": 28,
    "start_time": "2023-07-14T08:46:29.176Z"
   },
   {
    "duration": 210,
    "start_time": "2023-07-14T08:46:29.206Z"
   },
   {
    "duration": 37,
    "start_time": "2023-07-14T08:46:33.970Z"
   },
   {
    "duration": 1071,
    "start_time": "2023-07-14T08:47:54.469Z"
   },
   {
    "duration": 210,
    "start_time": "2023-07-14T08:47:55.542Z"
   },
   {
    "duration": 4,
    "start_time": "2023-07-14T08:47:55.753Z"
   },
   {
    "duration": 146,
    "start_time": "2023-07-14T08:47:55.759Z"
   },
   {
    "duration": 8,
    "start_time": "2023-07-14T08:47:55.907Z"
   },
   {
    "duration": 27,
    "start_time": "2023-07-14T08:47:55.917Z"
   },
   {
    "duration": 137,
    "start_time": "2023-07-14T08:47:55.946Z"
   },
   {
    "duration": 46,
    "start_time": "2023-07-14T08:47:56.085Z"
   },
   {
    "duration": 19,
    "start_time": "2023-07-14T08:47:56.133Z"
   },
   {
    "duration": 164,
    "start_time": "2023-07-14T08:47:56.155Z"
   },
   {
    "duration": 62,
    "start_time": "2023-07-14T08:47:56.327Z"
   },
   {
    "duration": 76,
    "start_time": "2023-07-14T08:47:56.391Z"
   },
   {
    "duration": 64,
    "start_time": "2023-07-14T08:47:56.469Z"
   },
   {
    "duration": 52,
    "start_time": "2023-07-14T08:47:56.535Z"
   },
   {
    "duration": 143,
    "start_time": "2023-07-14T08:47:56.589Z"
   },
   {
    "duration": 4,
    "start_time": "2023-07-14T08:47:56.734Z"
   },
   {
    "duration": 7,
    "start_time": "2023-07-14T08:47:56.740Z"
   },
   {
    "duration": 9,
    "start_time": "2023-07-14T08:47:56.749Z"
   },
   {
    "duration": 423,
    "start_time": "2023-07-14T08:47:56.759Z"
   },
   {
    "duration": 4,
    "start_time": "2023-07-14T08:47:57.184Z"
   },
   {
    "duration": 169,
    "start_time": "2023-07-14T08:47:57.189Z"
   },
   {
    "duration": 6,
    "start_time": "2023-07-14T08:47:57.360Z"
   },
   {
    "duration": 241,
    "start_time": "2023-07-14T08:47:57.368Z"
   },
   {
    "duration": 625,
    "start_time": "2023-07-14T08:47:57.611Z"
   },
   {
    "duration": 19,
    "start_time": "2023-07-14T08:47:58.242Z"
   },
   {
    "duration": 229,
    "start_time": "2023-07-14T08:47:58.263Z"
   },
   {
    "duration": 26,
    "start_time": "2023-07-14T08:47:58.494Z"
   },
   {
    "duration": 21,
    "start_time": "2023-07-14T08:47:58.524Z"
   },
   {
    "duration": 25,
    "start_time": "2023-07-14T08:47:58.546Z"
   },
   {
    "duration": 10,
    "start_time": "2023-07-14T08:47:58.572Z"
   },
   {
    "duration": 50,
    "start_time": "2023-07-14T08:47:58.583Z"
   },
   {
    "duration": 24,
    "start_time": "2023-07-14T08:47:58.634Z"
   },
   {
    "duration": 15,
    "start_time": "2023-07-14T08:47:58.660Z"
   },
   {
    "duration": 45,
    "start_time": "2023-07-14T08:47:58.677Z"
   },
   {
    "duration": 26,
    "start_time": "2023-07-14T08:47:58.724Z"
   },
   {
    "duration": 5,
    "start_time": "2023-07-14T08:47:58.751Z"
   },
   {
    "duration": 79,
    "start_time": "2023-07-14T08:47:58.757Z"
   },
   {
    "duration": 33,
    "start_time": "2023-07-14T08:47:58.838Z"
   },
   {
    "duration": 12,
    "start_time": "2023-07-14T08:47:58.873Z"
   },
   {
    "duration": 78,
    "start_time": "2023-07-14T08:47:58.886Z"
   },
   {
    "duration": 8,
    "start_time": "2023-07-14T08:47:58.966Z"
   },
   {
    "duration": 50,
    "start_time": "2023-07-14T08:47:58.975Z"
   },
   {
    "duration": 6,
    "start_time": "2023-07-14T08:47:59.027Z"
   },
   {
    "duration": 97,
    "start_time": "2023-07-14T08:47:59.034Z"
   },
   {
    "duration": 5,
    "start_time": "2023-07-14T08:47:59.132Z"
   },
   {
    "duration": 18,
    "start_time": "2023-07-14T08:47:59.139Z"
   },
   {
    "duration": 17,
    "start_time": "2023-07-14T08:47:59.158Z"
   },
   {
    "duration": 55,
    "start_time": "2023-07-14T08:47:59.176Z"
   },
   {
    "duration": 7,
    "start_time": "2023-07-14T08:47:59.233Z"
   },
   {
    "duration": 29,
    "start_time": "2023-07-14T08:47:59.241Z"
   },
   {
    "duration": 46,
    "start_time": "2023-07-14T08:47:59.271Z"
   },
   {
    "duration": 9,
    "start_time": "2023-07-14T08:47:59.319Z"
   },
   {
    "duration": 280,
    "start_time": "2023-07-14T08:49:47.066Z"
   },
   {
    "duration": 1285,
    "start_time": "2023-07-14T08:50:17.550Z"
   },
   {
    "duration": 199,
    "start_time": "2023-07-14T08:50:18.837Z"
   },
   {
    "duration": 3,
    "start_time": "2023-07-14T08:50:19.038Z"
   },
   {
    "duration": 152,
    "start_time": "2023-07-14T08:50:19.043Z"
   },
   {
    "duration": 3,
    "start_time": "2023-07-14T08:50:19.200Z"
   },
   {
    "duration": 39,
    "start_time": "2023-07-14T08:50:19.205Z"
   },
   {
    "duration": 120,
    "start_time": "2023-07-14T08:50:19.245Z"
   },
   {
    "duration": 20,
    "start_time": "2023-07-14T08:50:19.366Z"
   },
   {
    "duration": 9,
    "start_time": "2023-07-14T08:50:19.388Z"
   },
   {
    "duration": 148,
    "start_time": "2023-07-14T08:50:19.399Z"
   },
   {
    "duration": 82,
    "start_time": "2023-07-14T08:50:19.549Z"
   },
   {
    "duration": 61,
    "start_time": "2023-07-14T08:50:19.633Z"
   },
   {
    "duration": 73,
    "start_time": "2023-07-14T08:50:19.695Z"
   },
   {
    "duration": 76,
    "start_time": "2023-07-14T08:50:19.771Z"
   },
   {
    "duration": 137,
    "start_time": "2023-07-14T08:50:19.848Z"
   },
   {
    "duration": 4,
    "start_time": "2023-07-14T08:50:19.986Z"
   },
   {
    "duration": 66,
    "start_time": "2023-07-14T08:50:19.991Z"
   },
   {
    "duration": 81,
    "start_time": "2023-07-14T08:50:20.058Z"
   },
   {
    "duration": 410,
    "start_time": "2023-07-14T08:50:20.140Z"
   },
   {
    "duration": 4,
    "start_time": "2023-07-14T08:50:20.552Z"
   },
   {
    "duration": 186,
    "start_time": "2023-07-14T08:50:20.558Z"
   },
   {
    "duration": 8,
    "start_time": "2023-07-14T08:50:20.746Z"
   },
   {
    "duration": 241,
    "start_time": "2023-07-14T08:50:20.755Z"
   },
   {
    "duration": 666,
    "start_time": "2023-07-14T08:50:21.000Z"
   },
   {
    "duration": 22,
    "start_time": "2023-07-14T08:50:21.668Z"
   },
   {
    "duration": 346,
    "start_time": "2023-07-14T08:50:21.692Z"
   },
   {
    "duration": 940,
    "start_time": "2023-07-14T08:50:26.018Z"
   },
   {
    "duration": 199,
    "start_time": "2023-07-14T08:50:37.337Z"
   },
   {
    "duration": 11,
    "start_time": "2023-07-14T08:51:24.339Z"
   },
   {
    "duration": 9,
    "start_time": "2023-07-14T08:54:39.122Z"
   },
   {
    "duration": 26,
    "start_time": "2023-07-14T08:54:42.486Z"
   },
   {
    "duration": 12,
    "start_time": "2023-07-14T08:55:13.410Z"
   },
   {
    "duration": 139,
    "start_time": "2023-07-14T08:55:17.299Z"
   },
   {
    "duration": 154,
    "start_time": "2023-07-14T08:56:16.181Z"
   },
   {
    "duration": 21,
    "start_time": "2023-07-14T08:56:19.027Z"
   },
   {
    "duration": 18,
    "start_time": "2023-07-14T08:56:28.772Z"
   },
   {
    "duration": 139,
    "start_time": "2023-07-14T08:57:27.644Z"
   },
   {
    "duration": 172,
    "start_time": "2023-07-14T08:57:44.198Z"
   },
   {
    "duration": 171,
    "start_time": "2023-07-14T09:00:13.027Z"
   },
   {
    "duration": 149,
    "start_time": "2023-07-14T09:00:44.022Z"
   },
   {
    "duration": 5,
    "start_time": "2023-07-14T09:02:39.777Z"
   },
   {
    "duration": 1054,
    "start_time": "2023-07-14T09:03:22.420Z"
   },
   {
    "duration": 218,
    "start_time": "2023-07-14T09:03:23.476Z"
   },
   {
    "duration": 22,
    "start_time": "2023-07-14T09:03:23.696Z"
   },
   {
    "duration": 142,
    "start_time": "2023-07-14T09:03:23.720Z"
   },
   {
    "duration": 3,
    "start_time": "2023-07-14T09:03:23.864Z"
   },
   {
    "duration": 28,
    "start_time": "2023-07-14T09:03:23.868Z"
   },
   {
    "duration": 152,
    "start_time": "2023-07-14T09:03:23.897Z"
   },
   {
    "duration": 19,
    "start_time": "2023-07-14T09:03:24.050Z"
   },
   {
    "duration": 17,
    "start_time": "2023-07-14T09:03:24.071Z"
   },
   {
    "duration": 137,
    "start_time": "2023-07-14T09:03:24.090Z"
   },
   {
    "duration": 59,
    "start_time": "2023-07-14T09:03:24.229Z"
   },
   {
    "duration": 77,
    "start_time": "2023-07-14T09:03:24.289Z"
   },
   {
    "duration": 71,
    "start_time": "2023-07-14T09:03:24.367Z"
   },
   {
    "duration": 59,
    "start_time": "2023-07-14T09:03:24.441Z"
   },
   {
    "duration": 139,
    "start_time": "2023-07-14T09:03:24.502Z"
   },
   {
    "duration": 4,
    "start_time": "2023-07-14T09:03:24.642Z"
   },
   {
    "duration": 15,
    "start_time": "2023-07-14T09:03:24.647Z"
   },
   {
    "duration": 27,
    "start_time": "2023-07-14T09:03:24.665Z"
   },
   {
    "duration": 395,
    "start_time": "2023-07-14T09:03:24.703Z"
   },
   {
    "duration": 5,
    "start_time": "2023-07-14T09:03:25.100Z"
   },
   {
    "duration": 187,
    "start_time": "2023-07-14T09:03:25.106Z"
   },
   {
    "duration": 11,
    "start_time": "2023-07-14T09:03:25.295Z"
   },
   {
    "duration": 278,
    "start_time": "2023-07-14T09:03:25.308Z"
   },
   {
    "duration": 686,
    "start_time": "2023-07-14T09:03:25.588Z"
   },
   {
    "duration": 35,
    "start_time": "2023-07-14T09:03:26.275Z"
   },
   {
    "duration": 308,
    "start_time": "2023-07-14T09:03:26.312Z"
   },
   {
    "duration": 170,
    "start_time": "2023-07-14T09:03:26.622Z"
   },
   {
    "duration": 21,
    "start_time": "2023-07-14T09:03:26.799Z"
   },
   {
    "duration": 15,
    "start_time": "2023-07-14T09:03:26.822Z"
   },
   {
    "duration": 25,
    "start_time": "2023-07-14T09:03:26.838Z"
   },
   {
    "duration": 37,
    "start_time": "2023-07-14T09:03:26.864Z"
   },
   {
    "duration": 39,
    "start_time": "2023-07-14T09:03:26.903Z"
   },
   {
    "duration": 26,
    "start_time": "2023-07-14T09:03:26.944Z"
   },
   {
    "duration": 44,
    "start_time": "2023-07-14T09:03:26.972Z"
   },
   {
    "duration": 38,
    "start_time": "2023-07-14T09:03:27.018Z"
   },
   {
    "duration": 49,
    "start_time": "2023-07-14T09:03:27.058Z"
   },
   {
    "duration": 8,
    "start_time": "2023-07-14T09:03:27.110Z"
   },
   {
    "duration": 59,
    "start_time": "2023-07-14T09:03:27.120Z"
   },
   {
    "duration": 59,
    "start_time": "2023-07-14T09:03:27.181Z"
   },
   {
    "duration": 14,
    "start_time": "2023-07-14T09:03:27.242Z"
   },
   {
    "duration": 91,
    "start_time": "2023-07-14T09:03:27.259Z"
   },
   {
    "duration": 10,
    "start_time": "2023-07-14T09:03:31.821Z"
   },
   {
    "duration": 95,
    "start_time": "2023-07-14T09:04:31.340Z"
   },
   {
    "duration": 103,
    "start_time": "2023-07-14T09:04:54.738Z"
   },
   {
    "duration": 95,
    "start_time": "2023-07-14T09:05:06.826Z"
   },
   {
    "duration": 81,
    "start_time": "2023-07-14T09:05:10.638Z"
   },
   {
    "duration": 497,
    "start_time": "2023-07-14T09:05:32.514Z"
   },
   {
    "duration": 38,
    "start_time": "2023-07-14T09:05:54.710Z"
   },
   {
    "duration": 181,
    "start_time": "2023-07-14T09:06:15.055Z"
   },
   {
    "duration": 17,
    "start_time": "2023-07-14T09:06:23.080Z"
   },
   {
    "duration": 43,
    "start_time": "2023-07-14T09:06:28.887Z"
   },
   {
    "duration": 41,
    "start_time": "2023-07-14T09:06:35.392Z"
   },
   {
    "duration": 16,
    "start_time": "2023-07-14T09:07:01.288Z"
   },
   {
    "duration": 49,
    "start_time": "2023-07-14T09:07:55.189Z"
   },
   {
    "duration": 50,
    "start_time": "2023-07-14T09:15:07.755Z"
   },
   {
    "duration": 42,
    "start_time": "2023-07-14T09:15:41.213Z"
   },
   {
    "duration": 49,
    "start_time": "2023-07-14T09:16:04.237Z"
   },
   {
    "duration": 60,
    "start_time": "2023-07-14T09:16:26.192Z"
   },
   {
    "duration": 70,
    "start_time": "2023-07-14T09:16:38.383Z"
   },
   {
    "duration": 45,
    "start_time": "2023-07-14T09:16:47.959Z"
   },
   {
    "duration": 49,
    "start_time": "2023-07-14T09:17:40.864Z"
   },
   {
    "duration": 173,
    "start_time": "2023-07-14T09:17:46.548Z"
   },
   {
    "duration": 141,
    "start_time": "2023-07-14T09:18:03.387Z"
   },
   {
    "duration": 130,
    "start_time": "2023-07-14T09:18:11.069Z"
   },
   {
    "duration": 146,
    "start_time": "2023-07-14T09:20:03.433Z"
   },
   {
    "duration": 150,
    "start_time": "2023-07-14T09:20:13.005Z"
   },
   {
    "duration": 153,
    "start_time": "2023-07-14T09:20:21.747Z"
   },
   {
    "duration": 145,
    "start_time": "2023-07-14T09:21:43.209Z"
   },
   {
    "duration": 223,
    "start_time": "2023-07-14T09:21:48.525Z"
   },
   {
    "duration": 44,
    "start_time": "2023-07-14T09:21:51.047Z"
   },
   {
    "duration": 47,
    "start_time": "2023-07-14T09:21:56.675Z"
   },
   {
    "duration": 1167,
    "start_time": "2023-07-14T09:22:17.458Z"
   },
   {
    "duration": 167,
    "start_time": "2023-07-14T09:22:18.627Z"
   },
   {
    "duration": 5,
    "start_time": "2023-07-14T09:22:18.795Z"
   },
   {
    "duration": 155,
    "start_time": "2023-07-14T09:22:18.802Z"
   },
   {
    "duration": 3,
    "start_time": "2023-07-14T09:22:18.959Z"
   },
   {
    "duration": 17,
    "start_time": "2023-07-14T09:22:18.963Z"
   },
   {
    "duration": 110,
    "start_time": "2023-07-14T09:22:18.982Z"
   },
   {
    "duration": 22,
    "start_time": "2023-07-14T09:22:19.100Z"
   },
   {
    "duration": 12,
    "start_time": "2023-07-14T09:22:19.124Z"
   },
   {
    "duration": 123,
    "start_time": "2023-07-14T09:22:19.138Z"
   },
   {
    "duration": 75,
    "start_time": "2023-07-14T09:22:19.262Z"
   },
   {
    "duration": 68,
    "start_time": "2023-07-14T09:22:19.338Z"
   },
   {
    "duration": 65,
    "start_time": "2023-07-14T09:22:19.408Z"
   },
   {
    "duration": 75,
    "start_time": "2023-07-14T09:22:19.476Z"
   },
   {
    "duration": 123,
    "start_time": "2023-07-14T09:22:19.553Z"
   },
   {
    "duration": 3,
    "start_time": "2023-07-14T09:22:19.678Z"
   },
   {
    "duration": 18,
    "start_time": "2023-07-14T09:22:19.683Z"
   },
   {
    "duration": 40,
    "start_time": "2023-07-14T09:22:19.703Z"
   },
   {
    "duration": 389,
    "start_time": "2023-07-14T09:22:19.745Z"
   },
   {
    "duration": 4,
    "start_time": "2023-07-14T09:22:20.136Z"
   },
   {
    "duration": 166,
    "start_time": "2023-07-14T09:22:20.142Z"
   },
   {
    "duration": 10,
    "start_time": "2023-07-14T09:22:20.309Z"
   },
   {
    "duration": 253,
    "start_time": "2023-07-14T09:22:20.320Z"
   },
   {
    "duration": 665,
    "start_time": "2023-07-14T09:22:20.575Z"
   },
   {
    "duration": 21,
    "start_time": "2023-07-14T09:22:21.242Z"
   },
   {
    "duration": 304,
    "start_time": "2023-07-14T09:22:21.264Z"
   },
   {
    "duration": 177,
    "start_time": "2023-07-14T09:22:21.570Z"
   },
   {
    "duration": 16,
    "start_time": "2023-07-14T09:22:21.749Z"
   },
   {
    "duration": 31,
    "start_time": "2023-07-14T09:22:21.766Z"
   },
   {
    "duration": 59,
    "start_time": "2023-07-14T09:22:21.799Z"
   },
   {
    "duration": 25,
    "start_time": "2023-07-14T09:22:21.860Z"
   },
   {
    "duration": 95,
    "start_time": "2023-07-14T09:22:21.887Z"
   },
   {
    "duration": 52,
    "start_time": "2023-07-14T09:22:21.984Z"
   },
   {
    "duration": 27,
    "start_time": "2023-07-14T09:22:22.037Z"
   },
   {
    "duration": 94,
    "start_time": "2023-07-14T09:22:22.066Z"
   },
   {
    "duration": 27,
    "start_time": "2023-07-14T09:22:22.162Z"
   },
   {
    "duration": 12,
    "start_time": "2023-07-14T09:22:22.191Z"
   },
   {
    "duration": 90,
    "start_time": "2023-07-14T09:22:22.205Z"
   },
   {
    "duration": 45,
    "start_time": "2023-07-14T09:22:22.296Z"
   },
   {
    "duration": 12,
    "start_time": "2023-07-14T09:22:22.343Z"
   },
   {
    "duration": 92,
    "start_time": "2023-07-14T09:22:22.359Z"
   },
   {
    "duration": 8,
    "start_time": "2023-07-14T09:22:22.453Z"
   },
   {
    "duration": 462,
    "start_time": "2023-07-14T09:22:22.463Z"
   },
   {
    "duration": 1199,
    "start_time": "2023-07-14T09:24:11.598Z"
   },
   {
    "duration": 154,
    "start_time": "2023-07-14T09:24:12.799Z"
   },
   {
    "duration": 3,
    "start_time": "2023-07-14T09:24:12.955Z"
   },
   {
    "duration": 128,
    "start_time": "2023-07-14T09:24:12.960Z"
   },
   {
    "duration": 10,
    "start_time": "2023-07-14T09:24:13.090Z"
   },
   {
    "duration": 14,
    "start_time": "2023-07-14T09:24:13.102Z"
   },
   {
    "duration": 115,
    "start_time": "2023-07-14T09:24:13.118Z"
   },
   {
    "duration": 21,
    "start_time": "2023-07-14T09:24:13.234Z"
   },
   {
    "duration": 9,
    "start_time": "2023-07-14T09:24:13.256Z"
   },
   {
    "duration": 125,
    "start_time": "2023-07-14T09:24:13.267Z"
   },
   {
    "duration": 75,
    "start_time": "2023-07-14T09:24:13.394Z"
   },
   {
    "duration": 93,
    "start_time": "2023-07-14T09:24:13.471Z"
   },
   {
    "duration": 78,
    "start_time": "2023-07-14T09:24:13.565Z"
   },
   {
    "duration": 70,
    "start_time": "2023-07-14T09:24:13.646Z"
   },
   {
    "duration": 138,
    "start_time": "2023-07-14T09:24:13.718Z"
   },
   {
    "duration": 3,
    "start_time": "2023-07-14T09:24:13.857Z"
   },
   {
    "duration": 8,
    "start_time": "2023-07-14T09:24:13.862Z"
   },
   {
    "duration": 20,
    "start_time": "2023-07-14T09:24:13.872Z"
   },
   {
    "duration": 389,
    "start_time": "2023-07-14T09:24:13.901Z"
   },
   {
    "duration": 4,
    "start_time": "2023-07-14T09:24:14.292Z"
   },
   {
    "duration": 190,
    "start_time": "2023-07-14T09:24:14.297Z"
   },
   {
    "duration": 15,
    "start_time": "2023-07-14T09:24:14.489Z"
   },
   {
    "duration": 252,
    "start_time": "2023-07-14T09:24:14.506Z"
   },
   {
    "duration": 591,
    "start_time": "2023-07-14T09:24:14.760Z"
   },
   {
    "duration": 22,
    "start_time": "2023-07-14T09:24:15.353Z"
   },
   {
    "duration": 292,
    "start_time": "2023-07-14T09:24:15.376Z"
   },
   {
    "duration": 161,
    "start_time": "2023-07-14T09:24:15.669Z"
   },
   {
    "duration": 16,
    "start_time": "2023-07-14T09:24:15.831Z"
   },
   {
    "duration": 15,
    "start_time": "2023-07-14T09:24:15.849Z"
   },
   {
    "duration": 43,
    "start_time": "2023-07-14T09:24:15.866Z"
   },
   {
    "duration": 13,
    "start_time": "2023-07-14T09:24:15.911Z"
   },
   {
    "duration": 56,
    "start_time": "2023-07-14T09:24:15.926Z"
   },
   {
    "duration": 44,
    "start_time": "2023-07-14T09:24:15.984Z"
   },
   {
    "duration": 20,
    "start_time": "2023-07-14T09:24:16.031Z"
   },
   {
    "duration": 66,
    "start_time": "2023-07-14T09:24:16.053Z"
   },
   {
    "duration": 34,
    "start_time": "2023-07-14T09:24:16.121Z"
   },
   {
    "duration": 9,
    "start_time": "2023-07-14T09:24:16.157Z"
   },
   {
    "duration": 91,
    "start_time": "2023-07-14T09:24:16.168Z"
   },
   {
    "duration": 54,
    "start_time": "2023-07-14T09:24:16.261Z"
   },
   {
    "duration": 22,
    "start_time": "2023-07-14T09:24:16.317Z"
   },
   {
    "duration": 73,
    "start_time": "2023-07-14T09:24:16.344Z"
   },
   {
    "duration": 10,
    "start_time": "2023-07-14T09:24:16.419Z"
   },
   {
    "duration": 423,
    "start_time": "2023-07-14T09:24:16.430Z"
   },
   {
    "duration": 249,
    "start_time": "2023-07-14T09:24:16.854Z"
   },
   {
    "duration": 0,
    "start_time": "2023-07-14T09:24:17.105Z"
   },
   {
    "duration": 0,
    "start_time": "2023-07-14T09:24:17.106Z"
   },
   {
    "duration": 0,
    "start_time": "2023-07-14T09:24:17.107Z"
   },
   {
    "duration": 0,
    "start_time": "2023-07-14T09:24:17.109Z"
   },
   {
    "duration": 0,
    "start_time": "2023-07-14T09:24:17.110Z"
   },
   {
    "duration": 0,
    "start_time": "2023-07-14T09:24:17.112Z"
   },
   {
    "duration": 0,
    "start_time": "2023-07-14T09:24:17.113Z"
   },
   {
    "duration": 3,
    "start_time": "2023-07-14T09:25:32.139Z"
   },
   {
    "duration": 191,
    "start_time": "2023-07-14T09:25:32.145Z"
   },
   {
    "duration": 4,
    "start_time": "2023-07-14T09:25:32.338Z"
   },
   {
    "duration": 137,
    "start_time": "2023-07-14T09:25:32.343Z"
   },
   {
    "duration": 3,
    "start_time": "2023-07-14T09:25:32.483Z"
   },
   {
    "duration": 41,
    "start_time": "2023-07-14T09:25:32.487Z"
   },
   {
    "duration": 106,
    "start_time": "2023-07-14T09:25:32.530Z"
   },
   {
    "duration": 22,
    "start_time": "2023-07-14T09:25:32.637Z"
   },
   {
    "duration": 29,
    "start_time": "2023-07-14T09:25:32.660Z"
   },
   {
    "duration": 114,
    "start_time": "2023-07-14T09:25:32.690Z"
   },
   {
    "duration": 72,
    "start_time": "2023-07-14T09:25:32.806Z"
   },
   {
    "duration": 89,
    "start_time": "2023-07-14T09:25:32.879Z"
   },
   {
    "duration": 81,
    "start_time": "2023-07-14T09:25:32.970Z"
   },
   {
    "duration": 71,
    "start_time": "2023-07-14T09:25:33.054Z"
   },
   {
    "duration": 127,
    "start_time": "2023-07-14T09:25:33.126Z"
   },
   {
    "duration": 4,
    "start_time": "2023-07-14T09:25:33.254Z"
   },
   {
    "duration": 25,
    "start_time": "2023-07-14T09:25:33.259Z"
   },
   {
    "duration": 9,
    "start_time": "2023-07-14T09:25:33.285Z"
   },
   {
    "duration": 411,
    "start_time": "2023-07-14T09:25:33.295Z"
   },
   {
    "duration": 6,
    "start_time": "2023-07-14T09:25:33.726Z"
   },
   {
    "duration": 201,
    "start_time": "2023-07-14T09:25:33.734Z"
   },
   {
    "duration": 7,
    "start_time": "2023-07-14T09:25:33.936Z"
   },
   {
    "duration": 249,
    "start_time": "2023-07-14T09:25:33.944Z"
   },
   {
    "duration": 711,
    "start_time": "2023-07-14T09:25:34.199Z"
   },
   {
    "duration": 33,
    "start_time": "2023-07-14T09:25:34.912Z"
   },
   {
    "duration": 203,
    "start_time": "2023-07-14T09:25:34.947Z"
   },
   {
    "duration": 176,
    "start_time": "2023-07-14T09:25:35.152Z"
   },
   {
    "duration": 19,
    "start_time": "2023-07-14T09:25:35.330Z"
   },
   {
    "duration": 30,
    "start_time": "2023-07-14T09:25:35.351Z"
   },
   {
    "duration": 48,
    "start_time": "2023-07-14T09:25:35.384Z"
   },
   {
    "duration": 12,
    "start_time": "2023-07-14T09:25:35.434Z"
   },
   {
    "duration": 67,
    "start_time": "2023-07-14T09:25:35.447Z"
   },
   {
    "duration": 32,
    "start_time": "2023-07-14T09:25:35.519Z"
   },
   {
    "duration": 21,
    "start_time": "2023-07-14T09:25:35.553Z"
   },
   {
    "duration": 48,
    "start_time": "2023-07-14T09:25:35.576Z"
   },
   {
    "duration": 60,
    "start_time": "2023-07-14T09:25:35.626Z"
   },
   {
    "duration": 45,
    "start_time": "2023-07-14T09:25:35.688Z"
   },
   {
    "duration": 82,
    "start_time": "2023-07-14T09:25:35.734Z"
   },
   {
    "duration": 41,
    "start_time": "2023-07-14T09:25:35.818Z"
   },
   {
    "duration": 41,
    "start_time": "2023-07-14T09:25:35.860Z"
   },
   {
    "duration": 65,
    "start_time": "2023-07-14T09:25:35.906Z"
   },
   {
    "duration": 8,
    "start_time": "2023-07-14T09:25:35.972Z"
   },
   {
    "duration": 56,
    "start_time": "2023-07-14T09:25:36.001Z"
   },
   {
    "duration": 51,
    "start_time": "2023-07-14T09:25:36.059Z"
   },
   {
    "duration": 0,
    "start_time": "2023-07-14T09:25:36.112Z"
   },
   {
    "duration": 0,
    "start_time": "2023-07-14T09:25:36.114Z"
   },
   {
    "duration": 0,
    "start_time": "2023-07-14T09:25:36.115Z"
   },
   {
    "duration": 0,
    "start_time": "2023-07-14T09:25:36.116Z"
   },
   {
    "duration": 0,
    "start_time": "2023-07-14T09:25:36.117Z"
   },
   {
    "duration": 0,
    "start_time": "2023-07-14T09:25:36.118Z"
   },
   {
    "duration": 0,
    "start_time": "2023-07-14T09:25:36.120Z"
   },
   {
    "duration": 10,
    "start_time": "2023-07-14T09:26:16.666Z"
   },
   {
    "duration": 47,
    "start_time": "2023-07-14T09:26:43.286Z"
   },
   {
    "duration": 1173,
    "start_time": "2023-07-14T09:26:55.200Z"
   },
   {
    "duration": 146,
    "start_time": "2023-07-14T09:26:56.375Z"
   },
   {
    "duration": 4,
    "start_time": "2023-07-14T09:26:56.523Z"
   },
   {
    "duration": 161,
    "start_time": "2023-07-14T09:26:56.529Z"
   },
   {
    "duration": 8,
    "start_time": "2023-07-14T09:26:56.691Z"
   },
   {
    "duration": 10,
    "start_time": "2023-07-14T09:26:56.701Z"
   },
   {
    "duration": 103,
    "start_time": "2023-07-14T09:26:56.713Z"
   },
   {
    "duration": 20,
    "start_time": "2023-07-14T09:26:56.818Z"
   },
   {
    "duration": 20,
    "start_time": "2023-07-14T09:26:56.840Z"
   },
   {
    "duration": 162,
    "start_time": "2023-07-14T09:26:56.863Z"
   },
   {
    "duration": 178,
    "start_time": "2023-07-14T09:26:57.027Z"
   },
   {
    "duration": 131,
    "start_time": "2023-07-14T09:26:57.207Z"
   },
   {
    "duration": 177,
    "start_time": "2023-07-14T09:26:57.339Z"
   },
   {
    "duration": 117,
    "start_time": "2023-07-14T09:26:57.518Z"
   },
   {
    "duration": 297,
    "start_time": "2023-07-14T09:26:57.636Z"
   },
   {
    "duration": 3,
    "start_time": "2023-07-14T09:26:57.935Z"
   },
   {
    "duration": 9,
    "start_time": "2023-07-14T09:26:57.939Z"
   },
   {
    "duration": 12,
    "start_time": "2023-07-14T09:26:57.999Z"
   },
   {
    "duration": 650,
    "start_time": "2023-07-14T09:26:58.012Z"
   },
   {
    "duration": 4,
    "start_time": "2023-07-14T09:26:58.705Z"
   },
   {
    "duration": 304,
    "start_time": "2023-07-14T09:26:58.711Z"
   },
   {
    "duration": 9,
    "start_time": "2023-07-14T09:26:59.017Z"
   },
   {
    "duration": 243,
    "start_time": "2023-07-14T09:26:59.027Z"
   },
   {
    "duration": 576,
    "start_time": "2023-07-14T09:26:59.271Z"
   },
   {
    "duration": 19,
    "start_time": "2023-07-14T09:26:59.849Z"
   },
   {
    "duration": 287,
    "start_time": "2023-07-14T09:26:59.870Z"
   },
   {
    "duration": 168,
    "start_time": "2023-07-14T09:27:00.158Z"
   },
   {
    "duration": 18,
    "start_time": "2023-07-14T09:27:00.330Z"
   },
   {
    "duration": 20,
    "start_time": "2023-07-14T09:27:00.350Z"
   },
   {
    "duration": 59,
    "start_time": "2023-07-14T09:27:00.371Z"
   },
   {
    "duration": 11,
    "start_time": "2023-07-14T09:27:00.432Z"
   },
   {
    "duration": 38,
    "start_time": "2023-07-14T09:27:00.445Z"
   },
   {
    "duration": 42,
    "start_time": "2023-07-14T09:27:00.485Z"
   },
   {
    "duration": 76,
    "start_time": "2023-07-14T09:27:00.529Z"
   },
   {
    "duration": 59,
    "start_time": "2023-07-14T09:27:00.607Z"
   },
   {
    "duration": 25,
    "start_time": "2023-07-14T09:27:00.667Z"
   },
   {
    "duration": 35,
    "start_time": "2023-07-14T09:27:00.694Z"
   },
   {
    "duration": 87,
    "start_time": "2023-07-14T09:27:00.731Z"
   },
   {
    "duration": 34,
    "start_time": "2023-07-14T09:27:00.821Z"
   },
   {
    "duration": 37,
    "start_time": "2023-07-14T09:27:00.857Z"
   },
   {
    "duration": 87,
    "start_time": "2023-07-14T09:27:00.895Z"
   },
   {
    "duration": 31,
    "start_time": "2023-07-14T09:27:00.984Z"
   },
   {
    "duration": 449,
    "start_time": "2023-07-14T09:27:01.017Z"
   },
   {
    "duration": 62,
    "start_time": "2023-07-14T09:27:01.467Z"
   },
   {
    "duration": 5,
    "start_time": "2023-07-14T09:27:01.530Z"
   },
   {
    "duration": 146,
    "start_time": "2023-07-14T09:27:01.536Z"
   },
   {
    "duration": 20,
    "start_time": "2023-07-14T09:27:01.684Z"
   },
   {
    "duration": 148,
    "start_time": "2023-07-14T09:27:01.706Z"
   },
   {
    "duration": 221,
    "start_time": "2023-07-14T09:27:01.855Z"
   },
   {
    "duration": 75,
    "start_time": "2023-07-14T09:27:02.078Z"
   },
   {
    "duration": 112,
    "start_time": "2023-07-14T09:27:02.155Z"
   },
   {
    "duration": 47,
    "start_time": "2023-07-14T09:27:02.269Z"
   },
   {
    "duration": 60,
    "start_time": "2023-07-14T09:27:02.318Z"
   },
   {
    "duration": 38,
    "start_time": "2023-07-14T09:27:02.379Z"
   },
   {
    "duration": 1057,
    "start_time": "2023-07-14T09:39:01.062Z"
   },
   {
    "duration": 147,
    "start_time": "2023-07-14T09:39:02.121Z"
   },
   {
    "duration": 3,
    "start_time": "2023-07-14T09:39:02.270Z"
   },
   {
    "duration": 162,
    "start_time": "2023-07-14T09:39:02.275Z"
   },
   {
    "duration": 2,
    "start_time": "2023-07-14T09:39:02.439Z"
   },
   {
    "duration": 34,
    "start_time": "2023-07-14T09:39:02.443Z"
   },
   {
    "duration": 107,
    "start_time": "2023-07-14T09:39:02.479Z"
   },
   {
    "duration": 22,
    "start_time": "2023-07-14T09:39:02.587Z"
   },
   {
    "duration": 30,
    "start_time": "2023-07-14T09:39:02.610Z"
   },
   {
    "duration": 103,
    "start_time": "2023-07-14T09:39:02.644Z"
   },
   {
    "duration": 63,
    "start_time": "2023-07-14T09:39:02.749Z"
   },
   {
    "duration": 55,
    "start_time": "2023-07-14T09:39:02.813Z"
   },
   {
    "duration": 70,
    "start_time": "2023-07-14T09:39:02.870Z"
   },
   {
    "duration": 65,
    "start_time": "2023-07-14T09:39:02.942Z"
   },
   {
    "duration": 115,
    "start_time": "2023-07-14T09:39:03.009Z"
   },
   {
    "duration": 4,
    "start_time": "2023-07-14T09:39:03.126Z"
   },
   {
    "duration": 11,
    "start_time": "2023-07-14T09:39:03.131Z"
   },
   {
    "duration": 29,
    "start_time": "2023-07-14T09:39:03.143Z"
   },
   {
    "duration": 348,
    "start_time": "2023-07-14T09:39:03.174Z"
   },
   {
    "duration": 5,
    "start_time": "2023-07-14T09:39:03.524Z"
   },
   {
    "duration": 156,
    "start_time": "2023-07-14T09:39:03.530Z"
   },
   {
    "duration": 12,
    "start_time": "2023-07-14T09:39:03.688Z"
   },
   {
    "duration": 225,
    "start_time": "2023-07-14T09:39:03.703Z"
   },
   {
    "duration": 540,
    "start_time": "2023-07-14T09:39:03.930Z"
   },
   {
    "duration": 28,
    "start_time": "2023-07-14T09:39:04.472Z"
   },
   {
    "duration": 241,
    "start_time": "2023-07-14T09:39:04.501Z"
   },
   {
    "duration": 156,
    "start_time": "2023-07-14T09:39:04.743Z"
   },
   {
    "duration": 15,
    "start_time": "2023-07-14T09:39:04.902Z"
   },
   {
    "duration": 14,
    "start_time": "2023-07-14T09:39:04.919Z"
   },
   {
    "duration": 24,
    "start_time": "2023-07-14T09:39:04.935Z"
   },
   {
    "duration": 11,
    "start_time": "2023-07-14T09:39:04.960Z"
   },
   {
    "duration": 60,
    "start_time": "2023-07-14T09:39:04.972Z"
   },
   {
    "duration": 26,
    "start_time": "2023-07-14T09:39:05.034Z"
   },
   {
    "duration": 39,
    "start_time": "2023-07-14T09:39:05.061Z"
   },
   {
    "duration": 39,
    "start_time": "2023-07-14T09:39:05.102Z"
   },
   {
    "duration": 25,
    "start_time": "2023-07-14T09:39:05.142Z"
   },
   {
    "duration": 21,
    "start_time": "2023-07-14T09:39:05.169Z"
   },
   {
    "duration": 65,
    "start_time": "2023-07-14T09:39:05.192Z"
   },
   {
    "duration": 36,
    "start_time": "2023-07-14T09:39:05.259Z"
   },
   {
    "duration": 17,
    "start_time": "2023-07-14T09:39:05.297Z"
   },
   {
    "duration": 77,
    "start_time": "2023-07-14T09:39:05.315Z"
   },
   {
    "duration": 10,
    "start_time": "2023-07-14T09:39:05.393Z"
   },
   {
    "duration": 420,
    "start_time": "2023-07-14T09:39:05.405Z"
   },
   {
    "duration": 85,
    "start_time": "2023-07-14T09:39:05.826Z"
   },
   {
    "duration": 5,
    "start_time": "2023-07-14T09:39:05.913Z"
   },
   {
    "duration": 151,
    "start_time": "2023-07-14T09:39:05.919Z"
   },
   {
    "duration": 5,
    "start_time": "2023-07-14T09:39:06.072Z"
   },
   {
    "duration": 37,
    "start_time": "2023-07-14T09:39:06.079Z"
   },
   {
    "duration": 28,
    "start_time": "2023-07-14T09:39:06.118Z"
   },
   {
    "duration": 27,
    "start_time": "2023-07-14T09:39:06.148Z"
   },
   {
    "duration": 9,
    "start_time": "2023-07-14T09:39:06.177Z"
   },
   {
    "duration": 18,
    "start_time": "2023-07-14T09:39:06.188Z"
   },
   {
    "duration": 38,
    "start_time": "2023-07-14T09:39:06.207Z"
   },
   {
    "duration": 45,
    "start_time": "2023-07-14T09:39:06.246Z"
   },
   {
    "duration": 1219,
    "start_time": "2023-07-14T14:00:11.409Z"
   },
   {
    "duration": 176,
    "start_time": "2023-07-14T14:00:12.630Z"
   },
   {
    "duration": 5,
    "start_time": "2023-07-14T14:00:12.808Z"
   },
   {
    "duration": 151,
    "start_time": "2023-07-14T14:00:12.815Z"
   },
   {
    "duration": 4,
    "start_time": "2023-07-14T14:00:12.975Z"
   },
   {
    "duration": 13,
    "start_time": "2023-07-14T14:00:12.981Z"
   },
   {
    "duration": 149,
    "start_time": "2023-07-14T14:00:12.996Z"
   },
   {
    "duration": 31,
    "start_time": "2023-07-14T14:00:13.147Z"
   },
   {
    "duration": 18,
    "start_time": "2023-07-14T14:00:13.179Z"
   },
   {
    "duration": 117,
    "start_time": "2023-07-14T14:00:13.201Z"
   },
   {
    "duration": 71,
    "start_time": "2023-07-14T14:00:13.320Z"
   },
   {
    "duration": 66,
    "start_time": "2023-07-14T14:00:13.393Z"
   },
   {
    "duration": 71,
    "start_time": "2023-07-14T14:00:13.461Z"
   },
   {
    "duration": 80,
    "start_time": "2023-07-14T14:00:13.534Z"
   },
   {
    "duration": 133,
    "start_time": "2023-07-14T14:00:13.616Z"
   },
   {
    "duration": 4,
    "start_time": "2023-07-14T14:00:13.750Z"
   },
   {
    "duration": 24,
    "start_time": "2023-07-14T14:00:13.755Z"
   },
   {
    "duration": 44,
    "start_time": "2023-07-14T14:00:13.781Z"
   },
   {
    "duration": 382,
    "start_time": "2023-07-14T14:00:13.826Z"
   },
   {
    "duration": 5,
    "start_time": "2023-07-14T14:00:14.210Z"
   },
   {
    "duration": 239,
    "start_time": "2023-07-14T14:00:14.216Z"
   },
   {
    "duration": 9,
    "start_time": "2023-07-14T14:00:14.457Z"
   },
   {
    "duration": 242,
    "start_time": "2023-07-14T14:00:14.476Z"
   },
   {
    "duration": 645,
    "start_time": "2023-07-14T14:00:14.720Z"
   },
   {
    "duration": 26,
    "start_time": "2023-07-14T14:00:15.367Z"
   },
   {
    "duration": 296,
    "start_time": "2023-07-14T14:00:15.395Z"
   },
   {
    "duration": 167,
    "start_time": "2023-07-14T14:00:15.693Z"
   },
   {
    "duration": 18,
    "start_time": "2023-07-14T14:00:15.864Z"
   },
   {
    "duration": 20,
    "start_time": "2023-07-14T14:00:15.884Z"
   },
   {
    "duration": 32,
    "start_time": "2023-07-14T14:00:15.905Z"
   },
   {
    "duration": 12,
    "start_time": "2023-07-14T14:00:15.939Z"
   },
   {
    "duration": 57,
    "start_time": "2023-07-14T14:00:15.952Z"
   },
   {
    "duration": 26,
    "start_time": "2023-07-14T14:00:16.010Z"
   },
   {
    "duration": 17,
    "start_time": "2023-07-14T14:00:16.038Z"
   },
   {
    "duration": 39,
    "start_time": "2023-07-14T14:00:16.076Z"
   },
   {
    "duration": 26,
    "start_time": "2023-07-14T14:00:16.117Z"
   },
   {
    "duration": 6,
    "start_time": "2023-07-14T14:00:16.144Z"
   },
   {
    "duration": 72,
    "start_time": "2023-07-14T14:00:16.175Z"
   },
   {
    "duration": 54,
    "start_time": "2023-07-14T14:00:16.249Z"
   },
   {
    "duration": 16,
    "start_time": "2023-07-14T14:00:16.305Z"
   },
   {
    "duration": 87,
    "start_time": "2023-07-14T14:00:16.323Z"
   },
   {
    "duration": 11,
    "start_time": "2023-07-14T14:00:16.413Z"
   },
   {
    "duration": 710,
    "start_time": "2023-07-14T14:00:16.426Z"
   },
   {
    "duration": 63,
    "start_time": "2023-07-14T14:00:17.138Z"
   },
   {
    "duration": 5,
    "start_time": "2023-07-14T14:00:17.203Z"
   },
   {
    "duration": 146,
    "start_time": "2023-07-14T14:00:17.210Z"
   },
   {
    "duration": 6,
    "start_time": "2023-07-14T14:00:17.374Z"
   },
   {
    "duration": 10,
    "start_time": "2023-07-14T14:00:17.381Z"
   },
   {
    "duration": 20,
    "start_time": "2023-07-14T14:00:17.393Z"
   },
   {
    "duration": 9,
    "start_time": "2023-07-14T14:00:17.414Z"
   },
   {
    "duration": 5,
    "start_time": "2023-07-14T14:00:17.425Z"
   },
   {
    "duration": 15,
    "start_time": "2023-07-14T14:00:17.432Z"
   },
   {
    "duration": 37,
    "start_time": "2023-07-14T14:00:17.449Z"
   },
   {
    "duration": 9,
    "start_time": "2023-07-14T14:00:17.487Z"
   }
  ],
  "kernelspec": {
   "display_name": "Python 3 (ipykernel)",
   "language": "python",
   "name": "python3"
  },
  "language_info": {
   "codemirror_mode": {
    "name": "ipython",
    "version": 3
   },
   "file_extension": ".py",
   "mimetype": "text/x-python",
   "name": "python",
   "nbconvert_exporter": "python",
   "pygments_lexer": "ipython3",
   "version": "3.11.5"
  },
  "toc": {
   "base_numbering": 1,
   "nav_menu": {},
   "number_sections": true,
   "sideBar": true,
   "skip_h1_title": true,
   "title_cell": "Содержание",
   "title_sidebar": "Contents",
   "toc_cell": true,
   "toc_position": {
    "height": "calc(100% - 180px)",
    "left": "10px",
    "top": "150px",
    "width": "182px"
   },
   "toc_section_display": true,
   "toc_window_display": true
  },
  "varInspector": {
   "cols": {
    "lenName": 16,
    "lenType": 16,
    "lenVar": 40
   },
   "kernels_config": {
    "python": {
     "delete_cmd_postfix": "",
     "delete_cmd_prefix": "del ",
     "library": "var_list.py",
     "varRefreshCmd": "print(var_dic_list())"
    },
    "r": {
     "delete_cmd_postfix": ") ",
     "delete_cmd_prefix": "rm(",
     "library": "var_list.r",
     "varRefreshCmd": "cat(var_dic_list()) "
    }
   },
   "types_to_exclude": [
    "module",
    "function",
    "builtin_function_or_method",
    "instance",
    "_Feature"
   ],
   "window_display": false
  }
 },
 "nbformat": 4,
 "nbformat_minor": 2
}
